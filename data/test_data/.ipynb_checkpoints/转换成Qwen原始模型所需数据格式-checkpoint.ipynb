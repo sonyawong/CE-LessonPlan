{
 "cells": [
  {
   "cell_type": "code",
   "execution_count": 1,
   "id": "17ec3f59",
   "metadata": {
    "ExecuteTime": {
     "end_time": "2025-01-03T07:43:17.820635Z",
     "start_time": "2025-01-03T07:43:17.114791Z"
    }
   },
   "outputs": [],
   "source": [
    "import pandas as pd\n",
    "import json"
   ]
  },
  {
   "cell_type": "markdown",
   "id": "2f8183e3",
   "metadata": {},
   "source": [
    "# 构建预测所需数据"
   ]
  },
  {
   "cell_type": "code",
   "execution_count": 2,
   "id": "1c4f929f",
   "metadata": {
    "ExecuteTime": {
     "end_time": "2025-01-03T07:43:17.907826Z",
     "start_time": "2025-01-03T07:43:17.822321Z"
    }
   },
   "outputs": [],
   "source": [
    "test_data = pd.read_csv(\"eval_lesson_plan.csv\")"
   ]
  },
  {
   "cell_type": "code",
   "execution_count": 3,
   "id": "965d35ec",
   "metadata": {
    "ExecuteTime": {
     "end_time": "2025-01-03T07:43:18.187343Z",
     "start_time": "2025-01-03T07:43:18.169699Z"
    }
   },
   "outputs": [
    {
     "data": {
      "text/html": [
       "<div>\n",
       "<style scoped>\n",
       "    .dataframe tbody tr th:only-of-type {\n",
       "        vertical-align: middle;\n",
       "    }\n",
       "\n",
       "    .dataframe tbody tr th {\n",
       "        vertical-align: top;\n",
       "    }\n",
       "\n",
       "    .dataframe thead th {\n",
       "        text-align: right;\n",
       "    }\n",
       "</style>\n",
       "<table border=\"1\" class=\"dataframe\">\n",
       "  <thead>\n",
       "    <tr style=\"text-align: right;\">\n",
       "      <th></th>\n",
       "      <th>Unnamed: 0</th>\n",
       "      <th>lp_id</th>\n",
       "      <th>tch_mode</th>\n",
       "      <th>module</th>\n",
       "      <th>grade</th>\n",
       "      <th>subject</th>\n",
       "      <th>version</th>\n",
       "      <th>level</th>\n",
       "      <th>topic</th>\n",
       "      <th>textbook</th>\n",
       "      <th>ctxs</th>\n",
       "      <th>原始生成结果</th>\n",
       "      <th>只带教材预测结果</th>\n",
       "    </tr>\n",
       "  </thead>\n",
       "  <tbody>\n",
       "    <tr>\n",
       "      <th>0</th>\n",
       "      <td>0</td>\n",
       "      <td>教案_223059</td>\n",
       "      <td>基于问题的教学</td>\n",
       "      <td>教学内容分析</td>\n",
       "      <td>八年级上</td>\n",
       "      <td>物理</td>\n",
       "      <td>人教版</td>\n",
       "      <td>初中</td>\n",
       "      <td>第五章　透镜及其应用@@@@第4节　眼睛和眼镜</td>\n",
       "      <td>主要内容：\\n\\n眼睛\\n\\n你知道眼睛是如何看到物体的吗？眼球好像一架照相机。它的结构如图...</td>\n",
       "      <td>['&lt;h1&gt;1.眼睛结构及视物原理&lt;/h1&gt;讲述眼睛的结构、视物特点，和照相机对比异同点。\\...</td>\n",
       "      <td>本节内容是在第五章透镜及其应用的基础上，进一步探讨眼睛和眼镜的相关知识。首先，我们将介绍人眼...</td>\n",
       "      <td>本节内容是在讲解透镜及其应用的基础上，进一步深入探讨眼睛和眼镜的相关知识。首先，我们会详细解...</td>\n",
       "    </tr>\n",
       "    <tr>\n",
       "      <th>1</th>\n",
       "      <td>1</td>\n",
       "      <td>教案_223059</td>\n",
       "      <td>基于问题的教学</td>\n",
       "      <td>学情分析</td>\n",
       "      <td>八年级上</td>\n",
       "      <td>物理</td>\n",
       "      <td>人教版</td>\n",
       "      <td>初中</td>\n",
       "      <td>第五章　透镜及其应用@@@@第4节　眼睛和眼镜</td>\n",
       "      <td>主要内容：\\n\\n眼睛\\n\\n你知道眼睛是如何看到物体的吗？眼球好像一架照相机。它的结构如图...</td>\n",
       "      <td>['学生刚刚学过的凸透镜成像规律的知识为本节课的研究作了很好的铺垫。但学生对于眼球的调焦，以...</td>\n",
       "      <td>学生在前面学习了透镜的基础知识,对生活中很多光学仪器中用到的透镜有了初步的了解,但对透镜在生...</td>\n",
       "      <td>&lt;h1&gt;前置知识点&lt;/h1&gt;在学习本节课程之前，学生应已经掌握了关于光的基本知识，包括光的传...</td>\n",
       "    </tr>\n",
       "  </tbody>\n",
       "</table>\n",
       "</div>"
      ],
      "text/plain": [
       "   Unnamed: 0      lp_id tch_mode  module grade subject version level  \\\n",
       "0           0  教案_223059  基于问题的教学  教学内容分析  八年级上      物理     人教版    初中   \n",
       "1           1  教案_223059  基于问题的教学    学情分析  八年级上      物理     人教版    初中   \n",
       "\n",
       "                     topic                                           textbook  \\\n",
       "0  第五章　透镜及其应用@@@@第4节　眼睛和眼镜  主要内容：\\n\\n眼睛\\n\\n你知道眼睛是如何看到物体的吗？眼球好像一架照相机。它的结构如图...   \n",
       "1  第五章　透镜及其应用@@@@第4节　眼睛和眼镜  主要内容：\\n\\n眼睛\\n\\n你知道眼睛是如何看到物体的吗？眼球好像一架照相机。它的结构如图...   \n",
       "\n",
       "                                                ctxs  \\\n",
       "0  ['<h1>1.眼睛结构及视物原理</h1>讲述眼睛的结构、视物特点，和照相机对比异同点。\\...   \n",
       "1  ['学生刚刚学过的凸透镜成像规律的知识为本节课的研究作了很好的铺垫。但学生对于眼球的调焦，以...   \n",
       "\n",
       "                                              原始生成结果  \\\n",
       "0  本节内容是在第五章透镜及其应用的基础上，进一步探讨眼睛和眼镜的相关知识。首先，我们将介绍人眼...   \n",
       "1  学生在前面学习了透镜的基础知识,对生活中很多光学仪器中用到的透镜有了初步的了解,但对透镜在生...   \n",
       "\n",
       "                                            只带教材预测结果  \n",
       "0  本节内容是在讲解透镜及其应用的基础上，进一步深入探讨眼睛和眼镜的相关知识。首先，我们会详细解...  \n",
       "1  <h1>前置知识点</h1>在学习本节课程之前，学生应已经掌握了关于光的基本知识，包括光的传...  "
      ]
     },
     "execution_count": 3,
     "metadata": {},
     "output_type": "execute_result"
    }
   ],
   "source": [
    "test_data[:2]"
   ]
  },
  {
   "cell_type": "code",
   "execution_count": 4,
   "id": "f0a03fbf",
   "metadata": {
    "ExecuteTime": {
     "end_time": "2025-01-03T07:43:18.859277Z",
     "start_time": "2025-01-03T07:43:18.707966Z"
    }
   },
   "outputs": [],
   "source": [
    "from lp_format import *\n",
    "from qwen_prompts import *"
   ]
  },
  {
   "cell_type": "code",
   "execution_count": 5,
   "id": "09fe0def",
   "metadata": {
    "ExecuteTime": {
     "end_time": "2025-01-03T07:43:19.304044Z",
     "start_time": "2025-01-03T07:43:19.295610Z"
    }
   },
   "outputs": [],
   "source": [
    "def generate_prompt(item):\n",
    "    \n",
    "    lesson_id = item[\"lp_id\"]\n",
    "    topic = item[\"topic\"].replace(\"@@@@\", \", \")\n",
    "    level = item[\"level\"]\n",
    "    version = item[\"version\"]\n",
    "    grade = item[\"grade\"]\n",
    "    teach_mode = item[\"tch_mode\"]\n",
    "    subject = item[\"subject\"] \n",
    "    teach_stage = teaching_modes[teach_mode][\"教学环节\"]\n",
    "    lesson_info = f\"\"\"{level}_{grade}_{version}_{subject}_{topic}\"\"\"\n",
    "    module = item[\"module\"]\n",
    "\n",
    "    item_json = {\n",
    "            \"id\": lesson_id,\n",
    "            \"module\": module,\n",
    "            \"lesson_info\": lesson_info,\n",
    "            \"link\": teach_stage,\n",
    "            \"conversations\":[\n",
    "                {\n",
    "                    \"from\": \"human\",\n",
    "                    \"value\": \"\"\n",
    "                },\n",
    "                {\n",
    "                    \"from\": \"gpt\",\n",
    "                    \"value\": \"\"\n",
    "                }\n",
    "            ]\n",
    "    }\n",
    "    \n",
    "    lesson_theme = \"_\".join([level, grade, subject, version, topic])\n",
    "\n",
    "    \n",
    "    if module == \"学情分析\":\n",
    "        prompt = prompt4sla.format(lesson_theme=lesson_theme, component=module, stu_analysis=stu_analysis)\n",
    "    elif module == \"教学内容分析\":\n",
    "        prompt = prompt4ta.format(lesson_theme=lesson_theme, component=module, teach_textbook=teach_textbook)\n",
    "    elif module == \"教学评价\":\n",
    "        prompt = prompt4am.format(lesson_theme=lesson_theme, component=module, teach_assess=teach_assess)\n",
    "    elif module == \"教学重难点\":\n",
    "        prompt = prompt4kdp.format(lesson_theme=lesson_theme, component=module, keyPoint_example=keyPoint_example)\n",
    "    elif module == \"教学目标\":\n",
    "        prompt = prompt4lo.format(lesson_theme=lesson_theme, component=module, teach_goal=teach_goal)\n",
    "    elif module == \"教学准备\":\n",
    "        prompt = prompt4mat.format(lesson_theme=lesson_theme, component=module, materials_example=materials_example)\n",
    "    else:\n",
    "        links = item_json[\"link\"]\n",
    "        prompt = prompt4lp.format(lesson_theme=lesson_theme, component=module, links=links, activity=activity, process_example=process_example)\n",
    "    \n",
    "    item_json[\"conversations\"][0][\"value\"] = prompt\n",
    "    \n",
    "    return item_json"
   ]
  },
  {
   "cell_type": "code",
   "execution_count": 6,
   "id": "57982aa7",
   "metadata": {
    "ExecuteTime": {
     "end_time": "2025-01-03T07:43:20.031147Z",
     "start_time": "2025-01-03T07:43:19.885357Z"
    }
   },
   "outputs": [],
   "source": [
    "all_data = []\n",
    "\n",
    "for i,row in test_data.iterrows():\n",
    "    one_data = generate_prompt(row)\n",
    "    all_data.append(one_data)"
   ]
  },
  {
   "cell_type": "code",
   "execution_count": 14,
   "id": "15a24f7e",
   "metadata": {
    "ExecuteTime": {
     "end_time": "2025-01-03T07:55:03.049808Z",
     "start_time": "2025-01-03T07:55:02.954686Z"
    }
   },
   "outputs": [],
   "source": [
    "with open(\"eval_lesson_plan_0103_qwen.json\",\"w\", encoding=\"utf-8\") as f:\n",
    "    json.dump(all_data, f, ensure_ascii=False, indent=4)"
   ]
  },
  {
   "cell_type": "markdown",
   "id": "ce23fdef",
   "metadata": {},
   "source": [
    "# 读取预测结果"
   ]
  },
  {
   "cell_type": "code",
   "execution_count": 1,
   "id": "a3a6f90b",
   "metadata": {
    "ExecuteTime": {
     "end_time": "2025-01-08T06:35:33.991470Z",
     "start_time": "2025-01-08T06:35:33.985481Z"
    }
   },
   "outputs": [],
   "source": [
    "import json"
   ]
  },
  {
   "cell_type": "code",
   "execution_count": 2,
   "id": "06dfb19e",
   "metadata": {
    "ExecuteTime": {
     "end_time": "2025-01-08T06:35:34.097245Z",
     "start_time": "2025-01-08T06:35:34.019983Z"
    }
   },
   "outputs": [],
   "source": [
    "qwen_outputs = []\n",
    "\n",
    "with open(\"/mnt/pfs_yq/zitao_team/shuyanwong/FaviComp/data/eval_lesson_plan_0103_qwen_outputs.jsonl\",\"r\") as f:\n",
    "    pred_data = json.load(f)\n",
    "    \n",
    "    for one_data in pred_data:\n",
    "        qwen_outputs.append(one_data[\"conversations\"][1][\"value\"])"
   ]
  },
  {
   "cell_type": "code",
   "execution_count": 3,
   "id": "9723d93e",
   "metadata": {
    "ExecuteTime": {
     "end_time": "2025-01-08T06:35:35.322061Z",
     "start_time": "2025-01-08T06:35:34.562968Z"
    }
   },
   "outputs": [],
   "source": [
    "import pandas as pd"
   ]
  },
  {
   "cell_type": "code",
   "execution_count": 4,
   "id": "7e341436",
   "metadata": {
    "ExecuteTime": {
     "end_time": "2025-01-08T06:35:35.411398Z",
     "start_time": "2025-01-08T06:35:35.324187Z"
    }
   },
   "outputs": [],
   "source": [
    "df = pd.read_csv(\"/mnt/pfs_yq/zitao_team/shuyanwong/FaviComp/data/eval_lesson_plan.csv\")"
   ]
  },
  {
   "cell_type": "code",
   "execution_count": 5,
   "id": "3844d35c",
   "metadata": {
    "ExecuteTime": {
     "end_time": "2025-01-08T06:35:35.766429Z",
     "start_time": "2025-01-08T06:35:35.733813Z"
    }
   },
   "outputs": [],
   "source": [
    "teaching_mode_df = pd.read_csv(\"/mnt/pfs_yq/zitao_team/shuyanwong/FaviComp/prompts/teach_mode_info.csv\")"
   ]
  },
  {
   "cell_type": "code",
   "execution_count": 7,
   "id": "6cfe2a49",
   "metadata": {
    "ExecuteTime": {
     "end_time": "2025-01-08T06:35:38.098944Z",
     "start_time": "2025-01-08T06:35:38.094206Z"
    }
   },
   "outputs": [],
   "source": [
    "df[\"qwen_outputs\"] = qwen_outputs"
   ]
  },
  {
   "cell_type": "code",
   "execution_count": 8,
   "id": "69557407",
   "metadata": {
    "ExecuteTime": {
     "end_time": "2025-01-08T06:35:39.504580Z",
     "start_time": "2025-01-08T06:35:38.834700Z"
    }
   },
   "outputs": [],
   "source": [
    "lesson_info, qwen_results = [], []\n",
    "\n",
    "for i,row in df.iterrows():\n",
    "    qwen_results.append(row[\"module\"]+\"\\n\"+row[\"qwen_outputs\"])\n",
    "    \n",
    "    stages = teaching_mode_df[teaching_mode_df[\"教学模式（新名称）\"]==row[\"tch_mode\"]].iloc[0][\"教学环节\"]\n",
    "    lesson_info.append(\"_\".join([row[\"level\"], row[\"grade\"], row[\"version\"], row[\"subject\"], row[\"topic\"].replace(\"@@@@\",\", \")])+\"\\n\\n\"+stages)"
   ]
  },
  {
   "cell_type": "code",
   "execution_count": 9,
   "id": "5032229b",
   "metadata": {
    "ExecuteTime": {
     "end_time": "2025-01-08T06:35:39.509357Z",
     "start_time": "2025-01-08T06:35:39.506168Z"
    }
   },
   "outputs": [],
   "source": [
    "df[\"lesson_info\"] = lesson_info\n",
    "df[\"qwen_results\"] = qwen_results"
   ]
  },
  {
   "cell_type": "code",
   "execution_count": 10,
   "id": "f55a33d6",
   "metadata": {
    "ExecuteTime": {
     "end_time": "2025-01-08T06:35:47.381697Z",
     "start_time": "2025-01-08T06:35:47.364035Z"
    }
   },
   "outputs": [],
   "source": [
    "# 定义一个自定义的聚合函数，用于合并字符串\n",
    "def merge_strings(series):\n",
    "    return '\\n\\n'.join(series)\n",
    "\n",
    "# 使用groupby和agg方法对每个组进行合并\n",
    "merged_df = df.groupby('lp_id').agg({\n",
    "    'qwen_results': merge_strings,\n",
    "    'lesson_info': 'first', \n",
    "    'subject': 'first'\n",
    "}).reset_index()"
   ]
  },
  {
   "cell_type": "code",
   "execution_count": 11,
   "id": "77f3a9d4",
   "metadata": {
    "ExecuteTime": {
     "end_time": "2025-01-08T06:35:56.620605Z",
     "start_time": "2025-01-08T06:35:56.613256Z"
    }
   },
   "outputs": [
    {
     "data": {
      "text/html": [
       "<div>\n",
       "<style scoped>\n",
       "    .dataframe tbody tr th:only-of-type {\n",
       "        vertical-align: middle;\n",
       "    }\n",
       "\n",
       "    .dataframe tbody tr th {\n",
       "        vertical-align: top;\n",
       "    }\n",
       "\n",
       "    .dataframe thead th {\n",
       "        text-align: right;\n",
       "    }\n",
       "</style>\n",
       "<table border=\"1\" class=\"dataframe\">\n",
       "  <thead>\n",
       "    <tr style=\"text-align: right;\">\n",
       "      <th></th>\n",
       "      <th>lp_id</th>\n",
       "      <th>qwen_results</th>\n",
       "      <th>lesson_info</th>\n",
       "      <th>subject</th>\n",
       "    </tr>\n",
       "  </thead>\n",
       "  <tbody>\n",
       "    <tr>\n",
       "      <th>0</th>\n",
       "      <td>教案_147709</td>\n",
       "      <td>教学内容分析\\n第十一章 功和机械能\\n\\n第4节 机械能及其转化\\n\\n教学内容分析：\\n...</td>\n",
       "      <td>初中_八年级下册_人教版_物理_第十一章  功和机械能, 第4节  机械能及其转化\\n\\n情...</td>\n",
       "      <td>物理</td>\n",
       "    </tr>\n",
       "    <tr>\n",
       "      <th>1</th>\n",
       "      <td>教案_147714</td>\n",
       "      <td>教学内容分析\\n**教学内容分析：**\\n\\n本课是八年级下册物理人教版第十一章功和机械能的...</td>\n",
       "      <td>初中_八年级下册_人教版_物理_第十一章  功和机械能, 第4节  机械能及其转化\\n\\n情...</td>\n",
       "      <td>物理</td>\n",
       "    </tr>\n",
       "  </tbody>\n",
       "</table>\n",
       "</div>"
      ],
      "text/plain": [
       "       lp_id                                       qwen_results  \\\n",
       "0  教案_147709  教学内容分析\\n第十一章 功和机械能\\n\\n第4节 机械能及其转化\\n\\n教学内容分析：\\n...   \n",
       "1  教案_147714  教学内容分析\\n**教学内容分析：**\\n\\n本课是八年级下册物理人教版第十一章功和机械能的...   \n",
       "\n",
       "                                         lesson_info subject  \n",
       "0  初中_八年级下册_人教版_物理_第十一章  功和机械能, 第4节  机械能及其转化\\n\\n情...      物理  \n",
       "1  初中_八年级下册_人教版_物理_第十一章  功和机械能, 第4节  机械能及其转化\\n\\n情...      物理  "
      ]
     },
     "execution_count": 11,
     "metadata": {},
     "output_type": "execute_result"
    }
   ],
   "source": [
    "merged_df[:2]"
   ]
  },
  {
   "cell_type": "code",
   "execution_count": 12,
   "id": "256c2898",
   "metadata": {
    "ExecuteTime": {
     "end_time": "2025-01-08T06:36:28.781788Z",
     "start_time": "2025-01-08T06:36:28.779163Z"
    }
   },
   "outputs": [],
   "source": [
    "pred_df = merged_df"
   ]
  },
  {
   "cell_type": "code",
   "execution_count": 14,
   "id": "7788681b",
   "metadata": {
    "ExecuteTime": {
     "end_time": "2025-01-08T06:37:42.959898Z",
     "start_time": "2025-01-08T06:37:41.166188Z"
    }
   },
   "outputs": [],
   "source": [
    "import os\n",
    "\n",
    "os.mkdir(\"anno_data/qwen\")"
   ]
  },
  {
   "cell_type": "code",
   "execution_count": 15,
   "id": "b2dce74d",
   "metadata": {
    "ExecuteTime": {
     "end_time": "2025-01-08T06:37:55.537009Z",
     "start_time": "2025-01-08T06:37:52.465389Z"
    }
   },
   "outputs": [],
   "source": [
    "for subject in [\"英语\",\"物理\",\"化学\",\"科学\"]:\n",
    "    sub_df = pred_df[pred_df[\"subject\"]==subject]\n",
    "    \n",
    "    if subject in [\"英语\", \"物理\"]:\n",
    "        with open(f\"select_ids({subject}).txt\",\"r\") as f:\n",
    "            select_ids = f.readlines()\n",
    "            select_ids = [x.strip(\"\\n\") for x in select_ids]\n",
    "        select_df = sub_df[sub_df[\"lp_id\"].isin(select_ids)]\n",
    "    else:\n",
    "        select_df = sub_df\n",
    "        \n",
    "        # 重置索引，丢弃旧的索引\n",
    "    select_df_reset = select_df.reset_index(drop=True)\n",
    "    select_df_reset.index = select_df_reset.index+1\n",
    "    \n",
    "    for i,col in enumerate([\"qwen_results\"]):\n",
    "        select_df_reset[[\"lp_id\", \"lesson_info\", \"qwen_results\"]].to_csv(f\"anno_data/qwen/qwen {subject}.csv\", index_label=\"index\")\n",
    "            "
   ]
  },
  {
   "cell_type": "markdown",
   "id": "4cf63764",
   "metadata": {},
   "source": [
    "## favicomp"
   ]
  }
 ],
 "metadata": {
  "kernelspec": {
   "display_name": "Python 3 (ipykernel)",
   "language": "python",
   "name": "python3"
  },
  "language_info": {
   "codemirror_mode": {
    "name": "ipython",
    "version": 3
   },
   "file_extension": ".py",
   "mimetype": "text/x-python",
   "name": "python",
   "nbconvert_exporter": "python",
   "pygments_lexer": "ipython3",
   "version": "3.6.5"
  },
  "toc": {
   "base_numbering": 1,
   "nav_menu": {},
   "number_sections": true,
   "sideBar": true,
   "skip_h1_title": false,
   "title_cell": "Table of Contents",
   "title_sidebar": "Contents",
   "toc_cell": false,
   "toc_position": {},
   "toc_section_display": true,
   "toc_window_display": false
  }
 },
 "nbformat": 4,
 "nbformat_minor": 5
}
