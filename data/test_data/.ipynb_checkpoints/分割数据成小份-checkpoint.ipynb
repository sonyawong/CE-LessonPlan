{
 "cells": [
  {
   "cell_type": "code",
   "execution_count": 1,
   "id": "ff4d9ec5",
   "metadata": {
    "ExecuteTime": {
     "end_time": "2025-01-22T02:38:44.096134Z",
     "start_time": "2025-01-22T02:38:43.138189Z"
    }
   },
   "outputs": [],
   "source": [
    "import pandas as pd\n",
    "import json"
   ]
  },
  {
   "cell_type": "markdown",
   "id": "83080af0",
   "metadata": {
    "ExecuteTime": {
     "end_time": "2025-01-06T02:15:56.579238Z",
     "start_time": "2025-01-06T02:15:56.577263Z"
    },
    "heading_collapsed": true
   },
   "source": [
    "# 将数据分割成小份"
   ]
  },
  {
   "cell_type": "code",
   "execution_count": 2,
   "id": "143835bc",
   "metadata": {
    "ExecuteTime": {
     "end_time": "2025-01-06T03:03:52.435607Z",
     "start_time": "2025-01-06T03:03:52.340888Z"
    },
    "hidden": true
   },
   "outputs": [],
   "source": [
    "df = pd.read_json(\"eval_lesson_plan_1227.jsonl\", lines=True)"
   ]
  },
  {
   "cell_type": "code",
   "execution_count": 3,
   "id": "b90eb9e8",
   "metadata": {
    "ExecuteTime": {
     "end_time": "2025-01-06T03:03:53.137137Z",
     "start_time": "2025-01-06T03:03:53.134920Z"
    },
    "hidden": true
   },
   "outputs": [],
   "source": [
    "import numpy as np"
   ]
  },
  {
   "cell_type": "code",
   "execution_count": 4,
   "id": "aa2287b6",
   "metadata": {
    "ExecuteTime": {
     "end_time": "2025-01-06T03:03:56.670655Z",
     "start_time": "2025-01-06T03:03:56.665680Z"
    },
    "hidden": true
   },
   "outputs": [],
   "source": [
    "df_split = np.array_split(df, 20)"
   ]
  },
  {
   "cell_type": "code",
   "execution_count": 5,
   "id": "5df53b7c",
   "metadata": {
    "ExecuteTime": {
     "end_time": "2025-01-06T03:03:59.426104Z",
     "start_time": "2025-01-06T03:03:58.248144Z"
    },
    "hidden": true
   },
   "outputs": [],
   "source": [
    "for i, sub_df in enumerate(df_split):\n",
    "    sub_df.to_json(f\"./test_data/eval_lesson_plan_1227_{i+1}.jsonl\", orient=\"records\", lines=True, force_ascii=False)"
   ]
  },
  {
   "cell_type": "markdown",
   "id": "f39698f2",
   "metadata": {},
   "source": [
    "# 整合预测结果"
   ]
  },
  {
   "cell_type": "code",
   "execution_count": 2,
   "id": "fc065c40",
   "metadata": {
    "ExecuteTime": {
     "end_time": "2025-01-22T02:38:44.409379Z",
     "start_time": "2025-01-22T02:38:44.406056Z"
    }
   },
   "outputs": [],
   "source": [
    "import os"
   ]
  },
  {
   "cell_type": "code",
   "execution_count": 3,
   "id": "18166855",
   "metadata": {
    "ExecuteTime": {
     "end_time": "2025-01-22T02:40:09.717556Z",
     "start_time": "2025-01-22T02:40:09.715339Z"
    }
   },
   "outputs": [],
   "source": [
    "output_dir = \"/mnt/pfs_yq/zitao_team/shuyanwong/FaviComp/outputs/checkpoint-900\""
   ]
  },
  {
   "cell_type": "code",
   "execution_count": 4,
   "id": "ddbf999f",
   "metadata": {
    "ExecuteTime": {
     "end_time": "2025-01-22T02:40:10.395363Z",
     "start_time": "2025-01-22T02:40:10.385167Z"
    }
   },
   "outputs": [],
   "source": [
    "pred_files = os.listdir(output_dir)"
   ]
  },
  {
   "cell_type": "code",
   "execution_count": 17,
   "id": "64d83432",
   "metadata": {
    "ExecuteTime": {
     "end_time": "2025-01-22T02:43:46.499764Z",
     "start_time": "2025-01-22T02:43:46.027831Z"
    }
   },
   "outputs": [],
   "source": [
    "all_data = []\n",
    "\n",
    "all_data_dict = dict()\n",
    "\n",
    "for i in range(20):\n",
    "    with open(os.path.join(output_dir, f\"checkpoint-900_k5_a0.8_eval_lesson_plan_1227_{i+1}.json\"),\"r\") as f:\n",
    "        cnt = 0\n",
    "        for line in f:\n",
    "            line = json.loads(line)\n",
    "            all_data.append(line[\"gen_ctx\"])\n",
    "            all_data_dict[line[\"id\"]+\"_\"+line[\"module\"]] = line[\"gen_ctx\"]\n",
    "            cnt += 1\n",
    "        if cnt != 70:\n",
    "            print(i)"
   ]
  },
  {
   "cell_type": "code",
   "execution_count": 18,
   "id": "67c31c7e",
   "metadata": {
    "ExecuteTime": {
     "end_time": "2025-01-22T02:43:48.294147Z",
     "start_time": "2025-01-22T02:43:48.290800Z"
    }
   },
   "outputs": [
    {
     "data": {
      "text/plain": [
       "(1400, 1400)"
      ]
     },
     "execution_count": 18,
     "metadata": {},
     "output_type": "execute_result"
    }
   ],
   "source": [
    "len(all_data), len(all_data_dict)"
   ]
  },
  {
   "cell_type": "code",
   "execution_count": 42,
   "id": "158b81c2",
   "metadata": {
    "ExecuteTime": {
     "end_time": "2025-01-22T02:45:49.365969Z",
     "start_time": "2025-01-22T02:45:49.363781Z"
    }
   },
   "outputs": [],
   "source": [
    "import random\n",
    "\n",
    "random_id = random.sample(list(all_data_dict.keys()),k=1)"
   ]
  },
  {
   "cell_type": "code",
   "execution_count": 43,
   "id": "31a6026f",
   "metadata": {
    "ExecuteTime": {
     "end_time": "2025-01-22T02:45:50.030083Z",
     "start_time": "2025-01-22T02:45:50.027243Z"
    }
   },
   "outputs": [
    {
     "data": {
      "text/plain": [
       "'\\n\\n本节内容是在九年级全一册的英语课程中，我们将学习Unit 5 \"What are the shirts made of\"的Section B 1a—1e部分。在这一部分，我们将通过一系列的听力和口语练习，来学习和掌握关于衣物制作材料的英语表达。首先，我们会通过写下来一些制作风筝的材料，来引导学生思考和表达关于衣物制作材料的英语词汇。然后，我们会通过听力练习，让学生了解和掌握关于衣物制作材料的英语表达。最后，我们会通过角色扮演的活动，让学生运用所学知识，进行实际的口语交流。'"
      ]
     },
     "execution_count": 43,
     "metadata": {},
     "output_type": "execute_result"
    }
   ],
   "source": [
    "all_data_dict[random_id[0]]"
   ]
  },
  {
   "cell_type": "code",
   "execution_count": 45,
   "id": "816a47b2",
   "metadata": {
    "ExecuteTime": {
     "end_time": "2025-01-22T02:47:41.934435Z",
     "start_time": "2025-01-22T02:47:41.931417Z"
    }
   },
   "outputs": [
    {
     "data": {
      "text/plain": [
       "dict"
      ]
     },
     "execution_count": 45,
     "metadata": {},
     "output_type": "execute_result"
    }
   ],
   "source": [
    "type(all_data_dict)"
   ]
  },
  {
   "cell_type": "code",
   "execution_count": 46,
   "id": "43bc4eb5",
   "metadata": {
    "ExecuteTime": {
     "end_time": "2025-01-22T02:49:15.730341Z",
     "start_time": "2025-01-22T02:49:15.610956Z"
    }
   },
   "outputs": [],
   "source": [
    "with open(os.path.join(output_dir, f\"checkpoint-900_k5_a0.8_eval_lesson_plan_1227_merge.json\"),\"w\") as f:\n",
    "    json.dump(all_data_dict,f,ensure_ascii=False,indent=4)"
   ]
  },
  {
   "cell_type": "markdown",
   "id": "3ef17923",
   "metadata": {
    "ExecuteTime": {
     "end_time": "2025-01-06T02:22:13.155740Z",
     "start_time": "2025-01-06T02:22:13.136800Z"
    }
   },
   "source": [
    "# 构建数据格式"
   ]
  },
  {
   "cell_type": "code",
   "execution_count": 7,
   "id": "3f87ffc6",
   "metadata": {
    "ExecuteTime": {
     "end_time": "2025-01-22T02:40:24.489027Z",
     "start_time": "2025-01-22T02:40:24.486978Z"
    }
   },
   "outputs": [],
   "source": [
    "import pandas as pd"
   ]
  },
  {
   "cell_type": "code",
   "execution_count": 10,
   "id": "bc003432",
   "metadata": {
    "ExecuteTime": {
     "end_time": "2025-01-16T16:29:38.169203Z",
     "start_time": "2025-01-16T16:29:38.102553Z"
    }
   },
   "outputs": [],
   "source": [
    "teaching_mode_df = pd.read_csv(\"/mnt/pfs_yq/zitao_team/shuyanwong/FaviComp/prompts/teach_mode_info.csv\")"
   ]
  },
  {
   "cell_type": "code",
   "execution_count": 11,
   "id": "cd41b034",
   "metadata": {
    "ExecuteTime": {
     "end_time": "2025-01-16T16:29:39.213827Z",
     "start_time": "2025-01-16T16:29:38.977908Z"
    }
   },
   "outputs": [
    {
     "data": {
      "text/html": [
       "<div>\n",
       "<style scoped>\n",
       "    .dataframe tbody tr th:only-of-type {\n",
       "        vertical-align: middle;\n",
       "    }\n",
       "\n",
       "    .dataframe tbody tr th {\n",
       "        vertical-align: top;\n",
       "    }\n",
       "\n",
       "    .dataframe thead th {\n",
       "        text-align: right;\n",
       "    }\n",
       "</style>\n",
       "<table border=\"1\" class=\"dataframe\">\n",
       "  <thead>\n",
       "    <tr style=\"text-align: right;\">\n",
       "      <th></th>\n",
       "      <th>lp_id</th>\n",
       "      <th>tch_mode</th>\n",
       "      <th>module</th>\n",
       "      <th>grade</th>\n",
       "      <th>subject</th>\n",
       "      <th>version</th>\n",
       "      <th>level</th>\n",
       "      <th>topic</th>\n",
       "      <th>textbook</th>\n",
       "      <th>ctxs</th>\n",
       "    </tr>\n",
       "  </thead>\n",
       "  <tbody>\n",
       "    <tr>\n",
       "      <th>0</th>\n",
       "      <td>教案_223059</td>\n",
       "      <td>基于问题的教学</td>\n",
       "      <td>教学内容分析</td>\n",
       "      <td>八年级上</td>\n",
       "      <td>物理</td>\n",
       "      <td>人教版</td>\n",
       "      <td>初中</td>\n",
       "      <td>第五章　透镜及其应用@@@@第4节　眼睛和眼镜</td>\n",
       "      <td>主要内容：\\n\\n眼睛\\n\\n你知道眼睛是如何看到物体的吗？眼球好像一架照相机。它的结构如图...</td>\n",
       "      <td>[&lt;h1&gt;1.眼睛结构及视物原理&lt;/h1&gt;讲述眼睛的结构、视物特点，和照相机对比异同点。\\n...</td>\n",
       "    </tr>\n",
       "    <tr>\n",
       "      <th>1</th>\n",
       "      <td>教案_223059</td>\n",
       "      <td>基于问题的教学</td>\n",
       "      <td>学情分析</td>\n",
       "      <td>八年级上</td>\n",
       "      <td>物理</td>\n",
       "      <td>人教版</td>\n",
       "      <td>初中</td>\n",
       "      <td>第五章　透镜及其应用@@@@第4节　眼睛和眼镜</td>\n",
       "      <td>主要内容：\\n\\n眼睛\\n\\n你知道眼睛是如何看到物体的吗？眼球好像一架照相机。它的结构如图...</td>\n",
       "      <td>[学生刚刚学过的凸透镜成像规律的知识为本节课的研究作了很好的铺垫。但学生对于眼球的调焦，以及...</td>\n",
       "    </tr>\n",
       "  </tbody>\n",
       "</table>\n",
       "</div>"
      ],
      "text/plain": [
       "       lp_id tch_mode  module grade subject version level   \n",
       "0  教案_223059  基于问题的教学  教学内容分析  八年级上      物理     人教版    初中  \\\n",
       "1  教案_223059  基于问题的教学    学情分析  八年级上      物理     人教版    初中   \n",
       "\n",
       "                     topic                                           textbook   \n",
       "0  第五章　透镜及其应用@@@@第4节　眼睛和眼镜  主要内容：\\n\\n眼睛\\n\\n你知道眼睛是如何看到物体的吗？眼球好像一架照相机。它的结构如图...  \\\n",
       "1  第五章　透镜及其应用@@@@第4节　眼睛和眼镜  主要内容：\\n\\n眼睛\\n\\n你知道眼睛是如何看到物体的吗？眼球好像一架照相机。它的结构如图...   \n",
       "\n",
       "                                                ctxs  \n",
       "0  [<h1>1.眼睛结构及视物原理</h1>讲述眼睛的结构、视物特点，和照相机对比异同点。\\n...  \n",
       "1  [学生刚刚学过的凸透镜成像规律的知识为本节课的研究作了很好的铺垫。但学生对于眼球的调焦，以及...  "
      ]
     },
     "execution_count": 11,
     "metadata": {},
     "output_type": "execute_result"
    }
   ],
   "source": [
    "df = pd.read_json(\"eval_lesson_plan_1227.jsonl\", lines=True)\n",
    "df[:2]"
   ]
  },
  {
   "cell_type": "code",
   "execution_count": 12,
   "id": "5c4bbcf5",
   "metadata": {
    "ExecuteTime": {
     "end_time": "2025-01-16T16:29:40.803424Z",
     "start_time": "2025-01-16T16:29:40.799786Z"
    }
   },
   "outputs": [],
   "source": [
    "def load_prompt(\n",
    "    prompt_name,\n",
    "    prompt_path=\"../prompts/\",\n",
    "):\n",
    "    task_prompt = open(f\"{prompt_path}{prompt_name}.md\", \"r\").read()\n",
    "    return task_prompt"
   ]
  },
  {
   "cell_type": "code",
   "execution_count": 13,
   "id": "25343569",
   "metadata": {
    "ExecuteTime": {
     "end_time": "2025-01-16T16:29:43.589217Z",
     "start_time": "2025-01-16T16:29:43.527948Z"
    }
   },
   "outputs": [],
   "source": [
    "def generate_question(data, teaching_mode_df):\n",
    "    \n",
    "    item_json = {\n",
    "            \"id\": data[\"lp_id\"],\n",
    "            \"module\": data[\"module\"],\n",
    "            \"tch_mode\": data[\"tch_mode\"],\n",
    "            \"lesson_info\": \"_\".join([data[\"grade\"], data[\"subject\"], data[\"version\"], data[\"level\"], data[\"topic\"].replace(\"@@@@\",\"_\")]),\n",
    "            \"conversations\":[\n",
    "                {\n",
    "                    \"from\": \"human\",\n",
    "                    \"value\": \"\"\n",
    "                },\n",
    "                {\n",
    "                    \"from\": \"gpt\",\n",
    "                    \"value\": \"\"\n",
    "                }\n",
    "            ]\n",
    "    }\n",
    "    \n",
    "    teaching_mode_info = teaching_mode_df[teaching_mode_df[\"教学模式（新名称）\"]==row[\"tch_mode\"]].iloc[0]\n",
    "    \n",
    "    if len(data[\"topic\"].strip().split(\"@@@@\")) == 1:\n",
    "        first_lesson, second_lesson, kcs = data[\"topic\"].split(\"@@@@\")[0], \"\", \"\"\n",
    "    elif len(data[\"topic\"].strip().split(\"@@@@\")) == 2:\n",
    "        first_lesson, second_lesson, kcs = data[\"topic\"].split(\"@@@@\")[0], data[\"topic\"].split(\"@@@@\")[1], \"\"\n",
    "    else:\n",
    "        first_lesson, second_lesson = data[\"topic\"].split(\"@@@@\")[0], data[\"topic\"].split(\"@@@@\")[1]\n",
    "        kcs = \",\".join(data[\"topic\"].split(\"@@@@\")[2:])\n",
    "    \n",
    "    \n",
    "    task_prompt_system = load_prompt(\"plan_generator_first_system\")\n",
    "    task_prompt_template = load_prompt(\"plan_generator_first_template\")\n",
    "    \n",
    "    task_prompt_template = task_prompt_template.format(\n",
    "        data[\"subject\"],\n",
    "        data[\"module\"],\n",
    "        data[\"level\"],\n",
    "        data[\"version\"],\n",
    "        data[\"grade\"],\n",
    "        first_lesson,\n",
    "        second_lesson,\n",
    "        kcs,\n",
    "        row[\"tch_mode\"],\n",
    "        teaching_mode_info[\"模式简介\"],\n",
    "        teaching_mode_info[\"教学环节\"],\n",
    "        data[\"gen_ctx\"].strip(\"\\n\")\n",
    "    )\n",
    "    \n",
    "    \n",
    "#     task_prompt_system = load_prompt(\"plan_generator_with_textbook_system\")\n",
    "#     task_prompt_template = load_prompt(\"plan_generator_with_textbook_template\")\n",
    "    \n",
    "#     task_prompt_template = task_prompt_template.format(\n",
    "#         data[\"subject\"],\n",
    "#         data[\"module\"],\n",
    "#         data[\"level\"],\n",
    "#         data[\"version\"],\n",
    "#         data[\"grade\"],\n",
    "#         first_lesson,\n",
    "#         second_lesson,\n",
    "#         kcs,\n",
    "#         row[\"tch_mode\"],\n",
    "#         teaching_mode_info[\"模式简介\"],\n",
    "#         teaching_mode_info[\"教学环节\"],\n",
    "#         data[\"textbook\"],\n",
    "#         data[\"gen_ctx\"].strip(\"\\n\")\n",
    "#     )\n",
    "    \n",
    "    question = f\"<Action> generate_module </Action>\\n<system start>\\n{task_prompt_system}<system end>\\n<input start>\\n{task_prompt_template}<input end>\"\n",
    "    \n",
    "    item_json[\"textbook\"] = data[\"textbook\"]\n",
    "    item_json[\"compress_content\"] = data[\"ctxs\"]\n",
    "    item_json[\"gen_ctx\"] = data[\"gen_ctx\"]\n",
    "    \n",
    "    item_json[\"conversations\"][0][\"value\"] = question\n",
    "    \n",
    "    return item_json"
   ]
  },
  {
   "cell_type": "code",
   "execution_count": 14,
   "id": "9c2824d8",
   "metadata": {
    "ExecuteTime": {
     "end_time": "2025-01-16T16:29:44.133806Z",
     "start_time": "2025-01-16T16:29:44.130752Z"
    }
   },
   "outputs": [],
   "source": [
    "df[\"gen_ctx\"] = all_data"
   ]
  },
  {
   "cell_type": "code",
   "execution_count": 15,
   "id": "a30828a3",
   "metadata": {
    "ExecuteTime": {
     "end_time": "2025-01-16T16:30:51.355444Z",
     "start_time": "2025-01-16T16:29:44.773170Z"
    }
   },
   "outputs": [],
   "source": [
    "all_json = []\n",
    "\n",
    "for i,row in df.iterrows():\n",
    "    one_data = generate_question(row, teaching_mode_df)\n",
    "    all_json.append(one_data)"
   ]
  },
  {
   "cell_type": "code",
   "execution_count": 16,
   "id": "aa29a1d9",
   "metadata": {
    "ExecuteTime": {
     "end_time": "2025-01-16T16:30:51.361769Z",
     "start_time": "2025-01-16T16:30:51.357487Z"
    }
   },
   "outputs": [
    {
     "data": {
      "text/plain": [
       "{'id': '教案_175652',\n",
       " 'module': '教学过程',\n",
       " 'tch_mode': '自学——辅导教学',\n",
       " 'lesson_info': '九年级下册（2013）_物理_教科版_初中_第十一章 物理学与能源技术_4.核能',\n",
       " 'conversations': [{'from': 'human',\n",
       "   'value': '<Action> generate_module </Action>\\n<system start>\\n您现在是一名`{科目}`学科专家，多次获得教学设计一等奖，您正在编写教学设计中的`{模块}`。您的工作是根据我提供的教学信息输出对应内容。教学信息如下：\\n学段：`{学段}`\\n学科：`{科目}`\\n教材版本：`{教材版本}`\\n年级：`{年级}`\\n章节：`{章节}`\\n课程名：`{课程名}`\\n本节课包括的知识点：`{知识点}`\\n教学模式：`{教学模式}`\\n教学模式简介：`{教学模式简介}`\\n教学环节：`{教学环节}`\\n\\n## 要求\\n\\n- 只需要给出`{模块}`的具体内容,例如`{示例}`\\n- “教学过程”的设计需要包含多个“教学环节”, 您需要参考以上提供的“教学环节”信息给出“教学过程”的内容, 但不一定要覆盖所有“教学环节”。\\n<system end>\\n<input start>\\n## 科目\\n\\n```\\n物理\\n```\\n\\n## 模块\\n\\n```\\n教学过程\\n```\\n\\n## 学段\\n\\n```\\n初中\\n```\\n\\n## 教材版本\\n\\n```\\n教科版\\n```\\n\\n## 年级\\n\\n```\\n九年级下册（2013）\\n```\\n\\n## 章节\\n\\n```\\n第十一章 物理学与能源技术\\n```\\n\\n## 课程名\\n\\n```\\n4.核能\\n```\\n\\n## 知识点\\n\\n```\\n\\n```\\n\\n\\n## 教学模式\\n\\n```\\n自学——辅导教学\\n```\\n\\n## 教学模式简介\\n\\n```\\n该模式有助于发挥学生的主体性，以培养学生的学习能力为目标。\\xa0先让学生独立学习，然后根据学生的具体情况教师进行指导。重视学生在学习过程中试错的机会和价值，培养学生独立思考和学会学习的能力。\\n```\\n\\n## 教学环节\\n\\n```\\n告知学生目标;自主学习;讨论交流;启发指导;课堂总结;练习巩固\\n```\\n\\n## 示例\\n\\n```\\n<h1>一、告知学生目标（5min）</h1>\\n<h2>1. 明确学习目标</h2>\\n师：同学们，今天我们来学习第十一章的第四节——核能。通过这节课的学习，希望大家能够了解原子核的结构、核裂变和核聚变的基本原理，以及核能在实际中的应用和安全问题。\\n生：好的，老师。\\n师：首先，我们来看一下这节课的学习目标。第一，了解原子核的组成和结构；第二，理解核裂变和核聚变的过程；第三，了解核能的应用和安全问题。\\n生：明白了，老师。\\n师：大家有没有什么疑问？\\n生：老师，原子核是由什么组成的？\\n师：非常好的问题。原子核是由质子和中子组成的，它们通过核力紧密地结合在一起。我们会在接下来的学习中详细讨论。\\n生：老师，核裂变和核聚变有什么区别？\\n师：这也是一个很好的问题。核裂变是重原子核分裂成较轻的原子核，而核聚变是轻原子核结合成较重的原子核。我们会在后面的学习中详细探讨这两种过程。\\n生：谢谢老师。\\n活动意图：通过明确学习目标，让学生对本节课的内容有一个整体的了解，激发学习兴趣。\\n\\n<h1>二、自主学习（10min）</h1>\\n<h2>1. 阅读教材</h2>\\n师：请大家翻开课本第11章第4节，阅读关于原子核的组成和结构的内容。注意理解原子核是由质子和中子组成的，以及它们是如何通过核力结合在一起的。\\n生：好的，老师。\\n师：阅读过程中，如果遇到不理解的地方，可以先标记下来，稍后我们一起讨论。\\n生：好的，老师。\\n师：大家在阅读时，可以思考一下：为什么原子核内部的质子和中子能够紧密地结合在一起？\\n生：老师，是不是因为它们之间有很强的吸引力？\\n师：对，这种吸引力就是核力。核力是一种非常强的相互作用力，能够克服质子之间的电磁斥力，使原子核保持稳定。\\n生：原来如此，谢谢老师。\\n活动意图：通过自主阅读，让学生初步了解原子核的组成和结构，培养自主学习的能力。\\n\\n<h2>2. 观看视频</h2>\\n师：接下来，我们来看一段关于原子核结构的视频。请大家认真观看，注意视频中提到的原子核的组成和结构。\\n生：好的，老师。\\n师：视频中提到了哪些重要的概念？\\n生：视频中提到了质子、中子和核力。\\n师：非常好。视频中还提到了原子核的稳定性问题，大家有没有注意到？\\n生：老师，视频中说有些原子核是稳定的，而有些原子核会自发地发生裂变。\\n师：对，这就是放射性。有些原子核会自发地发生裂变，变成新的原子核，这种性质称为放射性。\\n生：原来如此，谢谢老师。\\n活动意图：通过观看视频，加深学生对原子核结构的理解，增强学习的直观性。\\n\\n<h1>三、讨论交流（15min）</h1>\\n<h2>1. 小组讨论</h2>\\n师：请大家分组讨论以下问题：原子核的组成和结构是怎样的？核力的作用是什么？\\n生：好的，老师。\\n师：每个小组选一个代表，准备在全班分享你们的讨论结果。\\n生：好的，老师。\\n师：讨论过程中，如果遇到不理解的地方，可以随时举手提问。\\n生：老师，我们小组讨论认为，原子核是由质子和中子组成的，核力使它们紧密地结合在一起。\\n师：非常好。还有其他小组有补充吗？\\n生：老师，我们小组认为，核力是一种非常强的相互作用力，能够克服质子之间的电磁斥力。\\n师：对，核力确实是一种非常强的力。大家有没有其他问题？\\n生：老师，核力和电磁力有什么区别？\\n师：非常好的问题。核力是一种短程力，只在原子核内部起作用，而电磁力是一种长程力，可以在宏观尺度上起作用。\\n生：明白了，谢谢老师。\\n活动意图：通过小组讨论，促进学生之间的交流和合作，加深对原子核结构的理解。\\n\\n<h2>2. 全班分享</h2>\\n师：现在请每个小组的代表分享你们的讨论结果。\\n生：老师，我们小组认为，原子核是由质子和中子组成的，核力使它们紧密地结合在一起。\\n师：非常好。还有其他小组有补充吗？\\n生：老师，我们小组认为，核力是一种非常强的相互作用力，能够克服质子之间的电磁斥力。\\n师：对，核力确实是一种非常强的力。大家有没有其他问题？\\n生：老师，核力和电磁力有什么区别？\\n师：非常好的问题。核力是一种短程力，只在原子核内部起作用，而电磁力是一种长程力，可以在宏观尺度上起作用。\\n生：明白了，谢谢老师。\\n师：大家还有什么补充或疑问吗？\\n生：老师，我们小组还讨论了放射性的问题，有些原子核会自发地发生裂变。\\n师：对，这就是放射性。有些原子核会自发地发生裂变，变成新的原子核。\\n生：谢谢老师。\\n活动意图：通过全班分享，检验学生对原子核结构的理解，促进知识的巩固和深化。\\n\\n<h1>四、启发指导（15min）</h1>\\n<h2>1. 核裂变的原理</h2>\\n师：接下来，我们来学习核裂变的原理。核裂变是重原子核分裂成较轻的原子核的过程。大家有没有听说过核裂变？\\n生：老师，听说过，但不太清楚具体的过程。\\n师：好的，我们来看一个具体的例子。当一个中子轰击一个铀核时，铀核会发生裂变，释放出能量和2-3个中子。\\n生：老师，这个过程是怎么发生的？\\n师：当一个中子轰击铀核时，铀核会变得不稳定，分裂成两个较轻的原子核，同时释放出能量和2-3个中子。这些中子又可以轰击其他铀核，引发更多的裂变反应，形成链式反应。\\n生：原来如此，老师。\\n师：大家有没有其他问题？\\n生：老师，链式反应是怎么控制的？\\n师：非常好的问题。核反应堆就是用来控制链式反应的装置。通过控制中子的数量，可以控制链式反应的速度。\\n生：明白了，谢谢老师。\\n活动意图：通过讲解核裂变的原理，帮助学生理解核裂变的过程和机制。\\n\\n<h2>2. 核聚变的原理</h2>\\n师：接下来，我们来学习核聚变的原理。核聚变是轻原子核结合成较重的原子核的过程。大家有没有听说过核聚变？\\n生：老师，听说过，但不太清楚具体的过程。\\n师：好的，我们来看一个具体的例子。当两个轻原子核在高温下碰撞时，它们会克服彼此之间的斥力，结合成一个较重的原子核，同时释放出巨大的能量。\\n生：老师，这个过程是怎么发生的？\\n师：当两个轻原子核在高温下碰撞时，它们的运动速度非常快，能够克服彼此之间的斥力，结合成一个较重的原子核，同时释放出巨大的能量。这个过程称为聚变。\\n生：原来如此，老师。\\n师：大家有没有其他问题？\\n生：老师，核聚变和核裂变有什么区别？\\n师：非常好的问题。核裂变是重原子核分裂成较轻的原子核，而核聚变是轻原子核结合成较重的原子核。核聚变释放的能量远大于核裂变。\\n生：明白了，谢谢老师。\\n活动意图：通过讲解核聚变的原理，帮助学生理解核聚变的过程和机制。\\n\\n<h1>五、课堂总结（10min）</h1>\\n<h2>1. 总结知识点</h2>\\n师：通过这节课的学习，我们了解了原子核的组成和结构，核裂变和核聚变的基本原理，以及核能在实际中的应用和安全问题。大家有没有什么收获？\\n生：老师，我了解了原子核是由质子和中子组成的，核力使它们紧密地结合在一起。\\n师：非常好。还有其他同学有补充吗？\\n生：老师，我还了解了核裂变和核聚变的过程，以及它们在实际中的应用。\\n师：对，核裂变和核聚变都是非常重要的核反应过程。大家有没有其他问题？\\n生：老师，核能的安全问题怎么解决？\\n师：非常好的问题。核能的安全问题主要通过严格的保护措施来解决，例如核反应堆的保护屏蔽，以及对放射性物质的严格管理。\\n生：明白了，谢谢老师。\\n活动意图：通过课堂总结，帮助学生回顾和巩固本节课的知识点，检验学习效果。\\n\\n<h2>2. 引导思考</h2>\\n师：大家有没有想过，核能的未来会怎样发展？\\n生：老师，我觉得核能会越来越重要，因为它是清洁能源。\\n师：对，核能是一种非常重要的清洁能源。但是，核能的安全问题也需要我们高度重视。\\n生：老师，核聚变的研究进展如何？\\n师：核聚变的研究已经取得了一些进展，但可控核聚变的利用还有很长的路要走。如果这项技术取得突破，将可能解决人类社会长远的能源需求。\\n```\\n<input end>'},\n",
       "  {'from': 'gpt', 'value': ''}],\n",
       " 'textbook': '主要内容：\\n\\n我们已经知道，物体是由分子组成的，分子又是由原子组成的。想要人们以为原子是一堆实心的小球，即原子的前的原是均匀分布的。原子内部的粒子散射实验打开了人们认识世界的视野，使人们认识到，原来小小的原子是由原子核和核外电子构成的。\\n\\n\"原子核 核能\\n\\n主要内容：\\n\\n原子核那么小，是否还存在内部结构呢？这是在发现了原子的核结构后，物理学家们关心并思考的一个问题。\\n\\n经过长期的探索，到1932年，物理学家终于发现，原子核是由质子（proton）和中子（neutron）组成的，它们通过一种叫作“核力”的相互作用紧密地结合在一起。\\n\\n大部分元素的原子核是牢固而稳定的，而有些原子核会按照一定的规律发生出裂变，变成新的原子。\\n\\n核（这样的性质称为放射性）。要人为拆分原子核\\n\\n或将几个原子核组合起来，并不容易。然而根据爱\\n\\n因斯坦的理论，重核裂变或轻核聚变，将释放出巨\\n\\n大的能量，这就是核能（nuclear energy），也就是人\\n\\n们常说的原子能（atomic energy）。\\n\\n\"核裂变能及其利用\\n\\n主要内容：重原子核分裂成较轻的原子核，叫作裂变（fission）。人类有效地获得大量核能，是用中子轰击铀核使铀核裂变开始的。当一个中子轰击一个铀核引起铀核裂变并释放能量的同时，还释放出2-3个中子。如果释放出的中子再引起其他铀核裂变，就可使反应不断地进行下去，这种反应叫作链式反应（chain reaction）。\\n\\n\"核裂变能及其利用\\n\\n主要内容：核反应堆（nuclear reactor）是一种能够控制链式反应的装置。利用核反应堆工作时释放的能量使水汽化，推动蒸汽轮机带动发电机发电，这就是核电站（nuclear power plant）。核电站消耗的燃料很少，一座1.0×10^6kW的核电站，每年约消耗30t铀燃料，而同样功率的火力发电站则要消耗约3.0×10^6t煤。核电站可以大大减少燃料的运输量。另外，核能发电没有燃烧废弃的灰渣和硫化物、氮氧化物、烟尘等，不会对大气造成污染。核反应堆有严格的保护屏蔽，用于核反应的燃料（如铀235）是具有高强放射性的物质，能发出射线。如果没有足够的保护措施，这些射线会对人体健康造成严重伤害。\\n\\n\"核裂变能及其利用\\n\\n主要内容：\\n\\n2011年3月11日，日本福岛海域发生了里氏9.0级地震。强烈的地震引发海啸，对日本远海地区造成了严重的破坏。地震和海啸导致福岛第一核电站发生核泄漏事故，这一突发事件使核反应堆及其周边区域的居民陷入一片恐慌之中。大家如何看待这次核泄漏事故的影响和后续处理？为了了解相关事件背景，后文将讨论核能安全利用的条件。\\n\\n对于辐射强度超过国家标准的放射性物质，必须防止其扩散。人体到放射性物质的防护，在放射性实验室中，要用铅板、有机玻璃等材料做屏蔽防护。非遇到反应堆泄露事故、原子弹爆炸等突发事件时，要充分利用地形和建筑物作为掩体，以减少辐射伤害。核废料有很强的放射性，目前一般都将其放入特制容器中深埋封存，待以后研究出有效办法再做处理。\\n\\n\"核聚变\\n\\n主要内容：\\n\\n轻原子核结合成较重的原子核，也会\\n\\n释放出核能，这种核反应叫作聚变（fusion）。\\n\\n例如，氢的同位素氘和氚，其原子核在超\\n\\n高温下就可能聚合成氦核，释放出巨大的\\n\\n能量。\\n\\n裂变需将中子射入重原子核中，由于中\\n\\n子不带电，不需要费太大力气。聚变就不\\n\\n一样了，原子核带有正电，两个较轻的核\\n\\n在靠近过程中，彼此排斥，难以接近。目\\n\\n前的办法，是把它们加热到足够高的温度\\n\\n\"核聚变\\n\\n主要内容：\\n\\n使这些粒子的无规则运动极其剧烈，以至于会有原子核在碰撞过程中靠得足够近，从而发生聚变。因  此核变能带来为热核反应。\\n\\n可能有的同学会产生疑惑：使反应物获得极高的温度，获得足够大的能量，已发生核变，获得的 核能能补足前的付出吗？不会有个“不划算”的 现象发生吧?事实上，聚变释放的核能远大于我们 “点火”所需的能量。太阳的能量，就来自核聚变  这把“火”自从46亿年前“点燃”后，至今未熄。\\n\\n在清楚相同质量核燃料的情况下，核聚变比核 裂变放出的能量大得多。1967年6月17日，我国第 一颗氢弹在西部地区上空爆炸成功。氢弹是根据 核聚变原理制成的，它的威力比原子弹大得多。\\n\\n可能核聚变的研究已经获得相当大的进展， 但是可控核聚变的利用还有相当长的路要走。海 水中蕴藏着丰富的核聚变燃料。 因此,如果这项 技术一旦取得突破，就可能解决人类社会长远的能源需求。\\n\\n\"核聚变\\n\\n主要内容：\\n\\n1. 自我评价\\n\\n   - 通过选择题和判断题的形式，评估学生对原子核、核反应、核能等相关知识的掌握情况。\\n\\n2. 物理在线\\n\\n   - α粒子散射实验\\n\\n     - 介绍了1909年卢瑟福的α粒子散射实验，实验过程及其重要发现。\\n\\n     - 通过实验，发现了原子核的存在，并对原子结构有了更深入的理解。\\n\\n',\n",
       " 'compress_content': [],\n",
       " 'gen_ctx': '\\n<h1>一、告知学生目标（5min）</h1>\\n<h2>1. 明确学习目标</h2>\\n师：同学们，今天我们来学习第十一章的第四节——核能。通过这节课的学习，希望大家能够了解原子核的结构、核裂变和核聚变的基本原理，以及核能在实际中的应用和安全问题。\\n生：好的，老师。\\n师：首先，我们来看一下这节课的学习目标。第一，了解原子核的组成和结构；第二，理解核裂变和核聚变的过程；第三，了解核能的应用和安全问题。\\n生：明白了，老师。\\n师：大家有没有什么疑问？\\n生：老师，原子核是由什么组成的？\\n师：非常好的问题。原子核是由质子和中子组成的，它们通过核力紧密地结合在一起。我们会在接下来的学习中详细讨论。\\n生：老师，核裂变和核聚变有什么区别？\\n师：这也是一个很好的问题。核裂变是重原子核分裂成较轻的原子核，而核聚变是轻原子核结合成较重的原子核。我们会在后面的学习中详细探讨这两种过程。\\n生：谢谢老师。\\n活动意图：通过明确学习目标，让学生对本节课的内容有一个整体的了解，激发学习兴趣。\\n\\n<h1>二、自主学习（10min）</h1>\\n<h2>1. 阅读教材</h2>\\n师：请大家翻开课本第11章第4节，阅读关于原子核的组成和结构的内容。注意理解原子核是由质子和中子组成的，以及它们是如何通过核力结合在一起的。\\n生：好的，老师。\\n师：阅读过程中，如果遇到不理解的地方，可以先标记下来，稍后我们一起讨论。\\n生：好的，老师。\\n师：大家在阅读时，可以思考一下：为什么原子核内部的质子和中子能够紧密地结合在一起？\\n生：老师，是不是因为它们之间有很强的吸引力？\\n师：对，这种吸引力就是核力。核力是一种非常强的相互作用力，能够克服质子之间的电磁斥力，使原子核保持稳定。\\n生：原来如此，谢谢老师。\\n活动意图：通过自主阅读，让学生初步了解原子核的组成和结构，培养自主学习的能力。\\n\\n<h2>2. 观看视频</h2>\\n师：接下来，我们来看一段关于原子核结构的视频。请大家认真观看，注意视频中提到的原子核的组成和结构。\\n生：好的，老师。\\n师：视频中提到了哪些重要的概念？\\n生：视频中提到了质子、中子和核力。\\n师：非常好。视频中还提到了原子核的稳定性问题，大家有没有注意到？\\n生：老师，视频中说有些原子核是稳定的，而有些原子核会自发地发生裂变。\\n师：对，这就是放射性。有些原子核会自发地发生裂变，变成新的原子核，这种性质称为放射性。\\n生：原来如此，谢谢老师。\\n活动意图：通过观看视频，加深学生对原子核结构的理解，增强学习的直观性。\\n\\n<h1>三、讨论交流（15min）</h1>\\n<h2>1. 小组讨论</h2>\\n师：请大家分组讨论以下问题：原子核的组成和结构是怎样的？核力的作用是什么？\\n生：好的，老师。\\n师：每个小组选一个代表，准备在全班分享你们的讨论结果。\\n生：好的，老师。\\n师：讨论过程中，如果遇到不理解的地方，可以随时举手提问。\\n生：老师，我们小组讨论认为，原子核是由质子和中子组成的，核力使它们紧密地结合在一起。\\n师：非常好。还有其他小组有补充吗？\\n生：老师，我们小组认为，核力是一种非常强的相互作用力，能够克服质子之间的电磁斥力。\\n师：对，核力确实是一种非常强的力。大家有没有其他问题？\\n生：老师，核力和电磁力有什么区别？\\n师：非常好的问题。核力是一种短程力，只在原子核内部起作用，而电磁力是一种长程力，可以在宏观尺度上起作用。\\n生：明白了，谢谢老师。\\n活动意图：通过小组讨论，促进学生之间的交流和合作，加深对原子核结构的理解。\\n\\n<h2>2. 全班分享</h2>\\n师：现在请每个小组的代表分享你们的讨论结果。\\n生：老师，我们小组认为，原子核是由质子和中子组成的，核力使它们紧密地结合在一起。\\n师：非常好。还有其他小组有补充吗？\\n生：老师，我们小组认为，核力是一种非常强的相互作用力，能够克服质子之间的电磁斥力。\\n师：对，核力确实是一种非常强的力。大家有没有其他问题？\\n生：老师，核力和电磁力有什么区别？\\n师：非常好的问题。核力是一种短程力，只在原子核内部起作用，而电磁力是一种长程力，可以在宏观尺度上起作用。\\n生：明白了，谢谢老师。\\n师：大家还有什么补充或疑问吗？\\n生：老师，我们小组还讨论了放射性的问题，有些原子核会自发地发生裂变。\\n师：对，这就是放射性。有些原子核会自发地发生裂变，变成新的原子核。\\n生：谢谢老师。\\n活动意图：通过全班分享，检验学生对原子核结构的理解，促进知识的巩固和深化。\\n\\n<h1>四、启发指导（15min）</h1>\\n<h2>1. 核裂变的原理</h2>\\n师：接下来，我们来学习核裂变的原理。核裂变是重原子核分裂成较轻的原子核的过程。大家有没有听说过核裂变？\\n生：老师，听说过，但不太清楚具体的过程。\\n师：好的，我们来看一个具体的例子。当一个中子轰击一个铀核时，铀核会发生裂变，释放出能量和2-3个中子。\\n生：老师，这个过程是怎么发生的？\\n师：当一个中子轰击铀核时，铀核会变得不稳定，分裂成两个较轻的原子核，同时释放出能量和2-3个中子。这些中子又可以轰击其他铀核，引发更多的裂变反应，形成链式反应。\\n生：原来如此，老师。\\n师：大家有没有其他问题？\\n生：老师，链式反应是怎么控制的？\\n师：非常好的问题。核反应堆就是用来控制链式反应的装置。通过控制中子的数量，可以控制链式反应的速度。\\n生：明白了，谢谢老师。\\n活动意图：通过讲解核裂变的原理，帮助学生理解核裂变的过程和机制。\\n\\n<h2>2. 核聚变的原理</h2>\\n师：接下来，我们来学习核聚变的原理。核聚变是轻原子核结合成较重的原子核的过程。大家有没有听说过核聚变？\\n生：老师，听说过，但不太清楚具体的过程。\\n师：好的，我们来看一个具体的例子。当两个轻原子核在高温下碰撞时，它们会克服彼此之间的斥力，结合成一个较重的原子核，同时释放出巨大的能量。\\n生：老师，这个过程是怎么发生的？\\n师：当两个轻原子核在高温下碰撞时，它们的运动速度非常快，能够克服彼此之间的斥力，结合成一个较重的原子核，同时释放出巨大的能量。这个过程称为聚变。\\n生：原来如此，老师。\\n师：大家有没有其他问题？\\n生：老师，核聚变和核裂变有什么区别？\\n师：非常好的问题。核裂变是重原子核分裂成较轻的原子核，而核聚变是轻原子核结合成较重的原子核。核聚变释放的能量远大于核裂变。\\n生：明白了，谢谢老师。\\n活动意图：通过讲解核聚变的原理，帮助学生理解核聚变的过程和机制。\\n\\n<h1>五、课堂总结（10min）</h1>\\n<h2>1. 总结知识点</h2>\\n师：通过这节课的学习，我们了解了原子核的组成和结构，核裂变和核聚变的基本原理，以及核能在实际中的应用和安全问题。大家有没有什么收获？\\n生：老师，我了解了原子核是由质子和中子组成的，核力使它们紧密地结合在一起。\\n师：非常好。还有其他同学有补充吗？\\n生：老师，我还了解了核裂变和核聚变的过程，以及它们在实际中的应用。\\n师：对，核裂变和核聚变都是非常重要的核反应过程。大家有没有其他问题？\\n生：老师，核能的安全问题怎么解决？\\n师：非常好的问题。核能的安全问题主要通过严格的保护措施来解决，例如核反应堆的保护屏蔽，以及对放射性物质的严格管理。\\n生：明白了，谢谢老师。\\n活动意图：通过课堂总结，帮助学生回顾和巩固本节课的知识点，检验学习效果。\\n\\n<h2>2. 引导思考</h2>\\n师：大家有没有想过，核能的未来会怎样发展？\\n生：老师，我觉得核能会越来越重要，因为它是清洁能源。\\n师：对，核能是一种非常重要的清洁能源。但是，核能的安全问题也需要我们高度重视。\\n生：老师，核聚变的研究进展如何？\\n师：核聚变的研究已经取得了一些进展，但可控核聚变的利用还有很长的路要走。如果这项技术取得突破，将可能解决人类社会长远的能源需求。\\n'}"
      ]
     },
     "execution_count": 16,
     "metadata": {},
     "output_type": "execute_result"
    }
   ],
   "source": [
    "import random\n",
    "\n",
    "random.choice(all_json)"
   ]
  },
  {
   "cell_type": "code",
   "execution_count": 17,
   "id": "02483889",
   "metadata": {
    "ExecuteTime": {
     "end_time": "2025-01-16T16:30:51.661407Z",
     "start_time": "2025-01-16T16:30:51.363005Z"
    }
   },
   "outputs": [],
   "source": [
    "with open(\"/mnt/pfs_yq/zitao_team/shuyanwong/FaviComp/data/Qwen2.5-72B-Instruct_k5_a0.8_eval_lesson_plan_1227.json\", \"w\") as f:\n",
    "    json.dump(all_json,f,ensure_ascii=False,indent=4)"
   ]
  }
 ],
 "metadata": {
  "kernelspec": {
   "display_name": "tal-llm",
   "language": "python",
   "name": "tal-llm"
  },
  "language_info": {
   "codemirror_mode": {
    "name": "ipython",
    "version": 3
   },
   "file_extension": ".py",
   "mimetype": "text/x-python",
   "name": "python",
   "nbconvert_exporter": "python",
   "pygments_lexer": "ipython3",
   "version": "3.8.16"
  },
  "toc": {
   "base_numbering": 1,
   "nav_menu": {},
   "number_sections": true,
   "sideBar": true,
   "skip_h1_title": false,
   "title_cell": "Table of Contents",
   "title_sidebar": "Contents",
   "toc_cell": false,
   "toc_position": {},
   "toc_section_display": true,
   "toc_window_display": false
  }
 },
 "nbformat": 4,
 "nbformat_minor": 5
}
