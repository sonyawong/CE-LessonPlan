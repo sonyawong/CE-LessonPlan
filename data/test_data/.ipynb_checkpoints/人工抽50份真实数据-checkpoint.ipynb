{
 "cells": [
  {
   "cell_type": "code",
   "execution_count": 1,
   "id": "d8aaa9b9",
   "metadata": {
    "ExecuteTime": {
     "end_time": "2025-01-23T12:48:47.381977Z",
     "start_time": "2025-01-23T12:48:46.318796Z"
    }
   },
   "outputs": [],
   "source": [
    "import pandas as pd"
   ]
  },
  {
   "cell_type": "code",
   "execution_count": 2,
   "id": "e7dcd68c",
   "metadata": {
    "ExecuteTime": {
     "end_time": "2025-01-23T14:35:52.970251Z",
     "start_time": "2025-01-23T14:35:29.960356Z"
    }
   },
   "outputs": [],
   "source": [
    "df = pd.read_csv(\"/mnt/cfs/shuyanwong/github/lesson_plan_generator/切分数据/所有切分数据30w(映射学段版本&数据来源).csv\")"
   ]
  },
  {
   "cell_type": "code",
   "execution_count": 3,
   "id": "51d2090d",
   "metadata": {
    "ExecuteTime": {
     "end_time": "2025-01-23T14:35:53.010134Z",
     "start_time": "2025-01-23T14:35:52.973477Z"
    }
   },
   "outputs": [],
   "source": [
    "df['来源'] = df['来源'].fillna(method='ffill')\n",
    "# 使用 back fill 填充剩余的空值\n",
    "df['来源'] = df['来源'].fillna(method='bfill')"
   ]
  },
  {
   "cell_type": "code",
   "execution_count": 5,
   "id": "975d01aa",
   "metadata": {
    "ExecuteTime": {
     "end_time": "2025-01-23T14:35:56.340826Z",
     "start_time": "2025-01-23T14:35:56.305484Z"
    }
   },
   "outputs": [],
   "source": [
    "df['来源'] = df['来源'].fillna(method='ffill')\n",
    "# 使用 back fill 填充剩余的空值\n",
    "df['来源'] = df['来源'].fillna(method='bfill')"
   ]
  },
  {
   "cell_type": "code",
   "execution_count": 6,
   "id": "b8ff05be",
   "metadata": {
    "ExecuteTime": {
     "end_time": "2025-01-23T14:35:57.242641Z",
     "start_time": "2025-01-23T14:35:57.228486Z"
    }
   },
   "outputs": [
    {
     "data": {
      "text/plain": [
       "(309700,)"
      ]
     },
     "execution_count": 6,
     "metadata": {},
     "output_type": "execute_result"
    }
   ],
   "source": [
    "df[\"来源\"].dropna().shape"
   ]
  },
  {
   "cell_type": "code",
   "execution_count": 7,
   "id": "9046d205",
   "metadata": {
    "ExecuteTime": {
     "end_time": "2025-01-23T14:36:02.396972Z",
     "start_time": "2025-01-23T14:36:02.372788Z"
    }
   },
   "outputs": [
    {
     "data": {
      "text/plain": [
       "101教育PPT    193184\n",
       "第二教育网        76535\n",
       "国家中小学平台      24776\n",
       "吾课网           9252\n",
       "广州共享课堂        5953\n",
       "Name: 来源, dtype: int64"
      ]
     },
     "execution_count": 7,
     "metadata": {},
     "output_type": "execute_result"
    }
   ],
   "source": [
    "df[\"来源\"].value_counts()"
   ]
  },
  {
   "cell_type": "code",
   "execution_count": 8,
   "id": "d00462db",
   "metadata": {
    "ExecuteTime": {
     "end_time": "2025-01-23T14:36:11.807546Z",
     "start_time": "2025-01-23T14:36:11.652107Z"
    }
   },
   "outputs": [
    {
     "data": {
      "text/plain": [
       "(24776, 21)"
      ]
     },
     "execution_count": 8,
     "metadata": {},
     "output_type": "execute_result"
    }
   ],
   "source": [
    "select_df = df[df[\"来源\"].isin([\"国家中小学平台\"])]\n",
    "select_df.shape"
   ]
  },
  {
   "cell_type": "code",
   "execution_count": 10,
   "id": "233433bc",
   "metadata": {
    "ExecuteTime": {
     "end_time": "2025-01-23T14:43:32.860280Z",
     "start_time": "2025-01-23T14:43:32.776196Z"
    }
   },
   "outputs": [],
   "source": [
    "eval_data = pd.read_csv(\"/mnt/pfs_yq/zitao_team/shuyanwong/FaviComp/data/eval_lesson_plan.csv\")"
   ]
  },
  {
   "cell_type": "code",
   "execution_count": 13,
   "id": "e6d4b51d",
   "metadata": {
    "ExecuteTime": {
     "end_time": "2025-01-23T14:44:16.441703Z",
     "start_time": "2025-01-23T14:44:16.439269Z"
    }
   },
   "outputs": [],
   "source": [
    "eval_ids = set(eval_data[\"lp_id\"].tolist())"
   ]
  },
  {
   "cell_type": "code",
   "execution_count": 17,
   "id": "c8b8f113",
   "metadata": {
    "ExecuteTime": {
     "end_time": "2025-01-23T14:44:34.364730Z",
     "start_time": "2025-01-23T14:44:34.361214Z"
    }
   },
   "outputs": [
    {
     "data": {
      "text/plain": [
       "200"
      ]
     },
     "execution_count": 17,
     "metadata": {},
     "output_type": "execute_result"
    }
   ],
   "source": [
    "len(eval_ids)"
   ]
  },
  {
   "cell_type": "code",
   "execution_count": 18,
   "id": "31e3899d",
   "metadata": {
    "ExecuteTime": {
     "end_time": "2025-01-23T14:51:08.623819Z",
     "start_time": "2025-01-23T14:51:08.617949Z"
    }
   },
   "outputs": [],
   "source": [
    "select_df_ = select_df[select_df[\"序号\"].isin(list(eval_ids))]"
   ]
  },
  {
   "cell_type": "code",
   "execution_count": 21,
   "id": "f14b270a",
   "metadata": {
    "ExecuteTime": {
     "end_time": "2025-01-23T14:55:02.972551Z",
     "start_time": "2025-01-23T14:55:02.962268Z"
    }
   },
   "outputs": [],
   "source": [
    "real_data_gj = {\"教案ID\":[], \"课程信息\":[], \"模块\":[], \"教案内容\":[]}\n",
    "# 逐行遍历\n",
    "for index, row in select_df_.iterrows():\n",
    "    for col in select_df_.columns:\n",
    "        if col in ['教学内容分析','学情分析','教学目标','教学重难点','教学准备','教学过程','教学评价']:\n",
    "            real_data_gj[\"教案ID\"].append(row[\"序号\"])\n",
    "            real_data_gj[\"课程信息\"].append(\"_\".join([row[\"年级\"],row[\"科目\"],row[\"教材\"],row[\"主题\"]]))\n",
    "            real_data_gj[\"模块\"].append(col)\n",
    "            real_data_gj[\"教案内容\"].append(row[col])"
   ]
  },
  {
   "cell_type": "code",
   "execution_count": 24,
   "id": "21304257",
   "metadata": {
    "ExecuteTime": {
     "end_time": "2025-01-23T14:55:30.199991Z",
     "start_time": "2025-01-23T14:55:30.196338Z"
    }
   },
   "outputs": [],
   "source": [
    "real_df = pd.DataFrame(real_data_gj)"
   ]
  },
  {
   "cell_type": "code",
   "execution_count": 25,
   "id": "50218571",
   "metadata": {
    "ExecuteTime": {
     "end_time": "2025-01-23T14:55:34.254776Z",
     "start_time": "2025-01-23T14:55:34.247442Z"
    }
   },
   "outputs": [
    {
     "data": {
      "text/html": [
       "<div>\n",
       "<style scoped>\n",
       "    .dataframe tbody tr th:only-of-type {\n",
       "        vertical-align: middle;\n",
       "    }\n",
       "\n",
       "    .dataframe tbody tr th {\n",
       "        vertical-align: top;\n",
       "    }\n",
       "\n",
       "    .dataframe thead th {\n",
       "        text-align: right;\n",
       "    }\n",
       "</style>\n",
       "<table border=\"1\" class=\"dataframe\">\n",
       "  <thead>\n",
       "    <tr style=\"text-align: right;\">\n",
       "      <th></th>\n",
       "      <th>教案ID</th>\n",
       "      <th>课程信息</th>\n",
       "      <th>模块</th>\n",
       "      <th>教案内容</th>\n",
       "    </tr>\n",
       "  </thead>\n",
       "  <tbody>\n",
       "    <tr>\n",
       "      <th>0</th>\n",
       "      <td>教案_218876</td>\n",
       "      <td>八年级上_物理_北师大版（主编：闫金铎）_学习物理——从认识物质开始@@@@第三章 物质的简...</td>\n",
       "      <td>教学内容分析</td>\n",
       "      <td>NaN</td>\n",
       "    </tr>\n",
       "    <tr>\n",
       "      <th>1</th>\n",
       "      <td>教案_218876</td>\n",
       "      <td>八年级上_物理_北师大版（主编：闫金铎）_学习物理——从认识物质开始@@@@第三章 物质的简...</td>\n",
       "      <td>学情分析</td>\n",
       "      <td>学情分析\\n\\n学生在已经学习了速度的基础上，对平均速度与瞬时速度的概念会有所了解。对本节课...</td>\n",
       "    </tr>\n",
       "  </tbody>\n",
       "</table>\n",
       "</div>"
      ],
      "text/plain": [
       "        教案ID                                               课程信息      模块  \\\n",
       "0  教案_218876  八年级上_物理_北师大版（主编：闫金铎）_学习物理——从认识物质开始@@@@第三章 物质的简...  教学内容分析   \n",
       "1  教案_218876  八年级上_物理_北师大版（主编：闫金铎）_学习物理——从认识物质开始@@@@第三章 物质的简...    学情分析   \n",
       "\n",
       "                                                教案内容  \n",
       "0                                                NaN  \n",
       "1  学情分析\\n\\n学生在已经学习了速度的基础上，对平均速度与瞬时速度的概念会有所了解。对本节课...  "
      ]
     },
     "execution_count": 25,
     "metadata": {},
     "output_type": "execute_result"
    }
   ],
   "source": [
    "real_df[:2]"
   ]
  },
  {
   "cell_type": "markdown",
   "id": "74db712c",
   "metadata": {},
   "source": [
    "### 读取我们的模型结果"
   ]
  },
  {
   "cell_type": "code",
   "execution_count": 32,
   "id": "a8bae6d7",
   "metadata": {
    "ExecuteTime": {
     "end_time": "2025-01-23T15:03:27.492377Z",
     "start_time": "2025-01-23T15:03:27.329839Z"
    }
   },
   "outputs": [
    {
     "data": {
      "text/plain": [
       "(1400, 1400)"
      ]
     },
     "execution_count": 32,
     "metadata": {},
     "output_type": "execute_result"
    }
   ],
   "source": [
    "ids2lp = dict()\n",
    "ids2tb = dict()\n",
    "\n",
    "with open(\"/mnt/pfs_yq/zitao_team/shuyanwong/FaviComp/data/eval_lesson_plan_0106_favi_alpha0_8_outputs.jsonl\",\"r\") as f:\n",
    "    data = json.load(f)\n",
    "    \n",
    "    for one_data in data:\n",
    "        ids2lp[one_data[\"id\"]+\"_\"+one_data[\"module\"]] = one_data[\"conversations\"][1][\"value\"]\n",
    "        ids2tb[one_data[\"id\"]+\"_\"+one_data[\"module\"]] = one_data[\"textbook\"]\n",
    "len(ids2lp), len(ids2tb)"
   ]
  },
  {
   "cell_type": "code",
   "execution_count": 33,
   "id": "056b6909",
   "metadata": {
    "ExecuteTime": {
     "end_time": "2025-01-23T15:03:59.075643Z",
     "start_time": "2025-01-23T15:03:59.055750Z"
    }
   },
   "outputs": [],
   "source": [
    "our_results, textbooks = [], []\n",
    "\n",
    "for i,row in real_df.iterrows():\n",
    "    our_results.append(ids2lp[row[\"教案ID\"]+\"_\"+row[\"模块\"]])\n",
    "    textbooks.append(ids2tb[row[\"教案ID\"]+\"_\"+row[\"模块\"]])"
   ]
  },
  {
   "cell_type": "code",
   "execution_count": 34,
   "id": "b1d493e3",
   "metadata": {
    "ExecuteTime": {
     "end_time": "2025-01-23T15:04:00.027731Z",
     "start_time": "2025-01-23T15:04:00.024181Z"
    }
   },
   "outputs": [
    {
     "data": {
      "text/plain": [
       "196"
      ]
     },
     "execution_count": 34,
     "metadata": {},
     "output_type": "execute_result"
    }
   ],
   "source": [
    "len(our_results)"
   ]
  },
  {
   "cell_type": "code",
   "execution_count": 36,
   "id": "206d1743",
   "metadata": {
    "ExecuteTime": {
     "end_time": "2025-01-23T15:04:47.693437Z",
     "start_time": "2025-01-23T15:04:47.689958Z"
    }
   },
   "outputs": [],
   "source": [
    "real_df[\"我们的结果\"] = our_results\n",
    "real_df[\"教材内容\"] = textbooks"
   ]
  },
  {
   "cell_type": "code",
   "execution_count": 37,
   "id": "6ecd3ba7",
   "metadata": {
    "ExecuteTime": {
     "end_time": "2025-01-23T15:05:40.216116Z",
     "start_time": "2025-01-23T15:05:40.074241Z"
    }
   },
   "outputs": [],
   "source": [
    "real_df.to_csv(\"/mnt/pfs_yq/zitao_team/shuyanwong/FaviComp/data/anno_data/favicomp/人工打分.csv\")"
   ]
  }
 ],
 "metadata": {
  "kernelspec": {
   "display_name": "Python 3 (ipykernel)",
   "language": "python",
   "name": "python3"
  },
  "language_info": {
   "codemirror_mode": {
    "name": "ipython",
    "version": 3
   },
   "file_extension": ".py",
   "mimetype": "text/x-python",
   "name": "python",
   "nbconvert_exporter": "python",
   "pygments_lexer": "ipython3",
   "version": "3.6.5"
  },
  "toc": {
   "base_numbering": 1,
   "nav_menu": {},
   "number_sections": true,
   "sideBar": true,
   "skip_h1_title": false,
   "title_cell": "Table of Contents",
   "title_sidebar": "Contents",
   "toc_cell": false,
   "toc_position": {},
   "toc_section_display": true,
   "toc_window_display": false
  }
 },
 "nbformat": 4,
 "nbformat_minor": 5
}
