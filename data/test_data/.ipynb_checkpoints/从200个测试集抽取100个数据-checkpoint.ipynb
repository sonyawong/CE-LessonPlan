{
 "cells": [
  {
   "cell_type": "code",
   "execution_count": 2,
   "id": "9713151b",
   "metadata": {
    "ExecuteTime": {
     "end_time": "2025-01-23T02:15:03.213908Z",
     "start_time": "2025-01-23T02:15:02.206494Z"
    }
   },
   "outputs": [],
   "source": [
    "import pandas as pd"
   ]
  },
  {
   "cell_type": "code",
   "execution_count": 3,
   "id": "c44a0b60",
   "metadata": {
    "ExecuteTime": {
     "end_time": "2025-01-23T02:15:03.218568Z",
     "start_time": "2025-01-23T02:15:03.216265Z"
    }
   },
   "outputs": [],
   "source": [
    "import random"
   ]
  },
  {
   "cell_type": "code",
   "execution_count": 3,
   "id": "a4518840",
   "metadata": {
    "ExecuteTime": {
     "end_time": "2025-01-03T09:56:53.071382Z",
     "start_time": "2025-01-03T09:56:52.901802Z"
    }
   },
   "outputs": [],
   "source": [
    "# 读取 Excel 文件中的所有工作表\n",
    "excel_file = 'SIGIR25 baseline评估-英语科学.xlsx'\n",
    "xls = pd.ExcelFile(excel_file)\n",
    "\n",
    "# 创建一个字典来存储每个工作表的数据\n",
    "sheets_dict = {}\n",
    "\n",
    "# 遍历所有工作表的名称\n",
    "for sheet_name in xls.sheet_names:\n",
    "    # 读取每个工作表的数据并存储在字典中\n",
    "    sheets_dict[sheet_name] = pd.read_excel(xls, sheet_name=sheet_name)\n",
    "\n",
    "# 现在 sheets_dict 包含了所有工作表的数据\n",
    "# 你可以通过工作表的名称来访问相应的 DataFrame\n",
    "for sheet_name, df in sheets_dict.items():\n",
    "    if \"英语\" in sheet_name:\n",
    "        break\n",
    "        "
   ]
  },
  {
   "cell_type": "code",
   "execution_count": 4,
   "id": "b2c9c161",
   "metadata": {
    "ExecuteTime": {
     "end_time": "2025-01-23T02:15:07.123285Z",
     "start_time": "2025-01-23T02:15:06.535946Z"
    }
   },
   "outputs": [],
   "source": [
    "excel_file = 'SIGIR25 baseline0123.xlsx'\n",
    "xls = pd.ExcelFile(excel_file)\n",
    "\n",
    "# 创建一个字典来存储每个工作表的数据\n",
    "sheets_dict = {}\n",
    "\n",
    "# 遍历所有工作表的名称\n",
    "for sheet_name in xls.sheet_names:\n",
    "    # 读取每个工作表的数据并存储在字典中\n",
    "    sheets_dict[sheet_name] = pd.read_excel(xls, sheet_name=sheet_name)"
   ]
  },
  {
   "cell_type": "code",
   "execution_count": 5,
   "id": "bb4b412d",
   "metadata": {
    "ExecuteTime": {
     "end_time": "2025-01-23T02:15:10.455094Z",
     "start_time": "2025-01-23T02:15:10.389704Z"
    }
   },
   "outputs": [],
   "source": [
    "# # 设置随机种子\n",
    "# random.seed(42)\n",
    "# select_ids = random.sample(list(df[\"id\"].unique()), 50)\n",
    "#     for ids in select_ids:\n",
    "#         f.write(str(ids)+\"\\n\")\n",
    "\n",
    "with open(\"select_ids(英语).txt\",\"r\") as f:\n",
    "    eng_ids = f.readlines()\n",
    "    eng_ids = [x.strip(\"\\n\") for x in eng_ids]\n",
    "\n",
    "    \n",
    "with open(\"select_ids(物理).txt\",\"r\") as f:\n",
    "    phy_ids = f.readlines()\n",
    "    phy_ids = [x.strip(\"\\n\") for x in phy_ids]"
   ]
  },
  {
   "cell_type": "code",
   "execution_count": 6,
   "id": "af13261a",
   "metadata": {
    "ExecuteTime": {
     "end_time": "2025-01-23T02:15:40.486972Z",
     "start_time": "2025-01-23T02:15:40.315016Z"
    }
   },
   "outputs": [],
   "source": [
    "for sheet_name, df in sheets_dict.items():\n",
    "    if \"claude3-sonnet\" not in sheet_name:continue\n",
    "    if \"英语\" in sheet_name:\n",
    "        select_df = df[df[\"id\"].isin(eng_ids)]\n",
    "        select_df_reset = select_df.reset_index(drop=True)\n",
    "        select_df_reset.index = select_df_reset.index+1\n",
    "        select_df_reset.to_csv(f\"anno_data/{sheet_name}.csv\", index_label=\"index\")\n",
    "    elif \"物理\" in sheet_name:\n",
    "        select_df = df[df[\"id\"].isin(phy_ids)]\n",
    "        select_df_reset = select_df.reset_index(drop=True)\n",
    "        select_df_reset.index = select_df_reset.index+1\n",
    "        select_df_reset.to_csv(f\"anno_data/{sheet_name}.csv\", index_label=\"index\") \n",
    "    else:\n",
    "        select_df_reset = df.reset_index(drop=True)\n",
    "        select_df_reset.index = select_df_reset.index+1\n",
    "        select_df_reset.to_csv(f\"anno_data/{sheet_name}.csv\", index_label=\"index\")"
   ]
  },
  {
   "cell_type": "code",
   "execution_count": 1,
   "id": "fd13f20c",
   "metadata": {
    "ExecuteTime": {
     "end_time": "2025-01-17T02:23:30.721106Z",
     "start_time": "2025-01-17T02:23:29.569363Z"
    }
   },
   "outputs": [],
   "source": [
    "import pandas as pd\n",
    "\n",
    "pred_df = pd.read_csv(\"/mnt/pfs_yq/zitao_team/shuyanwong/FaviComp/data/anno_data/favi_0_0_results.csv\")"
   ]
  },
  {
   "cell_type": "code",
   "execution_count": 2,
   "id": "01d2b335",
   "metadata": {
    "ExecuteTime": {
     "end_time": "2025-01-17T02:23:31.750122Z",
     "start_time": "2025-01-17T02:23:31.729709Z"
    }
   },
   "outputs": [
    {
     "data": {
      "text/html": [
       "<div>\n",
       "<style scoped>\n",
       "    .dataframe tbody tr th:only-of-type {\n",
       "        vertical-align: middle;\n",
       "    }\n",
       "\n",
       "    .dataframe tbody tr th {\n",
       "        vertical-align: top;\n",
       "    }\n",
       "\n",
       "    .dataframe thead th {\n",
       "        text-align: right;\n",
       "    }\n",
       "</style>\n",
       "<table border=\"1\" class=\"dataframe\">\n",
       "  <thead>\n",
       "    <tr style=\"text-align: right;\">\n",
       "      <th></th>\n",
       "      <th>Unnamed: 0</th>\n",
       "      <th>lp_id</th>\n",
       "      <th>original_results</th>\n",
       "      <th>textbook_results</th>\n",
       "      <th>textbook_new</th>\n",
       "      <th>lesson_info</th>\n",
       "      <th>subject</th>\n",
       "    </tr>\n",
       "  </thead>\n",
       "  <tbody>\n",
       "    <tr>\n",
       "      <th>0</th>\n",
       "      <td>0</td>\n",
       "      <td>教案_147709</td>\n",
       "      <td>教学内容分析\\n本节内容是在初中八年级下册的物理课程中，我们将学习第十一章 \"功和机械能\"的...</td>\n",
       "      <td>教学内容分析\\n本节内容是在讲解机械能及其转化。首先，我们会介绍机械能的构成，包括动能、重力...</td>\n",
       "      <td>教学内容分析\\n本节内容是在初中物理科目中，八年级下册的第十一章——功和机械能的第4节——机...</td>\n",
       "      <td>初中_八年级下册_人教版_物理_第十一章  功和机械能, 第4节  机械能及其转化\\n\\n情...</td>\n",
       "      <td>物理</td>\n",
       "    </tr>\n",
       "    <tr>\n",
       "      <th>1</th>\n",
       "      <td>1</td>\n",
       "      <td>教案_147714</td>\n",
       "      <td>教学内容分析\\n本节内容是在初中八年级下册的物理课程中，我们将学习第十一章 \"功和机械能\" ...</td>\n",
       "      <td>教学内容分析\\n本节内容是在讲解机械能及其转化。首先，我们会介绍机械能的概念，包括动能、重力...</td>\n",
       "      <td>教学内容分析\\n本节内容是在人教版八年级下册物理第十一章第四节《机械能及其转化》。本节主要介...</td>\n",
       "      <td>初中_八年级下册_人教版_物理_第十一章  功和机械能, 第4节  机械能及其转化\\n\\n情...</td>\n",
       "      <td>物理</td>\n",
       "    </tr>\n",
       "  </tbody>\n",
       "</table>\n",
       "</div>"
      ],
      "text/plain": [
       "   Unnamed: 0      lp_id                                   original_results  \\\n",
       "0           0  教案_147709  教学内容分析\\n本节内容是在初中八年级下册的物理课程中，我们将学习第十一章 \"功和机械能\"的...   \n",
       "1           1  教案_147714  教学内容分析\\n本节内容是在初中八年级下册的物理课程中，我们将学习第十一章 \"功和机械能\" ...   \n",
       "\n",
       "                                    textbook_results  \\\n",
       "0  教学内容分析\\n本节内容是在讲解机械能及其转化。首先，我们会介绍机械能的构成，包括动能、重力...   \n",
       "1  教学内容分析\\n本节内容是在讲解机械能及其转化。首先，我们会介绍机械能的概念，包括动能、重力...   \n",
       "\n",
       "                                        textbook_new  \\\n",
       "0  教学内容分析\\n本节内容是在初中物理科目中，八年级下册的第十一章——功和机械能的第4节——机...   \n",
       "1  教学内容分析\\n本节内容是在人教版八年级下册物理第十一章第四节《机械能及其转化》。本节主要介...   \n",
       "\n",
       "                                         lesson_info subject  \n",
       "0  初中_八年级下册_人教版_物理_第十一章  功和机械能, 第4节  机械能及其转化\\n\\n情...      物理  \n",
       "1  初中_八年级下册_人教版_物理_第十一章  功和机械能, 第4节  机械能及其转化\\n\\n情...      物理  "
      ]
     },
     "execution_count": 2,
     "metadata": {},
     "output_type": "execute_result"
    }
   ],
   "source": [
    "pred_df[:2]"
   ]
  },
  {
   "cell_type": "code",
   "execution_count": 3,
   "id": "3a033e1b",
   "metadata": {
    "ExecuteTime": {
     "end_time": "2025-01-17T02:23:42.187997Z",
     "start_time": "2025-01-17T02:23:41.638236Z"
    }
   },
   "outputs": [],
   "source": [
    "for subject in [\"英语\",\"物理\",\"化学\",\"科学\"]:\n",
    "    sub_df = pred_df[pred_df[\"subject\"]==subject]\n",
    "    \n",
    "    if subject in [\"英语\", \"物理\"]:\n",
    "        with open(f\"select_ids({subject}).txt\",\"r\") as f:\n",
    "            select_ids = f.readlines()\n",
    "            select_ids = [x.strip(\"\\n\") for x in select_ids]\n",
    "        select_df = sub_df[sub_df[\"lp_id\"].isin(select_ids)]\n",
    "    else:\n",
    "        select_df = sub_df\n",
    "        \n",
    "        # 重置索引，丢弃旧的索引\n",
    "    select_df_reset = select_df.reset_index(drop=True)\n",
    "    select_df_reset.index = select_df_reset.index+1\n",
    "    \n",
    "    for i,col in enumerate([\"textbook_new\"]):\n",
    "        select_df_reset[[\"lp_id\", \"lesson_info\", \"textbook_new\"]].to_csv(f\"anno_data/textbook/favi_0.0 {subject}.csv\", index_label=\"index\")\n",
    "            "
   ]
  },
  {
   "cell_type": "markdown",
   "id": "316626fa",
   "metadata": {},
   "source": [
    "# 检查一下是否真的是目标评估数据"
   ]
  },
  {
   "cell_type": "code",
   "execution_count": 4,
   "id": "de4eeeb1",
   "metadata": {
    "ExecuteTime": {
     "end_time": "2025-01-17T02:23:47.371794Z",
     "start_time": "2025-01-17T02:23:47.337023Z"
    }
   },
   "outputs": [],
   "source": [
    "df = pd.read_csv(\"anno_data/textbook/favi_0.0 物理.csv\")"
   ]
  },
  {
   "cell_type": "code",
   "execution_count": 7,
   "id": "ed2bba0d",
   "metadata": {
    "ExecuteTime": {
     "end_time": "2025-01-17T02:24:12.239487Z",
     "start_time": "2025-01-17T02:24:11.984963Z"
    }
   },
   "outputs": [
    {
     "data": {
      "text/plain": [
       "140"
      ]
     },
     "execution_count": 7,
     "metadata": {},
     "output_type": "execute_result"
    }
   ],
   "source": [
    "with open(\"/mnt/pfs_yq/zitao_team/shuyanwong/FaviComp/data/eval_lesson_plan_0106_favi_alpha_0_0.json\",\"r\", encoding=\"utf-8\") as f:\n",
    "    data = json.load(f)\n",
    "    \n",
    "cnt = 0\n",
    "\n",
    "for one_data in data:\n",
    "    if one_data[\"id\"] in list(df[\"lp_id\"]):\n",
    "        if one_data[\"conversations\"][1][\"value\"] in df[df[\"lp_id\"]==one_data[\"id\"]].iloc[0][\"textbook_new\"]:\n",
    "            cnt += 1\n",
    "cnt"
   ]
  }
 ],
 "metadata": {
  "kernelspec": {
   "display_name": "Python 3 (ipykernel)",
   "language": "python",
   "name": "python3"
  },
  "language_info": {
   "codemirror_mode": {
    "name": "ipython",
    "version": 3
   },
   "file_extension": ".py",
   "mimetype": "text/x-python",
   "name": "python",
   "nbconvert_exporter": "python",
   "pygments_lexer": "ipython3",
   "version": "3.6.5"
  },
  "toc": {
   "base_numbering": 1,
   "nav_menu": {},
   "number_sections": true,
   "sideBar": true,
   "skip_h1_title": false,
   "title_cell": "Table of Contents",
   "title_sidebar": "Contents",
   "toc_cell": false,
   "toc_position": {},
   "toc_section_display": true,
   "toc_window_display": false
  }
 },
 "nbformat": 4,
 "nbformat_minor": 5
}
