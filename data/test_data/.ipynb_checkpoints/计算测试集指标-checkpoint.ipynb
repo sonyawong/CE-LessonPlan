{
 "cells": [
  {
   "cell_type": "code",
   "execution_count": 2,
   "id": "40bbbaf0",
   "metadata": {
    "ExecuteTime": {
     "end_time": "2025-01-22T08:29:46.198044Z",
     "start_time": "2025-01-22T08:29:43.348500Z"
    }
   },
   "outputs": [],
   "source": [
    "from rouge_score import rouge_scorer"
   ]
  },
  {
   "cell_type": "code",
   "execution_count": 3,
   "id": "161ae5e8",
   "metadata": {
    "ExecuteTime": {
     "end_time": "2025-01-22T08:29:47.024601Z",
     "start_time": "2025-01-22T08:29:46.199912Z"
    }
   },
   "outputs": [],
   "source": [
    "import pandas as pd"
   ]
  },
  {
   "cell_type": "code",
   "execution_count": 4,
   "id": "97ca5ffc",
   "metadata": {
    "ExecuteTime": {
     "end_time": "2025-01-22T08:29:47.447437Z",
     "start_time": "2025-01-22T08:29:47.445176Z"
    }
   },
   "outputs": [],
   "source": [
    "import os"
   ]
  },
  {
   "cell_type": "code",
   "execution_count": 5,
   "id": "c5a59b8f",
   "metadata": {
    "ExecuteTime": {
     "end_time": "2025-01-22T08:29:48.040257Z",
     "start_time": "2025-01-22T08:29:48.038001Z"
    }
   },
   "outputs": [],
   "source": [
    "textbook_dir = \"/mnt/cfs/zengxiaoli/english_lesson_plan_generator/result/extract_kc_with_textbooks_0108/\""
   ]
  },
  {
   "cell_type": "code",
   "execution_count": 6,
   "id": "98c5f2a3",
   "metadata": {
    "ExecuteTime": {
     "end_time": "2025-01-22T08:29:49.036404Z",
     "start_time": "2025-01-22T08:29:48.524794Z"
    }
   },
   "outputs": [],
   "source": [
    "textbook_dict = dict()\n",
    "\n",
    "for file in os.listdir(textbook_dir):\n",
    "    with open(os.path.join(textbook_dir, file)) as f:\n",
    "        data = json.load(f)\n",
    "        textbook_dict[data[\"id\"]] = data[\"tips\"]"
   ]
  },
  {
   "cell_type": "code",
   "execution_count": 25,
   "id": "fdaec523",
   "metadata": {
    "ExecuteTime": {
     "end_time": "2025-01-22T12:35:57.016233Z",
     "start_time": "2025-01-22T12:35:56.933417Z"
    }
   },
   "outputs": [],
   "source": [
    "with open(\"/mnt/pfs_yq/zitao_team/shuyanwong/FaviComp/data/all_select_ids\",\"r\") as f:\n",
    "    all_select_ids = [x.strip(\"\\n\") for x in f.readlines()]"
   ]
  },
  {
   "cell_type": "code",
   "execution_count": 26,
   "id": "8633342f",
   "metadata": {
    "ExecuteTime": {
     "end_time": "2025-01-22T12:35:58.366464Z",
     "start_time": "2025-01-22T12:35:58.362596Z"
    }
   },
   "outputs": [],
   "source": [
    "import re\n",
    "\n",
    "def extract_lesson_info(text):\n",
    "\n",
    "    # 定义要提取的字段及其对应的正则表达式\n",
    "    fields = {\n",
    "        \"模块\": r\"## 模块\\n\\n```\\n(.*?)\\n```\",\n",
    "        \"学段\": r\"## 学段\\n\\n```\\n(.*?)\\n```\",\n",
    "        \"科目\": r\"## 科目\\n\\n```\\n(.*?)\\n```\",\n",
    "        \"教材版本\": r\"## 教材版本\\n\\n```\\n(.*?)\\n```\",\n",
    "        \"年级\": r\"## 年级\\n\\n```\\n(.*?)\\n```\",\n",
    "        \"章节\": r\"## 章节\\n\\n```\\n(.*?)\\n```\",\n",
    "        \"课程名\": r\"## 课程名\\n\\n```\\n(.*?)\\n```\",\n",
    "        \"示例\": r\"## 示例\\n\\n```\\n(.*?)\\n```\"\n",
    "    }\n",
    "\n",
    "    # 提取信息并存储到字典中\n",
    "    extracted_info = {}\n",
    "    for field, pattern in fields.items():\n",
    "        match = re.search(pattern, text, re.DOTALL)\n",
    "        if match:\n",
    "            extracted_info[field] = match.group(1).strip()\n",
    "\n",
    "#     # 打印提取的信息\n",
    "#     for key, value in extracted_info.items():\n",
    "#         print(f\"{key}: {value}\")\n",
    "    return extracted_info"
   ]
  },
  {
   "cell_type": "code",
   "execution_count": 43,
   "id": "49d88069",
   "metadata": {
    "ExecuteTime": {
     "end_time": "2025-01-23T13:39:53.877090Z",
     "start_time": "2025-01-23T13:39:53.192533Z"
    }
   },
   "outputs": [],
   "source": [
    "new_pred_results = []\n",
    "new_textbook_results = []\n",
    "with open(\"/mnt/pfs_yq/zitao_team/shuyanwong/lesson_plan/run_model/results/model_eval/lesson_plan_generation/Qwen2.5-72B-Instruct_k5_a0.8_eval_lesson_plan_0117.jsonl\",\"r\") as f:\n",
    "    \n",
    "    data = json.load(f)\n",
    "    \n",
    "    for one_data in data:\n",
    "        \n",
    "        try:\n",
    "            subject = one_data[\"lesson_info\"].split(\"_\")[1]\n",
    "        except:\n",
    "            extracted_info = extract_lesson_info(one_data[\"conversations\"][0][\"value\"])\n",
    "            subject = extracted_info[\"科目\"]\n",
    "        \n",
    "        if one_data[\"id\"] not in all_select_ids:\n",
    "            continue        \n",
    "        \n",
    "        new_pred_results.append(one_data[\"conversations\"][1][\"value\"])\n",
    "        new_textbook_results.append(textbook_dict[one_data[\"id\"]])"
   ]
  },
  {
   "cell_type": "code",
   "execution_count": 44,
   "id": "0a7fd3b2",
   "metadata": {
    "ExecuteTime": {
     "end_time": "2025-01-23T13:39:56.065204Z",
     "start_time": "2025-01-23T13:39:56.061991Z"
    }
   },
   "outputs": [
    {
     "data": {
      "text/plain": [
       "(700, 100)"
      ]
     },
     "execution_count": 44,
     "metadata": {},
     "output_type": "execute_result"
    }
   ],
   "source": [
    "len(new_textbook_results), len(all_select_ids)"
   ]
  },
  {
   "cell_type": "code",
   "execution_count": 12,
   "id": "35feb66c",
   "metadata": {
    "ExecuteTime": {
     "end_time": "2025-01-22T08:39:23.758336Z",
     "start_time": "2025-01-22T08:39:23.716119Z"
    }
   },
   "outputs": [],
   "source": [
    "with open(\"all_select_ids\",\"w\") as f:\n",
    "    for ids in all_select_ids:\n",
    "        f.write(str(ids)+\"\\n\")"
   ]
  },
  {
   "cell_type": "code",
   "execution_count": 33,
   "id": "ebd652fb",
   "metadata": {
    "ExecuteTime": {
     "end_time": "2025-01-16T02:13:28.323168Z",
     "start_time": "2025-01-16T02:13:27.780194Z"
    }
   },
   "outputs": [],
   "source": [
    "df = pd.read_csv(\"/mnt/pfs_yq/zitao_team/shuyanwong/FaviComp/data/eval_lesson_plan_0106.csv\")"
   ]
  },
  {
   "cell_type": "code",
   "execution_count": 34,
   "id": "ad5c2ef0",
   "metadata": {
    "ExecuteTime": {
     "end_time": "2025-01-16T02:13:28.817137Z",
     "start_time": "2025-01-16T02:13:28.753298Z"
    }
   },
   "outputs": [],
   "source": [
    "match_textbook = []\n",
    "\n",
    "for i,row in df.iterrows():\n",
    "    match_textbook.append(textbook_dict[row[\"lp_id\"]])"
   ]
  },
  {
   "cell_type": "code",
   "execution_count": 36,
   "id": "13958d4c",
   "metadata": {
    "ExecuteTime": {
     "end_time": "2025-01-16T02:13:30.677588Z",
     "start_time": "2025-01-16T02:13:30.674572Z"
    }
   },
   "outputs": [],
   "source": [
    "df[\"extract_textbook\"] = match_textbook"
   ]
  },
  {
   "cell_type": "code",
   "execution_count": 37,
   "id": "d9018b10",
   "metadata": {
    "ExecuteTime": {
     "end_time": "2025-01-16T02:13:31.335197Z",
     "start_time": "2025-01-16T02:13:31.332766Z"
    }
   },
   "outputs": [],
   "source": [
    "refs = list(df[\"extract_textbook\"])"
   ]
  },
  {
   "cell_type": "code",
   "execution_count": 38,
   "id": "f02282e8",
   "metadata": {
    "ExecuteTime": {
     "end_time": "2025-01-16T02:13:32.309088Z",
     "start_time": "2025-01-16T02:13:32.305197Z"
    }
   },
   "outputs": [],
   "source": [
    "textbook_results = list(df[\"只带教材预测结果\"])\n",
    "raw_results = list(df[\"原始生成结果\"])\n",
    "favi_results = new_textbook_results"
   ]
  },
  {
   "cell_type": "code",
   "execution_count": 39,
   "id": "218b464e",
   "metadata": {
    "ExecuteTime": {
     "end_time": "2025-01-16T02:13:33.300224Z",
     "start_time": "2025-01-16T02:13:33.295013Z"
    }
   },
   "outputs": [],
   "source": [
    "import numpy as np"
   ]
  },
  {
   "cell_type": "markdown",
   "id": "f476e256",
   "metadata": {
    "heading_collapsed": true
   },
   "source": [
    "# 计算BLEU"
   ]
  },
  {
   "cell_type": "code",
   "execution_count": 16,
   "id": "8a0756c8",
   "metadata": {
    "ExecuteTime": {
     "end_time": "2025-01-13T02:21:09.498755Z",
     "start_time": "2025-01-13T02:21:09.466245Z"
    },
    "hidden": true
   },
   "outputs": [],
   "source": [
    "import jieba"
   ]
  },
  {
   "cell_type": "code",
   "execution_count": 16,
   "id": "36c73745",
   "metadata": {
    "ExecuteTime": {
     "end_time": "2025-01-13T02:11:25.543208Z",
     "start_time": "2025-01-13T02:11:25.540855Z"
    },
    "hidden": true
   },
   "outputs": [],
   "source": [
    "from nltk.translate.bleu_score import sentence_bleu"
   ]
  },
  {
   "cell_type": "code",
   "execution_count": 17,
   "id": "b180a434",
   "metadata": {
    "ExecuteTime": {
     "end_time": "2025-01-13T02:11:31.555364Z",
     "start_time": "2025-01-13T02:11:26.788044Z"
    },
    "hidden": true
   },
   "outputs": [
    {
     "name": "stderr",
     "output_type": "stream",
     "text": [
      "Building prefix dict from the default dictionary ...\n",
      "Loading model from cache /tmp/jieba.cache\n",
      "Loading model cost 0.678 seconds.\n",
      "Prefix dict has been built successfully.\n",
      "/mnt/pfs/zitao_team/chenjiahao/apps/anaconda3/envs/tal-llm/lib/python3.8/site-packages/nltk/translate/bleu_score.py:577: UserWarning: \n",
      "The hypothesis contains 0 counts of 4-gram overlaps.\n",
      "Therefore the BLEU score evaluates to 0, independently of\n",
      "how many N-gram overlaps of lower order it contains.\n",
      "Consider using lower n-gram order or use SmoothingFunction()\n",
      "  warnings.warn(_msg)\n",
      "/mnt/pfs/zitao_team/chenjiahao/apps/anaconda3/envs/tal-llm/lib/python3.8/site-packages/nltk/translate/bleu_score.py:577: UserWarning: \n",
      "The hypothesis contains 0 counts of 3-gram overlaps.\n",
      "Therefore the BLEU score evaluates to 0, independently of\n",
      "how many N-gram overlaps of lower order it contains.\n",
      "Consider using lower n-gram order or use SmoothingFunction()\n",
      "  warnings.warn(_msg)\n",
      "/mnt/pfs/zitao_team/chenjiahao/apps/anaconda3/envs/tal-llm/lib/python3.8/site-packages/nltk/translate/bleu_score.py:577: UserWarning: \n",
      "The hypothesis contains 0 counts of 2-gram overlaps.\n",
      "Therefore the BLEU score evaluates to 0, independently of\n",
      "how many N-gram overlaps of lower order it contains.\n",
      "Consider using lower n-gram order or use SmoothingFunction()\n",
      "  warnings.warn(_msg)\n"
     ]
    },
    {
     "data": {
      "text/plain": [
       "0.06538819565613713"
      ]
     },
     "execution_count": 17,
     "metadata": {},
     "output_type": "execute_result"
    }
   ],
   "source": [
    "bleu_score = []\n",
    "\n",
    "for ref, pred in zip(refs, textbook_results):\n",
    "\n",
    "    # 使用 jieba 进行分词\n",
    "    reference_words = [list(jieba.cut(ref))]\n",
    "    candidate_words = list(jieba.cut(pred))\n",
    "\n",
    "    # 计算 BLEU-4 分数\n",
    "    weights = (0.25, 0.25, 0.25, 0.25)\n",
    "    score = sentence_bleu(reference_words, candidate_words, weights)\n",
    "    bleu_score.append(score)\n",
    "    \n",
    "np.mean(bleu_score)"
   ]
  },
  {
   "cell_type": "code",
   "execution_count": 18,
   "id": "55d4adc5",
   "metadata": {
    "ExecuteTime": {
     "end_time": "2025-01-13T02:11:44.087327Z",
     "start_time": "2025-01-13T02:11:40.221901Z"
    },
    "hidden": true
   },
   "outputs": [
    {
     "data": {
      "text/plain": [
       "0.0473778470515273"
      ]
     },
     "execution_count": 18,
     "metadata": {},
     "output_type": "execute_result"
    }
   ],
   "source": [
    "bleu_score = []\n",
    "\n",
    "for ref, pred in zip(refs, favi_results):\n",
    "\n",
    "    # 使用 jieba 进行分词\n",
    "    reference_words = [list(jieba.cut(ref))]\n",
    "    candidate_words = list(jieba.cut(pred))\n",
    "\n",
    "    # 计算 BLEU-4 分数\n",
    "    weights = (0.25, 0.25, 0.25, 0.25)\n",
    "    score = sentence_bleu(reference_words, candidate_words, weights)\n",
    "    bleu_score.append(score)\n",
    "    \n",
    "np.mean(bleu_score)"
   ]
  },
  {
   "cell_type": "code",
   "execution_count": 79,
   "id": "417869a6",
   "metadata": {
    "ExecuteTime": {
     "end_time": "2025-01-08T11:14:01.704881Z",
     "start_time": "2025-01-08T11:13:58.002980Z"
    },
    "hidden": true
   },
   "outputs": [
    {
     "data": {
      "text/plain": [
       "0.014642079026450391"
      ]
     },
     "execution_count": 79,
     "metadata": {},
     "output_type": "execute_result"
    }
   ],
   "source": [
    "bleu_score = []\n",
    "\n",
    "for ref, pred in zip(refs, raw_results):\n",
    "\n",
    "    # 使用 jieba 进行分词\n",
    "    reference_words = [list(jieba.cut(ref))]\n",
    "    candidate_words = list(jieba.cut(pred))\n",
    "\n",
    "    # 计算 BLEU-4 分数\n",
    "    weights = (0.25, 0.25, 0.25, 0.25)\n",
    "    score = sentence_bleu(reference_words, candidate_words, weights)\n",
    "    bleu_score.append(score)\n",
    "    \n",
    "np.mean(bleu_score)"
   ]
  },
  {
   "cell_type": "markdown",
   "id": "e447cf00",
   "metadata": {
    "ExecuteTime": {
     "end_time": "2025-01-08T09:07:57.705222Z",
     "start_time": "2025-01-08T09:07:57.703214Z"
    }
   },
   "source": [
    "# 计算ROUGE"
   ]
  },
  {
   "cell_type": "code",
   "execution_count": 19,
   "id": "e8731a5b",
   "metadata": {
    "ExecuteTime": {
     "end_time": "2025-01-13T02:22:31.138451Z",
     "start_time": "2025-01-13T02:22:27.081454Z"
    }
   },
   "outputs": [
    {
     "data": {
      "text/plain": [
       "(0.16299074828509388, 0.1443645935971212)"
      ]
     },
     "execution_count": 19,
     "metadata": {},
     "output_type": "execute_result"
    }
   ],
   "source": [
    "from rouge_score import rouge_scorer\n",
    "\n",
    "all_rouge_one, all_rouge_l = [], []\n",
    "\n",
    "for ref, pred in zip(refs, textbook_results):\n",
    "\n",
    "    reference_words = ' '.join(jieba.cut(ref))\n",
    "    candidate_words = ' '.join(jieba.cut(pred))\n",
    "    \n",
    "    # 创建 ROUGE 评分器\n",
    "    scorer = rouge_scorer.RougeScorer(['rouge1', 'rougeL'], use_stemmer=True)\n",
    "    scores = scorer.score(reference_words, candidate_words)\n",
    "    \n",
    "    all_rouge_one.append(scores['rouge1'])\n",
    "    all_rouge_l.append(scores['rougeL'])\n",
    "\n",
    "np.mean(all_rouge_one), np.mean(all_rouge_l)"
   ]
  },
  {
   "cell_type": "code",
   "execution_count": 47,
   "id": "efd1885e",
   "metadata": {
    "ExecuteTime": {
     "end_time": "2025-01-23T13:48:37.081147Z",
     "start_time": "2025-01-23T13:48:34.756302Z"
    }
   },
   "outputs": [
    {
     "data": {
      "text/plain": [
       "(11.9642308849375, 10.599143518890983)"
      ]
     },
     "execution_count": 47,
     "metadata": {},
     "output_type": "execute_result"
    }
   ],
   "source": [
    "import numpy as np\n",
    "from rouge_score import rouge_scorer\n",
    "import jieba\n",
    "\n",
    "all_rouge_one, all_rouge_l = [], []\n",
    "\n",
    "favi_results = new_pred_results\n",
    "refs = new_textbook_results\n",
    "\n",
    "for ref, pred in zip(refs, favi_results):\n",
    "\n",
    "    # 创建 ROUGE 评分器\n",
    "    \n",
    "    reference_words = ' '.join(jieba.cut(ref))\n",
    "    candidate_words = ' '.join(jieba.cut(pred))\n",
    "    \n",
    "    scorer = rouge_scorer.RougeScorer(['rouge1', 'rougeL'], use_stemmer=True)\n",
    "    scores = scorer.score(reference_words, candidate_words)\n",
    "    \n",
    "    all_rouge_one.append(scores['rouge1'])\n",
    "    all_rouge_l.append(scores['rougeL'])\n",
    "\n",
    "np.mean(all_rouge_one)*100, np.mean(all_rouge_l)*100"
   ]
  },
  {
   "cell_type": "code",
   "execution_count": 82,
   "id": "ec89c3ff",
   "metadata": {
    "ExecuteTime": {
     "end_time": "2025-01-08T11:14:33.433632Z",
     "start_time": "2025-01-08T11:14:29.179384Z"
    }
   },
   "outputs": [
    {
     "data": {
      "text/plain": [
       "(0.0613021305320691, 0.0523545358545488)"
      ]
     },
     "execution_count": 82,
     "metadata": {},
     "output_type": "execute_result"
    }
   ],
   "source": [
    "from rouge_score import rouge_scorer\n",
    "\n",
    "all_rouge_one, all_rouge_l = [], []\n",
    "\n",
    "for ref, pred in zip(refs, raw_results):\n",
    "    \n",
    "    reference_words = ' '.join(jieba.cut(ref))\n",
    "    candidate_words = ' '.join(jieba.cut(pred))\n",
    "\n",
    "    # 创建 ROUGE 评分器\n",
    "    scorer = rouge_scorer.RougeScorer(['rouge1', 'rougeL'], use_stemmer=True)\n",
    "    scores = scorer.score(reference_words, candidate_words)\n",
    "    \n",
    "    all_rouge_one.append(scores['rouge1'])\n",
    "    all_rouge_l.append(scores['rougeL'])\n",
    "\n",
    "np.mean(all_rouge_one), np.mean(all_rouge_l)"
   ]
  },
  {
   "cell_type": "markdown",
   "id": "da903713",
   "metadata": {
    "heading_collapsed": true
   },
   "source": [
    "# 计算多样性"
   ]
  },
  {
   "cell_type": "code",
   "execution_count": 112,
   "id": "3b0b8210",
   "metadata": {
    "ExecuteTime": {
     "end_time": "2025-01-08T12:03:31.303846Z",
     "start_time": "2025-01-08T12:03:31.297405Z"
    },
    "hidden": true
   },
   "outputs": [],
   "source": [
    "def distinct_n_gram_score(sentences, n):\n",
    "    \"\"\"\n",
    "    计算给定句子列表的 Distinct-n 分数\n",
    "    :param sentences: 句子列表，每个句子是一个单词列表\n",
    "    :param n: n-gram 的 n 值\n",
    "    :return: Distinct-n 分数\n",
    "    \"\"\"\n",
    "    n_grams = set()\n",
    "    total_n_grams = 0\n",
    "\n",
    "    for sentence in sentences:\n",
    "        sentence_n_grams = zip(*[sentence[i:] for i in range(n)])\n",
    "        n_grams.update(sentence_n_grams)\n",
    "        total_n_grams += len(sentence) - n + 1\n",
    "\n",
    "    if total_n_grams == 0:\n",
    "        return 0.0\n",
    "\n",
    "    return len(n_grams) / total_n_grams\n"
   ]
  },
  {
   "cell_type": "code",
   "execution_count": 113,
   "id": "73df808b",
   "metadata": {
    "ExecuteTime": {
     "end_time": "2025-01-08T12:03:34.569451Z",
     "start_time": "2025-01-08T12:03:32.111931Z"
    },
    "hidden": true
   },
   "outputs": [
    {
     "name": "stdout",
     "output_type": "stream",
     "text": [
      "Distinct-1 score: 0.48525166404375814\n",
      "Distinct-2 score: 0.6328605143397021\n"
     ]
    }
   ],
   "source": [
    "# 使用 jieba 进行分词\n",
    "\n",
    "all_distinct_1, all_distinct_2 = [], []\n",
    "\n",
    "tokenized_sentences = [list(jieba.cut(sentence.replace(\"。\",\"\").replace(\"，\",\"\").replace(\"、\",\"\").replace(\"\\n\",\"\").replace(\"</h1>\",\"\").replace(\"</h2>\",\"\").replace(\"<h1>\",\"\").replace(\"<h2>\",\"\"))) for sentence in raw_results]\n",
    "\n",
    "for sen in tokenized_sentences:\n",
    "    # 计算 Distinct-1 和 Distinct-2 分数\n",
    "    distinct_1 = distinct_n_gram_score(sen, 1)\n",
    "    distinct_2 = distinct_n_gram_score(sen, 2)\n",
    "    \n",
    "    all_distinct_1.append(distinct_1)\n",
    "    all_distinct_2.append(distinct_2)\n",
    "\n",
    "print(f\"Distinct-1 score: {np.mean(all_distinct_1)}\")\n",
    "print(f\"Distinct-2 score: {np.mean(all_distinct_2)}\")"
   ]
  },
  {
   "cell_type": "code",
   "execution_count": 121,
   "id": "b74f0809",
   "metadata": {
    "ExecuteTime": {
     "end_time": "2025-01-08T13:36:48.689044Z",
     "start_time": "2025-01-08T13:36:46.374470Z"
    },
    "hidden": true
   },
   "outputs": [
    {
     "name": "stdout",
     "output_type": "stream",
     "text": [
      "Distinct-1 score: 0.3900241758525481\n",
      "Distinct-2 score: 0.540716409267348\n"
     ]
    }
   ],
   "source": [
    "all_distinct_1, all_distinct_2 = [], []\n",
    "\n",
    "tokenized_sentences = [list(jieba.cut(sentence.replace(\"。\",\"\").replace(\"，\",\"\").replace(\"、\",\"\").replace(\"\\n\",\"\").replace(\"</h1>\",\"\").replace(\"</h2>\",\"\").replace(\"<h1>\",\"\").replace(\"<h2>\",\"\"))) for sentence in favi_results]\n",
    "\n",
    "for sen in tokenized_sentences:\n",
    "    # 计算 Distinct-1 和 Distinct-2 分数\n",
    "    distinct_1 = distinct_n_gram_score(sen, 1)\n",
    "    distinct_2 = distinct_n_gram_score(sen, 2)\n",
    "    \n",
    "    all_distinct_1.append(distinct_1)\n",
    "    all_distinct_2.append(distinct_2)\n",
    "\n",
    "print(f\"Distinct-1 score: {np.mean(all_distinct_1)}\")\n",
    "print(f\"Distinct-2 score: {np.mean(all_distinct_2)}\")"
   ]
  },
  {
   "cell_type": "code",
   "execution_count": 114,
   "id": "eaedaebe",
   "metadata": {
    "ExecuteTime": {
     "end_time": "2025-01-08T12:03:42.106133Z",
     "start_time": "2025-01-08T12:03:39.911942Z"
    },
    "hidden": true
   },
   "outputs": [
    {
     "name": "stdout",
     "output_type": "stream",
     "text": [
      "Distinct-1 score: 0.38964148713267766\n",
      "Distinct-2 score: 0.5587357894545327\n"
     ]
    }
   ],
   "source": [
    "all_distinct_1, all_distinct_2 = [], []\n",
    "\n",
    "tokenized_sentences = [list(jieba.cut(sentence.replace(\"。\",\"\").replace(\"，\",\"\").replace(\"、\",\"\").replace(\"\\n\",\"\").replace(\"</h1>\",\"\").replace(\"</h2>\",\"\").replace(\"<h1>\",\"\").replace(\"<h2>\",\"\"))) for sentence in textbook_results]\n",
    "\n",
    "for sen in tokenized_sentences:\n",
    "    # 计算 Distinct-1 和 Distinct-2 分数\n",
    "    distinct_1 = distinct_n_gram_score(sen, 1)\n",
    "    distinct_2 = distinct_n_gram_score(sen, 2)\n",
    "    \n",
    "    all_distinct_1.append(distinct_1)\n",
    "    all_distinct_2.append(distinct_2)\n",
    "\n",
    "print(f\"Distinct-1 score: {np.mean(all_distinct_1)}\")\n",
    "print(f\"Distinct-2 score: {np.mean(all_distinct_2)}\")"
   ]
  },
  {
   "cell_type": "markdown",
   "id": "6206223a",
   "metadata": {
    "heading_collapsed": true
   },
   "source": [
    "# 提取教材中涉及的知识点"
   ]
  },
  {
   "cell_type": "code",
   "execution_count": 52,
   "id": "90ca631d",
   "metadata": {
    "ExecuteTime": {
     "end_time": "2025-01-08T09:35:40.278373Z",
     "start_time": "2025-01-08T09:35:40.275439Z"
    },
    "hidden": true
   },
   "outputs": [
    {
     "data": {
      "text/plain": [
       "(1400, 15)"
      ]
     },
     "execution_count": 52,
     "metadata": {},
     "output_type": "execute_result"
    }
   ],
   "source": [
    "df.shape"
   ]
  },
  {
   "cell_type": "code",
   "execution_count": 53,
   "id": "4d32eb57",
   "metadata": {
    "ExecuteTime": {
     "end_time": "2025-01-08T09:53:10.191097Z",
     "start_time": "2025-01-08T09:53:10.185088Z"
    },
    "hidden": true
   },
   "outputs": [],
   "source": [
    "# 使用groupby和agg方法对每个组进行合并\n",
    "merged_df = df.groupby('lp_id').agg({\n",
    "    'grade': 'first', \n",
    "    'subject': 'first', \n",
    "    'version': 'first', \n",
    "    'level': 'first', \n",
    "    'topic': 'first',\n",
    "    'textbook': 'first',\n",
    "}).reset_index()"
   ]
  },
  {
   "cell_type": "code",
   "execution_count": 54,
   "id": "1616ebb2",
   "metadata": {
    "ExecuteTime": {
     "end_time": "2025-01-08T09:53:16.665870Z",
     "start_time": "2025-01-08T09:53:16.662971Z"
    },
    "hidden": true
   },
   "outputs": [
    {
     "data": {
      "text/plain": [
       "(200, 7)"
      ]
     },
     "execution_count": 54,
     "metadata": {},
     "output_type": "execute_result"
    }
   ],
   "source": [
    "merged_df.shape"
   ]
  },
  {
   "cell_type": "code",
   "execution_count": 56,
   "id": "84ce5de4",
   "metadata": {
    "ExecuteTime": {
     "end_time": "2025-01-08T09:56:21.575417Z",
     "start_time": "2025-01-08T09:56:21.570704Z"
    },
    "hidden": true
   },
   "outputs": [
    {
     "data": {
      "text/plain": [
       "lp_id                                               教案_147709\n",
       "grade                                                   八年级下册\n",
       "subject                                                    物理\n",
       "version                                                   人教版\n",
       "level                                                      初中\n",
       "topic                             第十一章  功和机械能@@@@第4节  机械能及其转化\n",
       "textbook    主要内容：机械能包括动能、重力势能和弹性势能。一个物体可以既有动能，又有势能。动能和势能可以...\n",
       "Name: 0, dtype: object"
      ]
     },
     "execution_count": 56,
     "metadata": {},
     "output_type": "execute_result"
    }
   ],
   "source": [
    "row"
   ]
  },
  {
   "cell_type": "code",
   "execution_count": 59,
   "id": "f0a706ac",
   "metadata": {
    "ExecuteTime": {
     "end_time": "2025-01-08T09:57:22.015535Z",
     "start_time": "2025-01-08T09:57:22.001674Z"
    },
    "hidden": true
   },
   "outputs": [],
   "source": [
    "all_data = []\n",
    "\n",
    "for i,row in merged_df.iterrows():\n",
    "    lesson_info = \"_\".join([row[\"grade\"], row[\"subject\"], row[\"version\"], row[\"level\"], row[\"topic\"].replace(\"@@@@\",\", \")])\n",
    "    one_data = {\"id\":row[\"lp_id\"], \"lesson_info\":lesson_info, \"textbook_content\":row[\"textbook\"]}\n",
    "    all_data.append(one_data)"
   ]
  },
  {
   "cell_type": "code",
   "execution_count": 62,
   "id": "ff8a64d2",
   "metadata": {
    "ExecuteTime": {
     "end_time": "2025-01-08T09:59:07.225909Z",
     "start_time": "2025-01-08T09:59:07.179000Z"
    },
    "hidden": true
   },
   "outputs": [],
   "source": [
    "with open(\"./extract_kc_with_textbooks.json\",\"w\") as f:\n",
    "    json.dump(all_data, f, indent=4, ensure_ascii=False)"
   ]
  },
  {
   "cell_type": "markdown",
   "id": "70d0a11d",
   "metadata": {},
   "source": [
    "# 批量计算baseline指标"
   ]
  },
  {
   "cell_type": "code",
   "execution_count": 19,
   "id": "8b78035c",
   "metadata": {
    "ExecuteTime": {
     "end_time": "2025-01-22T12:33:39.719925Z",
     "start_time": "2025-01-22T12:33:39.717658Z"
    }
   },
   "outputs": [],
   "source": [
    "import os\n",
    "import pandas as pd\n",
    "import json\n",
    "import numpy as np"
   ]
  },
  {
   "cell_type": "code",
   "execution_count": 35,
   "id": "c1415537",
   "metadata": {
    "ExecuteTime": {
     "end_time": "2025-01-23T02:18:30.720168Z",
     "start_time": "2025-01-23T02:18:30.716940Z"
    }
   },
   "outputs": [],
   "source": [
    "model2file = {\"GPT4-FAST_ori\": \"/mnt/cfs/zhengying/lesson_plan_generator_zy/eval_data/GPT4-FAST_0102/GPT4-FAST_ori.json\",\n",
    "                \"gemini15-pro_ori\": \"/mnt/cfs/zhengying/lesson_plan_generator_zy/eval_data/gemini15-pro_0102/gemini15-pro_ori.json\",\n",
    "                \"GPT4-FAST_with_textbook\": \"/mnt/cfs/zhengying/lesson_plan_generator_zy/eval_data/GPT4-FAST_0113/GPT4-FAST_with_textbook.json\",\n",
    "                \"gemini15-pro_with_textbook\": \"/mnt/cfs/zhengying/lesson_plan_generator_zy/eval_data/gemini15-pro_0113/gemini15-pro_with_textbook.json\",\n",
    "                \"GPT4-FAST_with_examples\": \"/mnt/cfs/zhengying/lesson_plan_generator_zy/eval_data/GPT4-FAST_0114/GPT4-FAST_with_examples.json\",\n",
    "                \"gemini15-pro_with_examples\": \"/mnt/cfs/zhengying/lesson_plan_generator_zy/eval_data/gemini15-pro_0114/gemini15-pro_with_examples.json\",\n",
    "                \"GLM-4\":\"/mnt/cfs/zhengying/lesson_plan_generator_zy/eval_data/GLM-4/GLM-4_ori.json\",\n",
    "                \"self-critique\":\"/mnt/cfs/zhengying/jiaoan_generate/GPT4-FAST/lesson_gen_AIED_1225/self-critique_ori.json\",\n",
    "                \"GPT4-both\":\"/mnt/cfs/zhengying/lesson_plan_generator_zy/eval_data/GPT4-FAST_0116/GPT4-FAST_with_tb&examples.json\",\n",
    "                 \"gemini15-both\":\"/mnt/cfs/zhengying/lesson_plan_generator_zy/eval_data/gemini15-pro_0116/gemini15-pro_with_tb&examples.json\",\n",
    "                \"claude3-sonnet_ori\":\"/mnt/cfs/zhengying/lesson_plan_generator_zy/eval_data/claude3-sonnet_0122/claude3-sonnet_ori.json\"}"
   ]
  },
  {
   "cell_type": "code",
   "execution_count": null,
   "id": "b218126d",
   "metadata": {},
   "outputs": [],
   "source": [
    "model2file = {\"\"}"
   ]
  },
  {
   "cell_type": "code",
   "execution_count": 48,
   "id": "fdbf0059",
   "metadata": {
    "ExecuteTime": {
     "end_time": "2025-01-22T07:02:36.969997Z",
     "start_time": "2025-01-22T07:02:36.967874Z"
    }
   },
   "outputs": [],
   "source": [
    "textbook_dir = \"/mnt/cfs/zengxiaoli/english_lesson_plan_generator/result/extract_kc_with_textbooks_0108/\""
   ]
  },
  {
   "cell_type": "code",
   "execution_count": 44,
   "id": "0f53e2ac",
   "metadata": {
    "ExecuteTime": {
     "end_time": "2025-01-22T07:00:41.975288Z",
     "start_time": "2025-01-22T07:00:41.819878Z"
    }
   },
   "outputs": [],
   "source": [
    "textbook_dict = dict()\n",
    "\n",
    "for file in os.listdir(textbook_dir):\n",
    "    with open(os.path.join(textbook_dir, file)) as f:\n",
    "        data = json.load(f)\n",
    "        textbook_dict[data[\"id\"]] = data[\"tips\"]"
   ]
  },
  {
   "cell_type": "code",
   "execution_count": 50,
   "id": "1bd820e9",
   "metadata": {
    "ExecuteTime": {
     "end_time": "2025-01-22T07:02:39.272017Z",
     "start_time": "2025-01-22T07:02:39.152627Z"
    }
   },
   "outputs": [],
   "source": [
    "df = pd.read_csv(\"/mnt/pfs_yq/zitao_team/shuyanwong/FaviComp/data/eval_lesson_plan_0106.csv\")"
   ]
  },
  {
   "cell_type": "code",
   "execution_count": 17,
   "id": "f6c9530f",
   "metadata": {
    "ExecuteTime": {
     "end_time": "2025-01-22T12:33:26.088573Z",
     "start_time": "2025-01-22T12:33:25.882948Z"
    }
   },
   "outputs": [],
   "source": [
    "from rouge_score import rouge_scorer\n",
    "import jieba\n",
    "\n",
    "def compute_rouge_score(refs, preds):\n",
    "\n",
    "    all_rouge_one, all_rouge_l = [], []\n",
    "\n",
    "    for ref, pred in zip(refs, preds):\n",
    "\n",
    "        # 创建 ROUGE 评分器\n",
    "        if pred is None:\n",
    "            pred = \"\"\n",
    "        try:\n",
    "            reference_words = ' '.join(jieba.cut(ref))\n",
    "            candidate_words = ' '.join(jieba.cut(pred))\n",
    "        except:\n",
    "            print(f\"pred:{pred}\")\n",
    "\n",
    "        scorer = rouge_scorer.RougeScorer(['rouge1', 'rougeL'], use_stemmer=True)\n",
    "        scores = scorer.score(reference_words, candidate_words)\n",
    "        # print(f\"{scores['rouge1']}, {scores['rouge1']}\")\n",
    "        all_rouge_one.append(scores['rouge1'])\n",
    "        all_rouge_l.append(scores['rougeL'])\n",
    "\n",
    "    rouge_one, rouge_l = np.mean(all_rouge_one), np.mean(all_rouge_l)\n",
    "    \n",
    "    return rouge_one, rouge_l"
   ]
  },
  {
   "cell_type": "code",
   "execution_count": 56,
   "id": "1cb98e2e",
   "metadata": {
    "ExecuteTime": {
     "end_time": "2025-01-22T07:06:20.044579Z",
     "start_time": "2025-01-22T07:06:20.040927Z"
    }
   },
   "outputs": [
    {
     "data": {
      "text/plain": [
       "(490, 490)"
      ]
     },
     "execution_count": 56,
     "metadata": {},
     "output_type": "execute_result"
    }
   ],
   "source": [
    "len(preds), len(refs)"
   ]
  },
  {
   "cell_type": "code",
   "execution_count": 57,
   "id": "ba2d4496",
   "metadata": {
    "ExecuteTime": {
     "end_time": "2025-01-22T07:06:40.940362Z",
     "start_time": "2025-01-22T07:06:40.936967Z"
    }
   },
   "outputs": [
    {
     "data": {
      "text/plain": [
       "{'conversations': [{'from': 'human',\n",
       "   'value': \"## 任务描述\\n\\n你是一个资深教研，任务是来检查初级老师做的教案内容是否可用，你只需要输出是否可用即可。如果可用输出 `<correct>`，不可用输出 `<incorrect>。`\\n\\n## 输入内容\\n\\n课程信息:\\n\\n小学_四年级下册_（新起点）人教版_英语_Unit 3 Travel Plans, Lesson 2\\n\\n教材内容:\\n\\n\\n\\nA. Look, listen and repeat.\\n\\n- 对话练习：母亲和儿子讨论暑假计划，儿子想去三亚游泳和吃海鲜。\\n\\nB. Do a survey and report.\\n\\n- 调查和报告：询问同学暑假计划并记录。例子中，Bill 想和父母去敦煌参观莫高窟。\\n\\nC. Let's write.\\n\\n- 写作练习：学生写下他们的暑假计划和想做的事情。\\n\\n\\n\\n模块:\\n\\n```\\n\\n教学评价\\n\\n```\\n\\n内容:\\n\\n```\\n\\n<h1>学生评估</h1>\\n学生能否正确使用本课所学的词汇和句型。  \\n学生在小组活动中的参与度和合作情况。  \\n学生在口语练习中的发音和流利度。  \\n学生对旅行计划话题的理解和表达能力。\\n\\n<h1>课堂评估</h1>\\n课堂活动是否有效激发了学生的学习兴趣。  \\n教学内容是否符合学生的认知水平和实际需求。  \\n教学环节的安排是否合理，时间分配是否恰当。  \\n课堂气氛是否活跃，学生是否积极参与互动。\\n\\n<h1>教师评估</h1>\\n教师的教学目标是否明确且达成。  \\n教师的课堂管理是否有效，能否调动学生的积极性。  \\n教师的讲解是否清晰易懂，能否引导学生理解和运用所学内容。  \\n教师在教学过程中是否给予学生充分的鼓励和反馈。\\n\\n```\\n\\n输出:\\n\"},\n",
       "  {'from': 'gpt', 'value': ''}],\n",
       " 'id': '教案_196029',\n",
       " 'model': 'GPT4-FAST_ori',\n",
       " 'response': '<h1>学生评估</h1>\\n学生能否正确使用本课所学的词汇和句型。  \\n学生在小组活动中的参与度和合作情况。  \\n学生在口语练习中的发音和流利度。  \\n学生对旅行计划话题的理解和表达能力。\\n\\n<h1>课堂评估</h1>\\n课堂活动是否有效激发了学生的学习兴趣。  \\n教学内容是否符合学生的认知水平和实际需求。  \\n教学环节的安排是否合理，时间分配是否恰当。  \\n课堂气氛是否活跃，学生是否积极参与互动。\\n\\n<h1>教师评估</h1>\\n教师的教学目标是否明确且达成。  \\n教师的课堂管理是否有效，能否调动学生的积极性。  \\n教师的讲解是否清晰易懂，能否引导学生理解和运用所学内容。  \\n教师在教学过程中是否给予学生充分的鼓励和反馈。'}"
      ]
     },
     "execution_count": 57,
     "metadata": {},
     "output_type": "execute_result"
    }
   ],
   "source": [
    "one_data"
   ]
  },
  {
   "cell_type": "code",
   "execution_count": 36,
   "id": "644d2962",
   "metadata": {
    "ExecuteTime": {
     "end_time": "2025-01-23T02:18:40.035635Z",
     "start_time": "2025-01-23T02:18:38.405120Z"
    }
   },
   "outputs": [
    {
     "name": "stdout",
     "output_type": "stream",
     "text": [
      "model:claude3-sonnet_ori \t rouge_1:0.06057432036223242, rouge_l:0.05300220460438286\n"
     ]
    }
   ],
   "source": [
    "for model in model2file:\n",
    "    if model in [\"claude3-sonnet_ori\"]:\n",
    "        with open(model2file[model],\"r\") as f:\n",
    "            data = json.load(f)\n",
    "        preds, refs = [], []\n",
    "        for one_data in data:\n",
    "            if one_data[\"id\"] not in all_select_ids:\n",
    "                continue\n",
    "            preds.append(one_data[\"response\"])\n",
    "            refs.append(textbook_dict[one_data[\"id\"]])\n",
    "\n",
    "        rouge_one, rouge_l = compute_rouge_score(refs, preds)\n",
    "\n",
    "        print(f\"model:{model} \\t rouge_1:{rouge_one}, rouge_l:{rouge_l}\")"
   ]
  },
  {
   "cell_type": "code",
   "execution_count": 21,
   "id": "5621fa6d",
   "metadata": {
    "ExecuteTime": {
     "end_time": "2025-01-22T12:33:50.379830Z",
     "start_time": "2025-01-22T12:33:50.375538Z"
    }
   },
   "outputs": [
    {
     "data": {
      "text/plain": [
       "(700, 700)"
      ]
     },
     "execution_count": 21,
     "metadata": {},
     "output_type": "execute_result"
    }
   ],
   "source": [
    "len(preds), len(refs)"
   ]
  },
  {
   "cell_type": "markdown",
   "id": "be3dc4db",
   "metadata": {},
   "source": [
    "# 计算格式正确率"
   ]
  },
  {
   "cell_type": "code",
   "execution_count": 42,
   "id": "23758456",
   "metadata": {
    "ExecuteTime": {
     "end_time": "2025-01-23T02:44:47.703671Z",
     "start_time": "2025-01-23T02:44:47.700113Z"
    }
   },
   "outputs": [
    {
     "name": "stdout",
     "output_type": "stream",
     "text": [
      "皮尔逊相关系数: 0.935562851463675\n"
     ]
    }
   ],
   "source": [
    "import numpy as np\n",
    "\n",
    "# 定义数据\n",
    "group_a = [8.28, 6.58, 6.71, 13.32, 14.85]\n",
    "group_b = [2.287, 2.209, 2.264, 2.332, 2.386]\n",
    "\n",
    "# 计算皮尔逊相关系数\n",
    "correlation_matrix = np.corrcoef(group_a, group_b)\n",
    "pearson_correlation = correlation_matrix[0, 1]\n",
    "\n",
    "print(f'皮尔逊相关系数: {pearson_correlation}')\n"
   ]
  },
  {
   "cell_type": "code",
   "execution_count": 41,
   "id": "7c52bdfc",
   "metadata": {
    "ExecuteTime": {
     "end_time": "2025-01-23T02:43:09.310665Z",
     "start_time": "2025-01-23T02:43:08.877471Z"
    }
   },
   "outputs": [
    {
     "data": {
      "image/png": "[encoded data removed]",
      "text/plain": [
       "<Figure size 800x600 with 1 Axes>"
      ]
     },
     "metadata": {},
     "output_type": "display_data"
    }
   ],
   "source": [
    "import matplotlib.pyplot as plt\n",
    "import seaborn as sns\n",
    "import numpy as np\n",
    "\n",
    "# 示例数据\n",
    "x = [8.28, 6.58, 6.71, 13.32, 14.85]\n",
    "y = [2.287, 2.209, 2.264, 2.332, 2.386]\n",
    "\n",
    "# 散点图\n",
    "plt.figure(figsize=(8, 6))\n",
    "sns.scatterplot(x=x, y=y)\n",
    "plt.title('Scatter plot of Indicator A and B')\n",
    "plt.xlabel('Indicator A')\n",
    "plt.ylabel('Indicator B')\n",
    "\n",
    "# 计算并显示相关系数\n",
    "correlation_coefficient = np.corrcoef(x, y)[0, 1]\n",
    "plt.text(min(x) + (max(x) - min(x)) * 0.1, max(y) - (max(y) - min(y)) * 0.1, \n",
    "         f'Correlation: {correlation_coefficient:.2f}', fontsize=12)\n",
    "\n",
    "plt.show()"
   ]
  }
 ],
 "metadata": {
  "kernelspec": {
   "display_name": "tal-llm",
   "language": "python",
   "name": "tal-llm"
  },
  "language_info": {
   "codemirror_mode": {
    "name": "ipython",
    "version": 3
   },
   "file_extension": ".py",
   "mimetype": "text/x-python",
   "name": "python",
   "nbconvert_exporter": "python",
   "pygments_lexer": "ipython3",
   "version": "3.8.16"
  },
  "toc": {
   "base_numbering": 1,
   "nav_menu": {},
   "number_sections": true,
   "sideBar": true,
   "skip_h1_title": false,
   "title_cell": "Table of Contents",
   "title_sidebar": "Contents",
   "toc_cell": false,
   "toc_position": {},
   "toc_section_display": true,
   "toc_window_display": false
  }
 },
 "nbformat": 4,
 "nbformat_minor": 5
}
