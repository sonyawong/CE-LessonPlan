{
 "cells": [
  {
   "cell_type": "code",
   "execution_count": 1,
   "id": "2b783b36",
   "metadata": {
    "ExecuteTime": {
     "end_time": "2024-12-27T07:34:42.594519Z",
     "start_time": "2024-12-27T07:34:41.901124Z"
    }
   },
   "outputs": [],
   "source": [
    "import pandas as pd\n",
    "import json"
   ]
  },
  {
   "cell_type": "markdown",
   "id": "4e1bbd33",
   "metadata": {
    "heading_collapsed": true
   },
   "source": [
    "# 比对教材"
   ]
  },
  {
   "cell_type": "code",
   "execution_count": 2,
   "id": "ce106eae",
   "metadata": {
    "ExecuteTime": {
     "end_time": "2024-12-27T07:34:46.501214Z",
     "start_time": "2024-12-27T07:34:42.616658Z"
    },
    "hidden": true
   },
   "outputs": [
    {
     "data": {
      "text/plain": [
       "95460"
      ]
     },
     "execution_count": 2,
     "metadata": {},
     "output_type": "execute_result"
    }
   ],
   "source": [
    "#真实教案\n",
    "\n",
    "with open(\"/mnt/cfs/shuyanwong/github/mathgpt-service/src/utils/prompt/retrieval_data_0805_all.json\") as f:\n",
    "    my_match_json = json.load(f)\n",
    "len(my_match_json)"
   ]
  },
  {
   "cell_type": "code",
   "execution_count": 3,
   "id": "c00c10c1",
   "metadata": {
    "ExecuteTime": {
     "end_time": "2024-12-27T07:34:46.924809Z",
     "start_time": "2024-12-27T07:34:46.502777Z"
    },
    "hidden": true
   },
   "outputs": [
    {
     "data": {
      "text/plain": [
       "74324"
      ]
     },
     "execution_count": 3,
     "metadata": {},
     "output_type": "execute_result"
    }
   ],
   "source": [
    "# bingsearch\n",
    "\n",
    "with open(\"/mnt/cfs/zhengying/lesson_plan_generator_zy/results/lesson_plans/lesson_retrieval_0708.json\") as f:\n",
    "    zy_match_json = json.load(f)\n",
    "len(zy_match_json)"
   ]
  },
  {
   "cell_type": "code",
   "execution_count": 4,
   "id": "9a838439",
   "metadata": {
    "ExecuteTime": {
     "end_time": "2024-12-27T07:34:46.942481Z",
     "start_time": "2024-12-27T07:34:46.926801Z"
    },
    "hidden": true
   },
   "outputs": [],
   "source": [
    "zy_match_json.update(my_match_json)"
   ]
  },
  {
   "cell_type": "code",
   "execution_count": 5,
   "id": "81ab8839",
   "metadata": {
    "ExecuteTime": {
     "end_time": "2024-12-27T07:34:48.655221Z",
     "start_time": "2024-12-27T07:34:46.944241Z"
    },
    "hidden": true
   },
   "outputs": [
    {
     "data": {
      "text/plain": [
       "5000"
      ]
     },
     "execution_count": 5,
     "metadata": {},
     "output_type": "execute_result"
    }
   ],
   "source": [
    "# 预留的5k条数据\n",
    "test_data = pd.read_json(\"/mnt/pfs_yq/zitao_team/shuyanwong/lesson_plan/run_model/sft_data/test_lesson_plan_all_info_0517.jsonl\",lines=True)\n",
    "test_ids = test_data[\"id\"].unique()\n",
    "len(test_ids)"
   ]
  },
  {
   "cell_type": "code",
   "execution_count": 6,
   "id": "3382e9b4",
   "metadata": {
    "ExecuteTime": {
     "end_time": "2024-12-27T07:34:49.617422Z",
     "start_time": "2024-12-27T07:34:48.656562Z"
    },
    "hidden": true
   },
   "outputs": [],
   "source": [
    "# 比对上目录的数据\n",
    "outline = pd.read_csv(\"/mnt/cfs/shuyanwong/github/lesson_plan_generator/切分数据/教案目录标注人工结果合并版本(包含重复数据).csv\")\n",
    "match_outline = outline[outline[\"标注结果\"]==1]\n",
    "match_ids = match_outline[\"教案序号\"]"
   ]
  },
  {
   "cell_type": "code",
   "execution_count": 7,
   "id": "ddda7279",
   "metadata": {
    "ExecuteTime": {
     "end_time": "2024-12-27T07:34:49.621995Z",
     "start_time": "2024-12-27T07:34:49.619013Z"
    },
    "hidden": true
   },
   "outputs": [
    {
     "data": {
      "text/plain": [
       "array(['教案_258407', '教案_268266', '教案_218486', ..., '教案_95843', '教案_95868',\n",
       "       '教案_9663'], dtype=object)"
      ]
     },
     "execution_count": 7,
     "metadata": {},
     "output_type": "execute_result"
    }
   ],
   "source": [
    "test_ids"
   ]
  },
  {
   "cell_type": "code",
   "execution_count": 8,
   "id": "593058cb",
   "metadata": {
    "ExecuteTime": {
     "end_time": "2024-12-27T07:34:49.658055Z",
     "start_time": "2024-12-27T07:34:49.623229Z"
    },
    "hidden": true
   },
   "outputs": [
    {
     "data": {
      "text/plain": [
       "2862"
      ]
     },
     "execution_count": 8,
     "metadata": {},
     "output_type": "execute_result"
    }
   ],
   "source": [
    "## 落在5000的ids\n",
    "overlap_ids_5000 = set(match_ids).intersection(test_ids)\n",
    "len(overlap_ids_5000)"
   ]
  },
  {
   "cell_type": "code",
   "execution_count": 12,
   "id": "8a4af03c",
   "metadata": {
    "ExecuteTime": {
     "end_time": "2024-12-27T07:37:27.468430Z",
     "start_time": "2024-12-27T07:37:27.449732Z"
    },
    "hidden": true
   },
   "outputs": [],
   "source": [
    "test_outline = match_outline[match_outline[\"教案序号\"].isin(overlap_ids_5000)]"
   ]
  },
  {
   "cell_type": "code",
   "execution_count": 17,
   "id": "8c4cfbc9",
   "metadata": {
    "ExecuteTime": {
     "end_time": "2024-12-27T07:43:24.007921Z",
     "start_time": "2024-12-27T07:43:23.985840Z"
    },
    "hidden": true
   },
   "outputs": [
    {
     "data": {
      "text/html": [
       "<div>\n",
       "<style scoped>\n",
       "    .dataframe tbody tr th:only-of-type {\n",
       "        vertical-align: middle;\n",
       "    }\n",
       "\n",
       "    .dataframe tbody tr th {\n",
       "        vertical-align: top;\n",
       "    }\n",
       "\n",
       "    .dataframe thead th {\n",
       "        text-align: right;\n",
       "    }\n",
       "</style>\n",
       "<table border=\"1\" class=\"dataframe\">\n",
       "  <thead>\n",
       "    <tr style=\"text-align: right;\">\n",
       "      <th></th>\n",
       "      <th>教案序号</th>\n",
       "      <th>module</th>\n",
       "      <th>original_module_content</th>\n",
       "      <th>conversations</th>\n",
       "      <th>text</th>\n",
       "      <th>result</th>\n",
       "      <th>check_result</th>\n",
       "      <th>reason</th>\n",
       "    </tr>\n",
       "  </thead>\n",
       "  <tbody>\n",
       "    <tr>\n",
       "      <th>0</th>\n",
       "      <td>教案_258407</td>\n",
       "      <td>教学重难点</td>\n",
       "      <td>&lt;h1&gt;1.重点&lt;/h1&gt;通过观察、思考和练习，让学生初步掌握“竖弯钩”的写法。\\n&lt;h1&gt;...</td>\n",
       "      <td>[{'from': 'human', 'value': '&lt;Action&gt; generate...</td>\n",
       "      <td>&lt;h1&gt;1.重点&lt;/h1&gt;通过观察、思考和练习，让学生初步掌握“竖弯钩”的写法。\\n&lt;h1&gt;...</td>\n",
       "      <td>{'is_good': True, 'info': {'reason': 'ok', 'te...</td>\n",
       "      <td>True</td>\n",
       "      <td>ok</td>\n",
       "    </tr>\n",
       "    <tr>\n",
       "      <th>1</th>\n",
       "      <td>教案_258407</td>\n",
       "      <td>教学准备</td>\n",
       "      <td>文房四宝、毛毡、墨汁、毛边纸、多媒体课件等。</td>\n",
       "      <td>[{'from': 'human', 'value': '&lt;Action&gt; generate...</td>\n",
       "      <td>文房四宝、毛毡、墨汁、毛边纸、多媒体课件等。</td>\n",
       "      <td>{'is_good': True, 'info': {'reason': 'ok', 'te...</td>\n",
       "      <td>True</td>\n",
       "      <td>ok</td>\n",
       "    </tr>\n",
       "    <tr>\n",
       "      <th>2</th>\n",
       "      <td>教案_268266</td>\n",
       "      <td>教学目标</td>\n",
       "      <td>1.通过教学使学生掌握平撇及其例字的写法。\\n2.激发学生对书法艺术的兴趣，使他们受到书法文...</td>\n",
       "      <td>[{'from': 'human', 'value': '&lt;Action&gt; generate...</td>\n",
       "      <td>1.通过教学使学生掌握平撇及其例字的写法。\\n2.激发学生对书法艺术的兴趣，使他们受到书法文...</td>\n",
       "      <td>{'is_good': True, 'info': {'reason': 'ok', 'te...</td>\n",
       "      <td>True</td>\n",
       "      <td>ok</td>\n",
       "    </tr>\n",
       "    <tr>\n",
       "      <th>3</th>\n",
       "      <td>教案_268266</td>\n",
       "      <td>教学重难点</td>\n",
       "      <td>&lt;h1&gt;1.重点&lt;/h1&gt;掌握平撇的书写特点。\\n&lt;h1&gt;2.难点&lt;/h1&gt;平撇的轻重提按及...</td>\n",
       "      <td>[{'from': 'human', 'value': '&lt;Action&gt; generate...</td>\n",
       "      <td>&lt;h1&gt;1.重点&lt;/h1&gt;掌握平撇的书写特点。\\n&lt;h1&gt;2.难点&lt;/h1&gt;平撇的轻重提按及...</td>\n",
       "      <td>{'is_good': True, 'info': {'reason': 'ok', 'te...</td>\n",
       "      <td>True</td>\n",
       "      <td>ok</td>\n",
       "    </tr>\n",
       "    <tr>\n",
       "      <th>4</th>\n",
       "      <td>教案_268266</td>\n",
       "      <td>教学准备</td>\n",
       "      <td>投影、多媒体课件、书写工具。</td>\n",
       "      <td>[{'from': 'human', 'value': '&lt;Action&gt; generate...</td>\n",
       "      <td>投影、多媒体课件、书写工具。</td>\n",
       "      <td>{'is_good': True, 'info': {'reason': 'ok', 'te...</td>\n",
       "      <td>True</td>\n",
       "      <td>ok</td>\n",
       "    </tr>\n",
       "    <tr>\n",
       "      <th>...</th>\n",
       "      <td>...</td>\n",
       "      <td>...</td>\n",
       "      <td>...</td>\n",
       "      <td>...</td>\n",
       "      <td>...</td>\n",
       "      <td>...</td>\n",
       "      <td>...</td>\n",
       "      <td>...</td>\n",
       "    </tr>\n",
       "    <tr>\n",
       "      <th>25032</th>\n",
       "      <td>教案_9663</td>\n",
       "      <td>教学目标</td>\n",
       "      <td>&lt;h1&gt;知识与技能&lt;/h1&gt;\\n1. 学生能够理解地质灾害的概念，知道地震、滑坡、泥石流等是...</td>\n",
       "      <td>[{'from': 'human', 'value': '&lt;Action&gt; generate...</td>\n",
       "      <td>&lt;h1&gt;知识与技能&lt;/h1&gt;1. 学生能够理解地质灾害的概念，知道地震、滑坡、泥石流等是地质...</td>\n",
       "      <td>{'is_good': True, 'info': {'reason': 'ok', 'te...</td>\n",
       "      <td>True</td>\n",
       "      <td>ok</td>\n",
       "    </tr>\n",
       "    <tr>\n",
       "      <th>25033</th>\n",
       "      <td>教案_9663</td>\n",
       "      <td>学情分析</td>\n",
       "      <td>&lt;h1&gt;前置知识点&lt;/h1&gt;学生已经学习过地理基础知识，对地球的基本构造和地壳的构造有一定的...</td>\n",
       "      <td>[{'from': 'human', 'value': '&lt;Action&gt; generate...</td>\n",
       "      <td>&lt;h1&gt;前置知识点&lt;/h1&gt;学生已经学习过地理基础知识，对地球的基本构造和地壳的构造有一定的...</td>\n",
       "      <td>{'is_good': True, 'info': {'reason': 'ok', 'te...</td>\n",
       "      <td>True</td>\n",
       "      <td>ok</td>\n",
       "    </tr>\n",
       "    <tr>\n",
       "      <th>25034</th>\n",
       "      <td>教案_9829</td>\n",
       "      <td>教学目标</td>\n",
       "      <td>&lt;h1&gt;知识与技能&lt;/h1&gt;\\n1. 学生能够全面复习和掌握必修二第八章的所有知识点。\\n2...</td>\n",
       "      <td>[{'from': 'human', 'value': '&lt;Action&gt; generate...</td>\n",
       "      <td>&lt;h1&gt;知识与技能&lt;/h1&gt;1. 学生能够全面复习和掌握必修二第八章的所有知识点。\\n2. ...</td>\n",
       "      <td>{'is_good': True, 'info': {'reason': 'ok', 'te...</td>\n",
       "      <td>True</td>\n",
       "      <td>ok</td>\n",
       "    </tr>\n",
       "    <tr>\n",
       "      <th>25035</th>\n",
       "      <td>教案_9829</td>\n",
       "      <td>教学过程</td>\n",
       "      <td>&lt;h1&gt;一、导入新课&lt;/h1&gt;\\n&lt;h2&gt;1.复习前章内容&lt;/h2&gt;\\n师：同学们，我们上一...</td>\n",
       "      <td>[{'from': 'human', 'value': '&lt;Action&gt; generate...</td>\n",
       "      <td>&lt;h1&gt;一、导入新课&lt;/h1&gt;&lt;h2&gt;1.复习前章内容&lt;/h2&gt;师：同学们，我们上一章学习了...</td>\n",
       "      <td>{'is_good': True, 'info': {'reason': 'ok', 'te...</td>\n",
       "      <td>True</td>\n",
       "      <td>ok</td>\n",
       "    </tr>\n",
       "    <tr>\n",
       "      <th>25036</th>\n",
       "      <td>教案_9829</td>\n",
       "      <td>板书设计</td>\n",
       "      <td>&lt;h1&gt;一、导入新课&lt;/h1&gt;\\n1.复习前章内容：化学反应的速率和化学平衡。\\n2.引出新...</td>\n",
       "      <td>[{'from': 'human', 'value': '&lt;Action&gt; generate...</td>\n",
       "      <td>&lt;h1&gt;一、导入新课&lt;/h1&gt;1.复习前章内容：化学反应的速率和化学平衡。\\n2.引出新课主...</td>\n",
       "      <td>{'is_good': True, 'info': {'reason': 'ok', 'te...</td>\n",
       "      <td>True</td>\n",
       "      <td>ok</td>\n",
       "    </tr>\n",
       "  </tbody>\n",
       "</table>\n",
       "<p>25037 rows × 8 columns</p>\n",
       "</div>"
      ],
      "text/plain": [
       "            教案序号 module                            original_module_content  \\\n",
       "0      教案_258407  教学重难点  <h1>1.重点</h1>通过观察、思考和练习，让学生初步掌握“竖弯钩”的写法。\\n<h1>...   \n",
       "1      教案_258407   教学准备                             文房四宝、毛毡、墨汁、毛边纸、多媒体课件等。   \n",
       "2      教案_268266   教学目标  1.通过教学使学生掌握平撇及其例字的写法。\\n2.激发学生对书法艺术的兴趣，使他们受到书法文...   \n",
       "3      教案_268266  教学重难点  <h1>1.重点</h1>掌握平撇的书写特点。\\n<h1>2.难点</h1>平撇的轻重提按及...   \n",
       "4      教案_268266   教学准备                                     投影、多媒体课件、书写工具。   \n",
       "...          ...    ...                                                ...   \n",
       "25032    教案_9663   教学目标  <h1>知识与技能</h1>\\n1. 学生能够理解地质灾害的概念，知道地震、滑坡、泥石流等是...   \n",
       "25033    教案_9663   学情分析  <h1>前置知识点</h1>学生已经学习过地理基础知识，对地球的基本构造和地壳的构造有一定的...   \n",
       "25034    教案_9829   教学目标  <h1>知识与技能</h1>\\n1. 学生能够全面复习和掌握必修二第八章的所有知识点。\\n2...   \n",
       "25035    教案_9829   教学过程  <h1>一、导入新课</h1>\\n<h2>1.复习前章内容</h2>\\n师：同学们，我们上一...   \n",
       "25036    教案_9829   板书设计  <h1>一、导入新课</h1>\\n1.复习前章内容：化学反应的速率和化学平衡。\\n2.引出新...   \n",
       "\n",
       "                                           conversations  \\\n",
       "0      [{'from': 'human', 'value': '<Action> generate...   \n",
       "1      [{'from': 'human', 'value': '<Action> generate...   \n",
       "2      [{'from': 'human', 'value': '<Action> generate...   \n",
       "3      [{'from': 'human', 'value': '<Action> generate...   \n",
       "4      [{'from': 'human', 'value': '<Action> generate...   \n",
       "...                                                  ...   \n",
       "25032  [{'from': 'human', 'value': '<Action> generate...   \n",
       "25033  [{'from': 'human', 'value': '<Action> generate...   \n",
       "25034  [{'from': 'human', 'value': '<Action> generate...   \n",
       "25035  [{'from': 'human', 'value': '<Action> generate...   \n",
       "25036  [{'from': 'human', 'value': '<Action> generate...   \n",
       "\n",
       "                                                    text  \\\n",
       "0      <h1>1.重点</h1>通过观察、思考和练习，让学生初步掌握“竖弯钩”的写法。\\n<h1>...   \n",
       "1                                 文房四宝、毛毡、墨汁、毛边纸、多媒体课件等。   \n",
       "2      1.通过教学使学生掌握平撇及其例字的写法。\\n2.激发学生对书法艺术的兴趣，使他们受到书法文...   \n",
       "3      <h1>1.重点</h1>掌握平撇的书写特点。\\n<h1>2.难点</h1>平撇的轻重提按及...   \n",
       "4                                         投影、多媒体课件、书写工具。   \n",
       "...                                                  ...   \n",
       "25032  <h1>知识与技能</h1>1. 学生能够理解地质灾害的概念，知道地震、滑坡、泥石流等是地质...   \n",
       "25033  <h1>前置知识点</h1>学生已经学习过地理基础知识，对地球的基本构造和地壳的构造有一定的...   \n",
       "25034  <h1>知识与技能</h1>1. 学生能够全面复习和掌握必修二第八章的所有知识点。\\n2. ...   \n",
       "25035  <h1>一、导入新课</h1><h2>1.复习前章内容</h2>师：同学们，我们上一章学习了...   \n",
       "25036  <h1>一、导入新课</h1>1.复习前章内容：化学反应的速率和化学平衡。\\n2.引出新课主...   \n",
       "\n",
       "                                                  result  check_result reason  \n",
       "0      {'is_good': True, 'info': {'reason': 'ok', 'te...          True     ok  \n",
       "1      {'is_good': True, 'info': {'reason': 'ok', 'te...          True     ok  \n",
       "2      {'is_good': True, 'info': {'reason': 'ok', 'te...          True     ok  \n",
       "3      {'is_good': True, 'info': {'reason': 'ok', 'te...          True     ok  \n",
       "4      {'is_good': True, 'info': {'reason': 'ok', 'te...          True     ok  \n",
       "...                                                  ...           ...    ...  \n",
       "25032  {'is_good': True, 'info': {'reason': 'ok', 'te...          True     ok  \n",
       "25033  {'is_good': True, 'info': {'reason': 'ok', 'te...          True     ok  \n",
       "25034  {'is_good': True, 'info': {'reason': 'ok', 'te...          True     ok  \n",
       "25035  {'is_good': True, 'info': {'reason': 'ok', 'te...          True     ok  \n",
       "25036  {'is_good': True, 'info': {'reason': 'ok', 'te...          True     ok  \n",
       "\n",
       "[25037 rows x 8 columns]"
      ]
     },
     "execution_count": 17,
     "metadata": {},
     "output_type": "execute_result"
    }
   ],
   "source": [
    "test_data.rename(columns={'id': '教案序号'}, inplace=True)\n",
    "test_data"
   ]
  },
  {
   "cell_type": "code",
   "execution_count": 103,
   "id": "da2cacab",
   "metadata": {
    "ExecuteTime": {
     "end_time": "2024-12-27T08:21:33.837594Z",
     "start_time": "2024-12-27T08:21:33.833246Z"
    },
    "hidden": true
   },
   "outputs": [],
   "source": [
    "# 查看有多少能关联上教材信息\n",
    "\n",
    "cnt = 0\n",
    "\n",
    "def retrieval_textbook(textbook_data, data):\n",
    "    global cnt\n",
    "#     topic = (\n",
    "#         first_lesson.strip() + \"_\" + second_lesson.strip() + \"_\" + kcs.replace(\",\", \"_\")\n",
    "#     )\n",
    "#     topic = topic.strip().strip(\"_\")\n",
    "#     topic = topic.replace(\"_ \",\", \")\n",
    "#     print(f\"topic:{topic}\")\n",
    "    \n",
    "    topic = \"_\".join([x.strip().strip(\"_\") for x in row[\"线上课程\"].split(\"@@@@\")])\n",
    "    \n",
    "    key_words = [\n",
    "        row[\"线上年级\"],\n",
    "        row[\"线上科目\"],\n",
    "        row[\"线上教材\"],\n",
    "        row[\"线上学段\"],\n",
    "        topic]\n",
    "    key_words_str = \"_\".join(key_words)\n",
    "#     print(f\"key_words:{key_words}\")\n",
    "\n",
    "    if key_words_str == \"二年级下_科学_湘科版（2017）_小学_第二单元 植物的生长_2 植物在生长\":\n",
    "        print(f\"key_words_str\")\n",
    "\n",
    "    tb_content = textbook_data.get(key_words_str, \"\")\n",
    "#     print(f\"tb_content:{tb_content}\")\n",
    "    if tb_content != \"\":\n",
    "        cnt += 1\n",
    "        return tb_content, key_words_str, cnt\n",
    "    else:\n",
    "        return \"\", key_words_str, cnt"
   ]
  },
  {
   "cell_type": "code",
   "execution_count": 104,
   "id": "20048906",
   "metadata": {
    "ExecuteTime": {
     "end_time": "2024-12-27T08:21:34.807285Z",
     "start_time": "2024-12-27T08:21:34.616314Z"
    },
    "hidden": true
   },
   "outputs": [
    {
     "data": {
      "text/plain": [
       "9322"
      ]
     },
     "execution_count": 104,
     "metadata": {},
     "output_type": "execute_result"
    }
   ],
   "source": [
    "import os\n",
    "source_dir = \"/mnt/cfs/shuyanwong/demo/mathgpt-service/src/utils/prompt\"\n",
    "\n",
    "with open(os.path.join(source_dir, \"lesson_textbook_rag_1119.json\"),\"r\") as f:\n",
    "    textbook_data = json.load(f)\n",
    "len(textbook_data)"
   ]
  },
  {
   "cell_type": "code",
   "execution_count": 106,
   "id": "82a6987d",
   "metadata": {
    "ExecuteTime": {
     "end_time": "2024-12-27T08:22:25.869907Z",
     "start_time": "2024-12-27T08:22:25.610350Z"
    },
    "hidden": true
   },
   "outputs": [
    {
     "name": "stdout",
     "output_type": "stream",
     "text": [
      "key_words_str\n"
     ]
    },
    {
     "name": "stderr",
     "output_type": "stream",
     "text": [
      "/mnt/pfs/zitao_team/chenjiahao/apps/anaconda3/envs/py3.6/lib/python3.6/site-packages/ipykernel_launcher.py:7: SettingWithCopyWarning: \n",
      "A value is trying to be set on a copy of a slice from a DataFrame.\n",
      "Try using .loc[row_indexer,col_indexer] = value instead\n",
      "\n",
      "See the caveats in the documentation: https://pandas.pydata.org/pandas-docs/stable/user_guide/indexing.html#returning-a-view-versus-a-copy\n",
      "  import sys\n"
     ]
    }
   ],
   "source": [
    "retrieved_textbooks, key_words = [], []\n",
    "\n",
    "for i,row in test_outline.iterrows():\n",
    "    tb_content, key_word, cnt = retrieval_textbook(textbook_data, row)\n",
    "    retrieved_textbooks.append(tb_content)\n",
    "    key_words.append(key_word)\n",
    "test_outline[\"教材内容\"] = retrieved_textbooks"
   ]
  },
  {
   "cell_type": "code",
   "execution_count": 183,
   "id": "52cd0b59",
   "metadata": {
    "ExecuteTime": {
     "end_time": "2024-12-27T10:05:56.700230Z",
     "start_time": "2024-12-27T10:05:56.696889Z"
    },
    "hidden": true
   },
   "outputs": [],
   "source": [
    "select_outline = test_outline[test_outline[\"教材内容\"]!=\"\"]"
   ]
  },
  {
   "cell_type": "code",
   "execution_count": 184,
   "id": "0d4e5afb",
   "metadata": {
    "ExecuteTime": {
     "end_time": "2024-12-27T10:05:57.781311Z",
     "start_time": "2024-12-27T10:05:57.776465Z"
    },
    "hidden": true
   },
   "outputs": [
    {
     "data": {
      "text/plain": [
       "英语    142\n",
       "物理     89\n",
       "科学     21\n",
       "化学     17\n",
       "Name: 科目, dtype: int64"
      ]
     },
     "execution_count": 184,
     "metadata": {},
     "output_type": "execute_result"
    }
   ],
   "source": [
    "select_outline[\"科目\"].value_counts()"
   ]
  },
  {
   "cell_type": "code",
   "execution_count": 147,
   "id": "09397641",
   "metadata": {
    "ExecuteTime": {
     "end_time": "2024-12-27T09:27:33.316464Z",
     "start_time": "2024-12-27T09:27:33.284449Z"
    },
    "hidden": true
   },
   "outputs": [],
   "source": [
    "merge_test_data = pd.merge(test_data, select_outline[['教案序号', '线上年级', '线上科目', '线上教材', '线上学段', '线上课程', \"教材内容\"]], on='教案序号', how='left')\n",
    "merge_test_data = merge_test_data[merge_test_data[\"教案序号\"].isin(select_outline[\"教案序号\"].tolist())]"
   ]
  },
  {
   "cell_type": "markdown",
   "id": "d42cd0ce",
   "metadata": {
    "heading_collapsed": true
   },
   "source": [
    "# 比对RAG"
   ]
  },
  {
   "cell_type": "code",
   "execution_count": 210,
   "id": "9af9b3e7",
   "metadata": {
    "ExecuteTime": {
     "end_time": "2024-12-27T10:22:55.527498Z",
     "start_time": "2024-12-27T10:22:55.524454Z"
    },
    "hidden": true
   },
   "outputs": [],
   "source": [
    "import re\n",
    "\n",
    "def extract_tch_mode(prompt):\n",
    "\n",
    "    # 使用正则表达式匹配“教学模式”部分\n",
    "    pattern = r'## 教学模式\\n\\n```\\n(.*?)\\n```'\n",
    "    match = re.search(pattern, prompt, re.DOTALL)\n",
    "\n",
    "    if match:\n",
    "        teaching_mode = match.group(1).strip()\n",
    "#         print(\"教学模式:\", teaching_mode)\n",
    "    else:\n",
    "        print(\"未找到教学模式\")\n",
    "    return teaching_mode"
   ]
  },
  {
   "cell_type": "code",
   "execution_count": 149,
   "id": "2aed6f2c",
   "metadata": {
    "ExecuteTime": {
     "end_time": "2024-12-27T09:27:37.632806Z",
     "start_time": "2024-12-27T09:27:37.629701Z"
    },
    "hidden": true
   },
   "outputs": [
    {
     "data": {
      "text/plain": [
       "(1136, 14)"
      ]
     },
     "execution_count": 149,
     "metadata": {},
     "output_type": "execute_result"
    }
   ],
   "source": [
    "merge_test_data.shape"
   ]
  },
  {
   "cell_type": "code",
   "execution_count": 153,
   "id": "25bb2a3b",
   "metadata": {
    "ExecuteTime": {
     "end_time": "2024-12-27T09:28:28.455386Z",
     "start_time": "2024-12-27T09:28:28.333228Z"
    },
    "hidden": true
   },
   "outputs": [],
   "source": [
    "all_retrieved_lp = []\n",
    "cnt, not_cnt = 0, 0\n",
    "for i,row in merge_test_data.iterrows():\n",
    "    if row[\"module\"] == \"教学过程\":\n",
    "        mode = extract_tch_mode(row[\"conversations\"][0][\"value\"])\n",
    "        key_words = [\n",
    "                row[\"线上年级\"],\n",
    "                row[\"线上科目\"],\n",
    "                row[\"线上教材\"],\n",
    "                row[\"线上学段\"],\n",
    "                row[\"线上课程\"].replace(\"@@@@\",\"\"),\n",
    "                mode,\n",
    "                row[\"module\"]]\n",
    "    else:\n",
    "        key_words = [\n",
    "                row[\"线上年级\"],\n",
    "                row[\"线上科目\"],\n",
    "                row[\"线上教材\"],\n",
    "                row[\"线上学段\"],\n",
    "                row[\"线上课程\"].replace(\"@@@@\",\"_\"),\n",
    "                row[\"module\"]]     \n",
    "    outline = \"_\".join(key_words)\n",
    "    retrievaled_lp = zy_match_json.get(outline, [])\n",
    "    if retrievaled_lp != []:\n",
    "        cnt += 1\n",
    "    else:\n",
    "        not_cnt += 1\n",
    "    all_retrieved_lp.append(retrievaled_lp)"
   ]
  },
  {
   "cell_type": "code",
   "execution_count": 154,
   "id": "ee79f9e7",
   "metadata": {
    "ExecuteTime": {
     "end_time": "2024-12-27T09:28:36.197915Z",
     "start_time": "2024-12-27T09:28:36.194727Z"
    },
    "hidden": true
   },
   "outputs": [
    {
     "data": {
      "text/plain": [
       "(1008, 128)"
      ]
     },
     "execution_count": 154,
     "metadata": {},
     "output_type": "execute_result"
    }
   ],
   "source": [
    "cnt, not_cnt"
   ]
  },
  {
   "cell_type": "code",
   "execution_count": 155,
   "id": "b6b69cd8",
   "metadata": {
    "ExecuteTime": {
     "end_time": "2024-12-27T09:30:03.655740Z",
     "start_time": "2024-12-27T09:30:03.650788Z"
    },
    "hidden": true
   },
   "outputs": [],
   "source": [
    "merge_test_data[\"retrieved_lp\"] = all_retrieved_lp"
   ]
  },
  {
   "cell_type": "code",
   "execution_count": 156,
   "id": "3f742559",
   "metadata": {
    "ExecuteTime": {
     "end_time": "2024-12-27T09:31:52.306157Z",
     "start_time": "2024-12-27T09:31:52.278341Z"
    },
    "hidden": true
   },
   "outputs": [
    {
     "data": {
      "text/html": [
       "<div>\n",
       "<style scoped>\n",
       "    .dataframe tbody tr th:only-of-type {\n",
       "        vertical-align: middle;\n",
       "    }\n",
       "\n",
       "    .dataframe tbody tr th {\n",
       "        vertical-align: top;\n",
       "    }\n",
       "\n",
       "    .dataframe thead th {\n",
       "        text-align: right;\n",
       "    }\n",
       "</style>\n",
       "<table border=\"1\" class=\"dataframe\">\n",
       "  <thead>\n",
       "    <tr style=\"text-align: right;\">\n",
       "      <th></th>\n",
       "      <th>教案序号</th>\n",
       "      <th>module</th>\n",
       "      <th>original_module_content</th>\n",
       "      <th>conversations</th>\n",
       "      <th>text</th>\n",
       "      <th>result</th>\n",
       "      <th>check_result</th>\n",
       "      <th>reason</th>\n",
       "      <th>线上年级</th>\n",
       "      <th>线上科目</th>\n",
       "      <th>线上教材</th>\n",
       "      <th>线上学段</th>\n",
       "      <th>线上课程</th>\n",
       "      <th>教材内容</th>\n",
       "      <th>retrieved_lp</th>\n",
       "    </tr>\n",
       "  </thead>\n",
       "  <tbody>\n",
       "    <tr>\n",
       "      <th>192</th>\n",
       "      <td>教案_167406</td>\n",
       "      <td>教学目标</td>\n",
       "      <td>&lt;h1&gt;1.知识与技能&lt;/h1&gt; \\n（1）了解人体的元素组成。 \\n（2）了解某些元素（如...</td>\n",
       "      <td>[{'from': 'human', 'value': '&lt;Action&gt; generate...</td>\n",
       "      <td>&lt;h1&gt;1.知识与技能&lt;/h1&gt; \\n（1）了解人体的元素组成。 \\n（2）了解某些元素（如...</td>\n",
       "      <td>{'is_good': True, 'info': {'reason': 'ok', 'te...</td>\n",
       "      <td>True</td>\n",
       "      <td>ok</td>\n",
       "      <td>九年级下</td>\n",
       "      <td>化学</td>\n",
       "      <td>人教版</td>\n",
       "      <td>初中</td>\n",
       "      <td>第十二单元 化学与生活@@@@课题2 化学元素与人体健康</td>\n",
       "      <td>主要内容：\\n\\n- 讨论部分提出了两个问题：图12-9中的几种营养强化食品有何共同之处？你...</td>\n",
       "      <td>[&lt;h1&gt;一、知识与技能&lt;/h1&gt; \\n 1.了解人体的元素组成，无机盐能够调节人体的新陈代...</td>\n",
       "    </tr>\n",
       "    <tr>\n",
       "      <th>193</th>\n",
       "      <td>教案_167406</td>\n",
       "      <td>教学重难点</td>\n",
       "      <td>&lt;h1&gt;1.重点&lt;/h1&gt;无机盐的生理功能，即一些元素对人体健康的影响。 \\n&lt;h1&gt;2.难...</td>\n",
       "      <td>[{'from': 'human', 'value': '&lt;Action&gt; generate...</td>\n",
       "      <td>&lt;h1&gt;1.重点&lt;/h1&gt;无机盐的生理功能，即一些元素对人体健康的影响。 \\n&lt;h1&gt;2.难...</td>\n",
       "      <td>{'is_good': True, 'info': {'reason': 'ok', 'te...</td>\n",
       "      <td>True</td>\n",
       "      <td>ok</td>\n",
       "      <td>九年级下</td>\n",
       "      <td>化学</td>\n",
       "      <td>人教版</td>\n",
       "      <td>初中</td>\n",
       "      <td>第十二单元 化学与生活@@@@课题2 化学元素与人体健康</td>\n",
       "      <td>主要内容：\\n\\n- 讨论部分提出了两个问题：图12-9中的几种营养强化食品有何共同之处？你...</td>\n",
       "      <td>[&lt;h1&gt;1.重点&lt;/h1&gt;无机盐的生理功能，即一些元素对人体健康的影响。 \\n&lt;h1&gt;2....</td>\n",
       "    </tr>\n",
       "    <tr>\n",
       "      <th>194</th>\n",
       "      <td>教案_167406</td>\n",
       "      <td>教学准备</td>\n",
       "      <td>坩埚钳、酒精灯、10%的稀盐酸、鱼骨、多媒体课件等。</td>\n",
       "      <td>[{'from': 'human', 'value': '&lt;Action&gt; generate...</td>\n",
       "      <td>坩埚钳、酒精灯、10%的稀盐酸、鱼骨、多媒体课件等。</td>\n",
       "      <td>{'is_good': True, 'info': {'reason': 'ok', 'te...</td>\n",
       "      <td>True</td>\n",
       "      <td>ok</td>\n",
       "      <td>九年级下</td>\n",
       "      <td>化学</td>\n",
       "      <td>人教版</td>\n",
       "      <td>初中</td>\n",
       "      <td>第十二单元 化学与生活@@@@课题2 化学元素与人体健康</td>\n",
       "      <td>主要内容：\\n\\n- 讨论部分提出了两个问题：图12-9中的几种营养强化食品有何共同之处？你...</td>\n",
       "      <td>[1、查阅资料并整理打印，填写下表。[可从网上、报刊、杂志、医学书籍、调查访问等途径获得]。...</td>\n",
       "    </tr>\n",
       "    <tr>\n",
       "      <th>206</th>\n",
       "      <td>教案_167483</td>\n",
       "      <td>教学目标</td>\n",
       "      <td>&lt;h1&gt;1.知识与技能&lt;/h1&gt; \\n（1）学习酸的分类与命名，从电离的观点了解酸的通性。 ...</td>\n",
       "      <td>[{'from': 'human', 'value': '&lt;Action&gt; generate...</td>\n",
       "      <td>&lt;h1&gt;1.知识与技能&lt;/h1&gt; \\n（1）学习酸的分类与命名，从电离的观点了解酸的通性。 ...</td>\n",
       "      <td>{'is_good': True, 'info': {'reason': 'ok', 'te...</td>\n",
       "      <td>True</td>\n",
       "      <td>ok</td>\n",
       "      <td>九年级下</td>\n",
       "      <td>化学</td>\n",
       "      <td>人教版</td>\n",
       "      <td>初中</td>\n",
       "      <td>第十单元 酸和碱@@@@实验活动6 酸、碱的化学性质</td>\n",
       "      <td>主要内容：\\n\\n实验目的：\\n\\n1. 加深对酸和碱的主要性质的认识。\\n\\n2. 通过实...</td>\n",
       "      <td>[&lt;h1&gt;1.知识与技能&lt;/h1&gt;（1）学习酸的分类与命名，从电离的观点了解酸的通性。\\n（...</td>\n",
       "    </tr>\n",
       "    <tr>\n",
       "      <th>207</th>\n",
       "      <td>教案_167483</td>\n",
       "      <td>教学重难点</td>\n",
       "      <td>&lt;h1&gt;1.重点&lt;/h1&gt;酸的通性。 \\n&lt;h1&gt;2.难点&lt;/h1&gt;根据实验归纳酸的通性。</td>\n",
       "      <td>[{'from': 'human', 'value': '&lt;Action&gt; generate...</td>\n",
       "      <td>&lt;h1&gt;1.重点&lt;/h1&gt;酸的通性。 \\n&lt;h1&gt;2.难点&lt;/h1&gt;根据实验归纳酸的通性。</td>\n",
       "      <td>{'is_good': True, 'info': {'reason': 'ok', 'te...</td>\n",
       "      <td>True</td>\n",
       "      <td>ok</td>\n",
       "      <td>九年级下</td>\n",
       "      <td>化学</td>\n",
       "      <td>人教版</td>\n",
       "      <td>初中</td>\n",
       "      <td>第十单元 酸和碱@@@@实验活动6 酸、碱的化学性质</td>\n",
       "      <td>主要内容：\\n\\n实验目的：\\n\\n1. 加深对酸和碱的主要性质的认识。\\n\\n2. 通过实...</td>\n",
       "      <td>[&lt;h1&gt;1.重点&lt;/h1&gt;酸的通性。\\n&lt;h1&gt;2.难点&lt;/h1&gt;根据实验归纳酸的通性。,...</td>\n",
       "    </tr>\n",
       "    <tr>\n",
       "      <th>...</th>\n",
       "      <td>...</td>\n",
       "      <td>...</td>\n",
       "      <td>...</td>\n",
       "      <td>...</td>\n",
       "      <td>...</td>\n",
       "      <td>...</td>\n",
       "      <td>...</td>\n",
       "      <td>...</td>\n",
       "      <td>...</td>\n",
       "      <td>...</td>\n",
       "      <td>...</td>\n",
       "      <td>...</td>\n",
       "      <td>...</td>\n",
       "      <td>...</td>\n",
       "      <td>...</td>\n",
       "    </tr>\n",
       "    <tr>\n",
       "      <th>23142</th>\n",
       "      <td>教案_282866</td>\n",
       "      <td>教学准备</td>\n",
       "      <td>&lt;h1&gt;教具&lt;/h1&gt;多媒体课件、自制机翼剖面模型、液体流速与压强演示装置、铝制硬币、纸条、...</td>\n",
       "      <td>[{'from': 'human', 'value': '&lt;Action&gt; generate...</td>\n",
       "      <td>&lt;h1&gt;教具&lt;/h1&gt;多媒体课件、自制机翼剖面模型、液体流速与压强演示装置、铝制硬币、纸条、...</td>\n",
       "      <td>{'is_good': True, 'info': {'reason': 'ok', 'te...</td>\n",
       "      <td>True</td>\n",
       "      <td>ok</td>\n",
       "      <td>八年级下</td>\n",
       "      <td>物理</td>\n",
       "      <td>北师大版</td>\n",
       "      <td>初中</td>\n",
       "      <td>第八章 压强与浮力@@@@七、飞机为什么能上天</td>\n",
       "      <td>主要内容：流体的压强与流速的关系\\n\\n液体和气体都没有一定的形状，且有流动性，因此，它们统...</td>\n",
       "      <td>[多媒体、课件、氢气球、纸条、注射器、水槽、小纸船、飞机模型、漏斗、乒乓球、吸管、自制机翼等...</td>\n",
       "    </tr>\n",
       "    <tr>\n",
       "      <th>23143</th>\n",
       "      <td>教案_282866</td>\n",
       "      <td>板书设计</td>\n",
       "      <td>&lt;h1&gt;一、创设情境，引出问题&lt;/h1&gt;大家知道飞机为什么能上天吗？因为飞机的发动机产生推力...</td>\n",
       "      <td>[{'from': 'human', 'value': '&lt;Action&gt; generate...</td>\n",
       "      <td>&lt;h1&gt;一、创设情境，引出问题&lt;/h1&gt;大家知道飞机为什么能上天吗？因为飞机的发动机产生推力...</td>\n",
       "      <td>{'is_good': True, 'info': {'reason': 'ok', 'te...</td>\n",
       "      <td>True</td>\n",
       "      <td>ok</td>\n",
       "      <td>八年级下</td>\n",
       "      <td>物理</td>\n",
       "      <td>北师大版</td>\n",
       "      <td>初中</td>\n",
       "      <td>第八章 压强与浮力@@@@七、飞机为什么能上天</td>\n",
       "      <td>主要内容：流体的压强与流速的关系\\n\\n液体和气体都没有一定的形状，且有流动性，因此，它们统...</td>\n",
       "      <td>[&lt;h1&gt;飞机为什么能上天&lt;/h1&gt;一、液体压强与流速的关系\\n流体流动时，流速大的地方压强...</td>\n",
       "    </tr>\n",
       "    <tr>\n",
       "      <th>23144</th>\n",
       "      <td>教案_282876</td>\n",
       "      <td>学情分析</td>\n",
       "      <td>&lt;h1&gt;前置知识点&lt;/h1&gt;学生已经学习了物质的三态，知道气体是有质量的，空气是物质，是由气...</td>\n",
       "      <td>[{'from': 'human', 'value': '&lt;Action&gt; generate...</td>\n",
       "      <td>&lt;h1&gt;前置知识点&lt;/h1&gt;学生已经学习了物质的三态，知道气体是有质量的，空气是物质，是由气...</td>\n",
       "      <td>{'is_good': True, 'info': {'reason': 'ok', 'te...</td>\n",
       "      <td>True</td>\n",
       "      <td>ok</td>\n",
       "      <td>八年级下</td>\n",
       "      <td>物理</td>\n",
       "      <td>北师大版</td>\n",
       "      <td>初中</td>\n",
       "      <td>第八章 压强与浮力@@@@四、大气压强</td>\n",
       "      <td>主要内容：本页内容介绍了大气压强的概念及其作用。通过图8-22的实验演示，说明了大气压强的存...</td>\n",
       "      <td>[&lt;h1&gt;1.学生对物理的认识&lt;/h1&gt;初二学生经过一个多学期的物理学习,对这门学科有了简单...</td>\n",
       "    </tr>\n",
       "    <tr>\n",
       "      <th>23145</th>\n",
       "      <td>教案_282876</td>\n",
       "      <td>教学目标</td>\n",
       "      <td>&lt;h1&gt;知识与技能&lt;/h1&gt;\\n1. 学生能理解大气压强的概念，知道大气压强的存在。\\n2....</td>\n",
       "      <td>[{'from': 'human', 'value': '&lt;Action&gt; generate...</td>\n",
       "      <td>&lt;h1&gt;知识与技能&lt;/h1&gt;1. 学生能理解大气压强的概念，知道大气压强的存在。\\n2. 学...</td>\n",
       "      <td>{'is_good': True, 'info': {'reason': 'ok', 'te...</td>\n",
       "      <td>True</td>\n",
       "      <td>ok</td>\n",
       "      <td>八年级下</td>\n",
       "      <td>物理</td>\n",
       "      <td>北师大版</td>\n",
       "      <td>初中</td>\n",
       "      <td>第八章 压强与浮力@@@@四、大气压强</td>\n",
       "      <td>主要内容：本页内容介绍了大气压强的概念及其作用。通过图8-22的实验演示，说明了大气压强的存...</td>\n",
       "      <td>[&lt;h1&gt;1、知识与技能：&lt;/h1&gt;\\n（1）能列举证明大气压存在的实验现象，并能用大气压解...</td>\n",
       "    </tr>\n",
       "    <tr>\n",
       "      <th>23146</th>\n",
       "      <td>教案_282876</td>\n",
       "      <td>教学准备</td>\n",
       "      <td>&lt;h1&gt;教具&lt;/h1&gt;\\n1. 教学课件：包含大气压强的相关知识和实验演示视频。\\n2. 气...</td>\n",
       "      <td>[{'from': 'human', 'value': '&lt;Action&gt; generate...</td>\n",
       "      <td>&lt;h1&gt;教具&lt;/h1&gt;1. 教学课件：包含大气压强的相关知识和实验演示视频。\\n2. 气压计...</td>\n",
       "      <td>{'is_good': True, 'info': {'reason': 'ok', 'te...</td>\n",
       "      <td>True</td>\n",
       "      <td>ok</td>\n",
       "      <td>八年级下</td>\n",
       "      <td>物理</td>\n",
       "      <td>北师大版</td>\n",
       "      <td>初中</td>\n",
       "      <td>第八章 压强与浮力@@@@四、大气压强</td>\n",
       "      <td>主要内容：本页内容介绍了大气压强的概念及其作用。通过图8-22的实验演示，说明了大气压强的存...</td>\n",
       "      <td>[多媒体课件、抽气机、玻璃管、一只空杯、马德堡半球、塑料片一张、饮料一瓶、自制饮料一瓶、空可...</td>\n",
       "    </tr>\n",
       "  </tbody>\n",
       "</table>\n",
       "<p>1136 rows × 15 columns</p>\n",
       "</div>"
      ],
      "text/plain": [
       "            教案序号 module                            original_module_content  \\\n",
       "192    教案_167406   教学目标  <h1>1.知识与技能</h1> \\n（1）了解人体的元素组成。 \\n（2）了解某些元素（如...   \n",
       "193    教案_167406  教学重难点  <h1>1.重点</h1>无机盐的生理功能，即一些元素对人体健康的影响。 \\n<h1>2.难...   \n",
       "194    教案_167406   教学准备                         坩埚钳、酒精灯、10%的稀盐酸、鱼骨、多媒体课件等。   \n",
       "206    教案_167483   教学目标  <h1>1.知识与技能</h1> \\n（1）学习酸的分类与命名，从电离的观点了解酸的通性。 ...   \n",
       "207    教案_167483  教学重难点      <h1>1.重点</h1>酸的通性。 \\n<h1>2.难点</h1>根据实验归纳酸的通性。   \n",
       "...          ...    ...                                                ...   \n",
       "23142  教案_282866   教学准备  <h1>教具</h1>多媒体课件、自制机翼剖面模型、液体流速与压强演示装置、铝制硬币、纸条、...   \n",
       "23143  教案_282866   板书设计  <h1>一、创设情境，引出问题</h1>大家知道飞机为什么能上天吗？因为飞机的发动机产生推力...   \n",
       "23144  教案_282876   学情分析  <h1>前置知识点</h1>学生已经学习了物质的三态，知道气体是有质量的，空气是物质，是由气...   \n",
       "23145  教案_282876   教学目标  <h1>知识与技能</h1>\\n1. 学生能理解大气压强的概念，知道大气压强的存在。\\n2....   \n",
       "23146  教案_282876   教学准备  <h1>教具</h1>\\n1. 教学课件：包含大气压强的相关知识和实验演示视频。\\n2. 气...   \n",
       "\n",
       "                                           conversations  \\\n",
       "192    [{'from': 'human', 'value': '<Action> generate...   \n",
       "193    [{'from': 'human', 'value': '<Action> generate...   \n",
       "194    [{'from': 'human', 'value': '<Action> generate...   \n",
       "206    [{'from': 'human', 'value': '<Action> generate...   \n",
       "207    [{'from': 'human', 'value': '<Action> generate...   \n",
       "...                                                  ...   \n",
       "23142  [{'from': 'human', 'value': '<Action> generate...   \n",
       "23143  [{'from': 'human', 'value': '<Action> generate...   \n",
       "23144  [{'from': 'human', 'value': '<Action> generate...   \n",
       "23145  [{'from': 'human', 'value': '<Action> generate...   \n",
       "23146  [{'from': 'human', 'value': '<Action> generate...   \n",
       "\n",
       "                                                    text  \\\n",
       "192    <h1>1.知识与技能</h1> \\n（1）了解人体的元素组成。 \\n（2）了解某些元素（如...   \n",
       "193    <h1>1.重点</h1>无机盐的生理功能，即一些元素对人体健康的影响。 \\n<h1>2.难...   \n",
       "194                           坩埚钳、酒精灯、10%的稀盐酸、鱼骨、多媒体课件等。   \n",
       "206    <h1>1.知识与技能</h1> \\n（1）学习酸的分类与命名，从电离的观点了解酸的通性。 ...   \n",
       "207        <h1>1.重点</h1>酸的通性。 \\n<h1>2.难点</h1>根据实验归纳酸的通性。   \n",
       "...                                                  ...   \n",
       "23142  <h1>教具</h1>多媒体课件、自制机翼剖面模型、液体流速与压强演示装置、铝制硬币、纸条、...   \n",
       "23143  <h1>一、创设情境，引出问题</h1>大家知道飞机为什么能上天吗？因为飞机的发动机产生推力...   \n",
       "23144  <h1>前置知识点</h1>学生已经学习了物质的三态，知道气体是有质量的，空气是物质，是由气...   \n",
       "23145  <h1>知识与技能</h1>1. 学生能理解大气压强的概念，知道大气压强的存在。\\n2. 学...   \n",
       "23146  <h1>教具</h1>1. 教学课件：包含大气压强的相关知识和实验演示视频。\\n2. 气压计...   \n",
       "\n",
       "                                                  result  check_result reason  \\\n",
       "192    {'is_good': True, 'info': {'reason': 'ok', 'te...          True     ok   \n",
       "193    {'is_good': True, 'info': {'reason': 'ok', 'te...          True     ok   \n",
       "194    {'is_good': True, 'info': {'reason': 'ok', 'te...          True     ok   \n",
       "206    {'is_good': True, 'info': {'reason': 'ok', 'te...          True     ok   \n",
       "207    {'is_good': True, 'info': {'reason': 'ok', 'te...          True     ok   \n",
       "...                                                  ...           ...    ...   \n",
       "23142  {'is_good': True, 'info': {'reason': 'ok', 'te...          True     ok   \n",
       "23143  {'is_good': True, 'info': {'reason': 'ok', 'te...          True     ok   \n",
       "23144  {'is_good': True, 'info': {'reason': 'ok', 'te...          True     ok   \n",
       "23145  {'is_good': True, 'info': {'reason': 'ok', 'te...          True     ok   \n",
       "23146  {'is_good': True, 'info': {'reason': 'ok', 'te...          True     ok   \n",
       "\n",
       "       线上年级 线上科目  线上教材 线上学段                          线上课程  \\\n",
       "192    九年级下   化学   人教版   初中  第十二单元 化学与生活@@@@课题2 化学元素与人体健康   \n",
       "193    九年级下   化学   人教版   初中  第十二单元 化学与生活@@@@课题2 化学元素与人体健康   \n",
       "194    九年级下   化学   人教版   初中  第十二单元 化学与生活@@@@课题2 化学元素与人体健康   \n",
       "206    九年级下   化学   人教版   初中    第十单元 酸和碱@@@@实验活动6 酸、碱的化学性质   \n",
       "207    九年级下   化学   人教版   初中    第十单元 酸和碱@@@@实验活动6 酸、碱的化学性质   \n",
       "...     ...  ...   ...  ...                           ...   \n",
       "23142  八年级下   物理  北师大版   初中       第八章 压强与浮力@@@@七、飞机为什么能上天   \n",
       "23143  八年级下   物理  北师大版   初中       第八章 压强与浮力@@@@七、飞机为什么能上天   \n",
       "23144  八年级下   物理  北师大版   初中           第八章 压强与浮力@@@@四、大气压强   \n",
       "23145  八年级下   物理  北师大版   初中           第八章 压强与浮力@@@@四、大气压强   \n",
       "23146  八年级下   物理  北师大版   初中           第八章 压强与浮力@@@@四、大气压强   \n",
       "\n",
       "                                                    教材内容  \\\n",
       "192    主要内容：\\n\\n- 讨论部分提出了两个问题：图12-9中的几种营养强化食品有何共同之处？你...   \n",
       "193    主要内容：\\n\\n- 讨论部分提出了两个问题：图12-9中的几种营养强化食品有何共同之处？你...   \n",
       "194    主要内容：\\n\\n- 讨论部分提出了两个问题：图12-9中的几种营养强化食品有何共同之处？你...   \n",
       "206    主要内容：\\n\\n实验目的：\\n\\n1. 加深对酸和碱的主要性质的认识。\\n\\n2. 通过实...   \n",
       "207    主要内容：\\n\\n实验目的：\\n\\n1. 加深对酸和碱的主要性质的认识。\\n\\n2. 通过实...   \n",
       "...                                                  ...   \n",
       "23142  主要内容：流体的压强与流速的关系\\n\\n液体和气体都没有一定的形状，且有流动性，因此，它们统...   \n",
       "23143  主要内容：流体的压强与流速的关系\\n\\n液体和气体都没有一定的形状，且有流动性，因此，它们统...   \n",
       "23144  主要内容：本页内容介绍了大气压强的概念及其作用。通过图8-22的实验演示，说明了大气压强的存...   \n",
       "23145  主要内容：本页内容介绍了大气压强的概念及其作用。通过图8-22的实验演示，说明了大气压强的存...   \n",
       "23146  主要内容：本页内容介绍了大气压强的概念及其作用。通过图8-22的实验演示，说明了大气压强的存...   \n",
       "\n",
       "                                            retrieved_lp  \n",
       "192    [<h1>一、知识与技能</h1> \\n 1.了解人体的元素组成，无机盐能够调节人体的新陈代...  \n",
       "193    [<h1>1.重点</h1>无机盐的生理功能，即一些元素对人体健康的影响。 \\n<h1>2....  \n",
       "194    [1、查阅资料并整理打印，填写下表。[可从网上、报刊、杂志、医学书籍、调查访问等途径获得]。...  \n",
       "206    [<h1>1.知识与技能</h1>（1）学习酸的分类与命名，从电离的观点了解酸的通性。\\n（...  \n",
       "207    [<h1>1.重点</h1>酸的通性。\\n<h1>2.难点</h1>根据实验归纳酸的通性。,...  \n",
       "...                                                  ...  \n",
       "23142  [多媒体、课件、氢气球、纸条、注射器、水槽、小纸船、飞机模型、漏斗、乒乓球、吸管、自制机翼等...  \n",
       "23143  [<h1>飞机为什么能上天</h1>一、液体压强与流速的关系\\n流体流动时，流速大的地方压强...  \n",
       "23144  [<h1>1.学生对物理的认识</h1>初二学生经过一个多学期的物理学习,对这门学科有了简单...  \n",
       "23145  [<h1>1、知识与技能：</h1>\\n（1）能列举证明大气压存在的实验现象，并能用大气压解...  \n",
       "23146  [多媒体课件、抽气机、玻璃管、一只空杯、马德堡半球、塑料片一张、饮料一瓶、自制饮料一瓶、空可...  \n",
       "\n",
       "[1136 rows x 15 columns]"
      ]
     },
     "execution_count": 156,
     "metadata": {},
     "output_type": "execute_result"
    }
   ],
   "source": [
    "merge_test_data"
   ]
  },
  {
   "cell_type": "markdown",
   "id": "fa788b96",
   "metadata": {},
   "source": [
    "# 构建评估数据"
   ]
  },
  {
   "cell_type": "code",
   "execution_count": 160,
   "id": "7ef5c588",
   "metadata": {
    "ExecuteTime": {
     "end_time": "2024-12-27T09:41:47.712606Z",
     "start_time": "2024-12-27T09:41:47.702255Z"
    }
   },
   "outputs": [
    {
     "data": {
      "text/html": [
       "<div>\n",
       "<style scoped>\n",
       "    .dataframe tbody tr th:only-of-type {\n",
       "        vertical-align: middle;\n",
       "    }\n",
       "\n",
       "    .dataframe tbody tr th {\n",
       "        vertical-align: top;\n",
       "    }\n",
       "\n",
       "    .dataframe thead th {\n",
       "        text-align: right;\n",
       "    }\n",
       "</style>\n",
       "<table border=\"1\" class=\"dataframe\">\n",
       "  <thead>\n",
       "    <tr style=\"text-align: right;\">\n",
       "      <th></th>\n",
       "      <th>教案序号</th>\n",
       "      <th>年级</th>\n",
       "      <th>科目</th>\n",
       "      <th>教材</th>\n",
       "      <th>学段</th>\n",
       "      <th>课程</th>\n",
       "      <th>线上年级</th>\n",
       "      <th>线上科目</th>\n",
       "      <th>线上教材</th>\n",
       "      <th>线上学段</th>\n",
       "      <th>线上课程</th>\n",
       "      <th>标注结果</th>\n",
       "      <th>教材内容</th>\n",
       "    </tr>\n",
       "  </thead>\n",
       "  <tbody>\n",
       "    <tr>\n",
       "      <th>63266</th>\n",
       "      <td>教案_63267</td>\n",
       "      <td>四年级上册</td>\n",
       "      <td>科学</td>\n",
       "      <td>大象版义务教育版</td>\n",
       "      <td>小学</td>\n",
       "      <td>第四单元 人体的呼吸器官@@@@2 我们的呼吸器官</td>\n",
       "      <td>四年级上</td>\n",
       "      <td>科学</td>\n",
       "      <td>大象版（2017）</td>\n",
       "      <td>小学</td>\n",
       "      <td>第四单元 人体的呼吸器官@@@@2 我们的呼吸器官</td>\n",
       "      <td>1</td>\n",
       "      <td>主要内容：闭上眼，深吸一口气，再慢慢呼出，感受空气在身体内的流动。猜一猜，我们在呼吸时气体都...</td>\n",
       "    </tr>\n",
       "    <tr>\n",
       "      <th>63803</th>\n",
       "      <td>教案_63804</td>\n",
       "      <td>二年级上册</td>\n",
       "      <td>科学</td>\n",
       "      <td>教科版义务教育版</td>\n",
       "      <td>小学</td>\n",
       "      <td>我们的地球家园@@@@5 各种各样的天气</td>\n",
       "      <td>二年级上</td>\n",
       "      <td>科学</td>\n",
       "      <td>教科版（2017）</td>\n",
       "      <td>小学</td>\n",
       "      <td>我们的地球家园@@@@5. 各种各样的天气</td>\n",
       "      <td>1</td>\n",
       "      <td>主要内容：天气会影响和改变我们的生活。天气有哪些变化呢？\\n\\n探索\\n\\n主要内容：\\n\\...</td>\n",
       "    </tr>\n",
       "  </tbody>\n",
       "</table>\n",
       "</div>"
      ],
      "text/plain": [
       "           教案序号     年级  科目        教材  学段                         课程  线上年级  \\\n",
       "63266  教案_63267  四年级上册  科学  大象版义务教育版  小学  第四单元 人体的呼吸器官@@@@2 我们的呼吸器官  四年级上   \n",
       "63803  教案_63804  二年级上册  科学  教科版义务教育版  小学       我们的地球家园@@@@5 各种各样的天气  二年级上   \n",
       "\n",
       "      线上科目       线上教材 线上学段                       线上课程  标注结果  \\\n",
       "63266   科学  大象版（2017）   小学  第四单元 人体的呼吸器官@@@@2 我们的呼吸器官     1   \n",
       "63803   科学  教科版（2017）   小学      我们的地球家园@@@@5. 各种各样的天气     1   \n",
       "\n",
       "                                                    教材内容  \n",
       "63266  主要内容：闭上眼，深吸一口气，再慢慢呼出，感受空气在身体内的流动。猜一猜，我们在呼吸时气体都...  \n",
       "63803  主要内容：天气会影响和改变我们的生活。天气有哪些变化呢？\\n\\n探索\\n\\n主要内容：\\n\\...  "
      ]
     },
     "execution_count": 160,
     "metadata": {},
     "output_type": "execute_result"
    }
   ],
   "source": [
    "select_outline[:2]"
   ]
  },
  {
   "cell_type": "code",
   "execution_count": 158,
   "id": "cfa1dc4e",
   "metadata": {
    "ExecuteTime": {
     "end_time": "2024-12-27T09:39:57.156102Z",
     "start_time": "2024-12-27T09:39:57.152080Z"
    }
   },
   "outputs": [
    {
     "data": {
      "text/plain": [
       "['教学目标', '教学重难点', '教学准备', '学情分析', '教学过程', '教学内容分析', '教学评价']"
      ]
     },
     "execution_count": 158,
     "metadata": {},
     "output_type": "execute_result"
    }
   ],
   "source": [
    "select_modules = [x for x in list(merge_test_data[\"module\"].unique()) if x not in [\"板书设计\",\"课后作业\"]]\n",
    "select_modules"
   ]
  },
  {
   "cell_type": "code",
   "execution_count": 180,
   "id": "44ee46b9",
   "metadata": {
    "ExecuteTime": {
     "end_time": "2024-12-27T10:04:13.556951Z",
     "start_time": "2024-12-27T10:04:13.553764Z"
    }
   },
   "outputs": [
    {
     "data": {
      "text/plain": [
       "(269, 13)"
      ]
     },
     "execution_count": 180,
     "metadata": {},
     "output_type": "execute_result"
    }
   ],
   "source": [
    "select_outline.shape"
   ]
  },
  {
   "cell_type": "code",
   "execution_count": 209,
   "id": "ed6d2d61",
   "metadata": {
    "ExecuteTime": {
     "end_time": "2024-12-27T10:22:41.401392Z",
     "start_time": "2024-12-27T10:22:41.396903Z"
    }
   },
   "outputs": [
    {
     "data": {
      "text/plain": [
       "'<Action> generate_module </Action>\\n<system start>\\n您现在是一名`{科目}`学科专家，多次获得教学设计一等奖，您正在编写教学设计中的`{模块}`。您的工作是根据我提供的教学信息输出对应内容。教学信息如下：\\n学段：`{学段}`\\n学科：`{科目}`\\n教材版本：`{教材版本}`\\n年级：`{年级}`\\n章节：`{章节}`\\n课程名：`{课程名}`\\n本节课包括的知识点：`{知识点}`\\n教学模式：`{教学模式}`\\n教学模式简介：`{教学模式简介}`\\n教学环节：`{教学环节}`\\n\\n## 要求\\n\\n- 只需要给出`{模块}`的具体内容,例如`{示例}`\\n<system end>\\n<input start>\\n## 科目\\n\\n```\\n英语\\n```\\n\\n## 模块\\n\\n```\\n教学重难点\\n```\\n\\n## 学段\\n\\n```\\n小学\\n```\\n\\n## 教材版本\\n\\n```\\n（新起点）人教版\\n```\\n\\n## 年级\\n\\n```\\n四年级下册\\n```\\n\\n## 章节\\n\\n```\\nUnit 3 Travel Plans\\n```\\n\\n## 课程名\\n\\n```\\nLesson 2\\n```\\n\\n## 知识点\\n\\n```\\n\\n```\\n\\n\\n## 教学模式\\n\\n```\\n协作式教学\\n```\\n\\n## 教学模式简介\\n\\n```\\n协作式教学模式是一种强调学生互相合作、参与和共同构建知识的教学方法。它强调学生在教学过程中的积极参与和合作，促进他们的自主学习和批判性思维能力的培养。\\n```\\n\\n## 教学环节\\n\\n```\\n课程导入，明确主题;围绕主题，明确问题;小组协作，解决问题;成果展示，交流汇报;总结评价，优化方案\\n```\\n\\n## 示例\\n\\n```\\n\\n```<input end>'"
      ]
     },
     "execution_count": 209,
     "metadata": {},
     "output_type": "execute_result"
    }
   ],
   "source": [
    "merge_test_data[merge_test_data[\"教案序号\"]==row[\"教案序号\"]].iloc[0][\"conversations\"][0][\"value\"]"
   ]
  },
  {
   "cell_type": "code",
   "execution_count": 208,
   "id": "74197fee",
   "metadata": {
    "ExecuteTime": {
     "end_time": "2024-12-27T10:22:33.753950Z",
     "start_time": "2024-12-27T10:22:33.749373Z"
    }
   },
   "outputs": [
    {
     "data": {
      "text/plain": [
       "'讲授式教学'"
      ]
     },
     "execution_count": 208,
     "metadata": {},
     "output_type": "execute_result"
    }
   ],
   "source": [
    "extract_tch_mode(merge_test_data[merge_test_data[\"教案序号\"]==row[\"教案序号\"]].iloc[0][\"conversations\"][0][\"value\"])"
   ]
  },
  {
   "cell_type": "code",
   "execution_count": 211,
   "id": "0e28ce5c",
   "metadata": {
    "ExecuteTime": {
     "end_time": "2024-12-27T10:23:02.148898Z",
     "start_time": "2024-12-27T10:23:01.979724Z"
    }
   },
   "outputs": [],
   "source": [
    "all_eval_data = []\n",
    "\n",
    "cnt, not_cnt = 0, 0\n",
    "\n",
    "select_df = select_outline.sample(n=200, random_state=3407)\n",
    "\n",
    "for i,row in select_df.iterrows():\n",
    "    tch_mode = extract_tch_mode(merge_test_data[merge_test_data[\"教案序号\"]==row[\"教案序号\"]].iloc[0][\"conversations\"][0][\"value\"])\n",
    "    for module in [\"教学内容分析\",\"学情分析\",\"教学目标\",\"教学重难点\",\"教学准备\",\"教学过程\",\"教学评价\"]:\n",
    "        one_eval_data = {\"lp_id\":row[\"教案序号\"],\n",
    "                         \"tch_mode\":tch_mode,\n",
    "                         \"module\":module, \n",
    "                         \"grade\":row[\"年级\"],\n",
    "                         \"subject\":row[\"科目\"],\n",
    "                         \"version\":row[\"教材\"],\n",
    "                         \"level\":row[\"学段\"],\n",
    "                         \"topic\":row[\"课程\"],\n",
    "                         \"textbook\":row[\"教材内容\"]}\n",
    "\n",
    "        if module == \"教学过程\":\n",
    "            key_words = [\n",
    "                    row[\"线上年级\"],\n",
    "                    row[\"线上科目\"],\n",
    "                    row[\"线上教材\"],\n",
    "                    row[\"线上学段\"],\n",
    "                    row[\"线上课程\"].replace(\"@@@@\",\"\"),\n",
    "                    mode,\n",
    "                    module]\n",
    "        else:\n",
    "            key_words = [\n",
    "                    row[\"线上年级\"],\n",
    "                    row[\"线上科目\"],\n",
    "                    row[\"线上教材\"],\n",
    "                    row[\"线上学段\"],\n",
    "                    row[\"线上课程\"].replace(\"@@@@\",\"_\"),\n",
    "                    module]    \n",
    "        outline = \"_\".join(key_words)\n",
    "        retrievaled_lp = zy_match_json.get(outline, [])\n",
    "        if retrievaled_lp != []:\n",
    "            cnt += 1\n",
    "        else:\n",
    "            not_cnt += 1\n",
    "    \n",
    "        one_eval_data[\"ctxs\"] = retrievaled_lp\n",
    "        all_eval_data.append(one_eval_data)"
   ]
  },
  {
   "cell_type": "code",
   "execution_count": 212,
   "id": "f82e7370",
   "metadata": {
    "ExecuteTime": {
     "end_time": "2024-12-27T10:23:03.189647Z",
     "start_time": "2024-12-27T10:23:03.186461Z"
    }
   },
   "outputs": [
    {
     "data": {
      "text/plain": [
       "(854, 546, 1400)"
      ]
     },
     "execution_count": 212,
     "metadata": {},
     "output_type": "execute_result"
    }
   ],
   "source": [
    "cnt, not_cnt, len(all_eval_data)"
   ]
  },
  {
   "cell_type": "code",
   "execution_count": 213,
   "id": "83075b58",
   "metadata": {
    "ExecuteTime": {
     "end_time": "2024-12-27T10:23:04.046236Z",
     "start_time": "2024-12-27T10:23:04.040978Z"
    }
   },
   "outputs": [],
   "source": [
    "all_eval_data = pd.DataFrame(all_eval_data)"
   ]
  },
  {
   "cell_type": "code",
   "execution_count": 214,
   "id": "1ae09556",
   "metadata": {
    "ExecuteTime": {
     "end_time": "2024-12-27T10:23:04.847755Z",
     "start_time": "2024-12-27T10:23:04.666965Z"
    }
   },
   "outputs": [],
   "source": [
    "all_eval_data.to_json('eval_lesson_plan_1227.jsonl', orient='records', lines=True, force_ascii=False)"
   ]
  },
  {
   "cell_type": "code",
   "execution_count": 215,
   "id": "d5da0f04",
   "metadata": {
    "ExecuteTime": {
     "end_time": "2024-12-27T11:28:24.654453Z",
     "start_time": "2024-12-27T11:28:24.651172Z"
    }
   },
   "outputs": [],
   "source": [
    "def load_prompt(\n",
    "    prompt_name,\n",
    "    prompt_path=\"./prompt/\",\n",
    "):\n",
    "    task_prompt = open(f\"{prompt_path}{prompt_name}.md\", \"r\").read()\n",
    "    return task_prompt"
   ]
  },
  {
   "cell_type": "code",
   "execution_count": null,
   "id": "e0855e5c",
   "metadata": {},
   "outputs": [],
   "source": [
    "def generate_question(data, teaching_mode_df, example_source=\"\"):\n",
    "    \n",
    "    teaching_mode_info = teaching_mode_df[teaching_mode_df[\"教学模式（新名称）\"]==row[\"tch_mode\"]].iloc[0]\n",
    "    \n",
    "    if len(data[\"topic\"].strip().split(\"@@@@\")) == 1:\n",
    "        first_lesson, second_lesson, kcs = data[\"topic\"].split(\"@@@@\")[0], \"\", \"\"\n",
    "    elif len(data[\"topic\"].strip().split(\"@@@@\")) == 2:\n",
    "        first_lesson, second_lesson, kcs = data[\"topic\"].split(\"@@@@\")[0], data[\"topic\"].split(\"@@@@\")[1], \"\"\n",
    "    else:\n",
    "        first_lesson, second_lesson = data[\"topic\"].split(\"@@@@\")[0], data[\"topic\"].split(\"@@@@\")[1]\n",
    "        kcs = \",\".join(data[\"topic\"].split(\"@@@@\")[2:])\n",
    "    \n",
    "    if example_source == \"textbook\":\n",
    "        example = data[\"textbook\"]\n",
    "    else:\n",
    "        example = data[\"ctxs\"]\n",
    "    \n",
    "    task_prompt_system = load_prompt(\"plan_generator_first_system\")\n",
    "    task_prompt_template = load_prompt(\"plan_generator_first_template\")\n",
    "    \n",
    "    task_prompt_template = task_prompt_template.format(\n",
    "        data[\"subject\"],\n",
    "        data[\"module\"],\n",
    "        data[\"level\"],\n",
    "        data[\"version\"],\n",
    "        data[\"grade\"],\n",
    "        first_lesson,\n",
    "        second_lesson,\n",
    "        kcs,\n",
    "        row[\"tch_mode\"],\n",
    "        teaching_mode_info[\"模式简介\"],\n",
    "        teaching_mode_info[\"教学环节\"],\n",
    "        \"\"\n",
    "    )\n",
    "    \n",
    "    question = f\"<Action> generate_module </Action>\\n<system start>\\n{task_prompt_system}<system end>\\n<input start>\\n{task_prompt_template}<input end>\"\n",
    "    \n",
    "    return question"
   ]
  },
  {
   "cell_type": "markdown",
   "id": "bc06e35c",
   "metadata": {},
   "source": [
    "# 检查教材&RAG数据(可忽略)"
   ]
  },
  {
   "cell_type": "code",
   "execution_count": 70,
   "id": "6a6918fb",
   "metadata": {
    "ExecuteTime": {
     "end_time": "2024-12-27T08:07:28.413240Z",
     "start_time": "2024-12-27T08:07:28.408559Z"
    }
   },
   "outputs": [
    {
     "data": {
      "text/plain": [
       "('三年级下_科学_人教版（2017）_小学_第五单元 物体的运动_16 玩小球',\n",
       " '\\n\\n打乒乓球时，乒乓球是怎样运动的？\\n\\n科学实践\\n\\n各种各样的运动\\n\\n1. 想办法让乒乓球做不同的运动，并把这些运动形式画下来。\\n\\n运动的形式\\n\\n主要内容：\\n\\n2. 根据记录描述乒乓球所做的各种运动，说一说这些运动形式的主要特点。\\n\\n3. 生活中的物体是怎样运动的？它们分别属于哪种运动形式？\\n\\n')"
      ]
     },
     "execution_count": 70,
     "metadata": {},
     "output_type": "execute_result"
    }
   ],
   "source": [
    "import random\n",
    "random_idx = random.choice(list(textbook_data.keys()))\n",
    "random_idx, textbook_data[random_idx]"
   ]
  },
  {
   "cell_type": "code",
   "execution_count": 88,
   "id": "aba93ebd",
   "metadata": {
    "ExecuteTime": {
     "end_time": "2024-12-27T08:14:39.998665Z",
     "start_time": "2024-12-27T08:14:39.993932Z"
    }
   },
   "outputs": [
    {
     "name": "stdout",
     "output_type": "stream",
     "text": [
      "二年级下_科学_湘科版（2017）_小学_第二单元 植物的生长_1 植物角\n",
      "二年级下_科学_湘科版（2017）_小学_第二单元 植物的生长_2 植物在生长\n",
      "二年级下_科学_湘科版（2017）_小学_第二单元 植物的生长_3 植物生长需要什么\n"
     ]
    }
   ],
   "source": [
    "for item in textbook_data:\n",
    "    if item.find(\"湘科版（2017）\") != -1 and item.find(\"第二单元 植物的生长\") != -1:\n",
    "        print(item)"
   ]
  },
  {
   "cell_type": "code",
   "execution_count": 71,
   "id": "7278e480",
   "metadata": {
    "ExecuteTime": {
     "end_time": "2024-12-27T08:07:32.985279Z",
     "start_time": "2024-12-27T08:07:32.982219Z"
    },
    "scrolled": true
   },
   "outputs": [
    {
     "data": {
      "text/plain": [
       "2862"
      ]
     },
     "execution_count": 71,
     "metadata": {},
     "output_type": "execute_result"
    }
   ],
   "source": [
    "len(retrieved_textbooks)"
   ]
  },
  {
   "cell_type": "code",
   "execution_count": 134,
   "id": "98686176",
   "metadata": {
    "ExecuteTime": {
     "end_time": "2024-12-27T09:17:44.884068Z",
     "start_time": "2024-12-27T09:17:44.867424Z"
    }
   },
   "outputs": [
    {
     "data": {
      "text/plain": [
       "('八年级下_语文_部编版（2016）_初中_第六单元_名著导读 《钢铁是怎样炼成的》：摘抄和做笔记_教学内容分析',\n",
       " ['教学内容分析\\n做笔记，主要有写提要和写心得两大类。写提要，就是 用精炼的语言准确概括全书的基本内容和要点。写心得，则 是记录自己阅读时产生的体验、感想，写自己对于作品的内 容和形式的看法和评价等等。'])"
      ]
     },
     "execution_count": 134,
     "metadata": {},
     "output_type": "execute_result"
    }
   ],
   "source": [
    "import random\n",
    "random_idx = random.choice(list(zy_match_json.keys()))\n",
    "random_idx, zy_match_json[random_idx]"
   ]
  },
  {
   "cell_type": "markdown",
   "id": "b23680cc",
   "metadata": {},
   "source": [
    "# 转换成人工评估所需的数据格式"
   ]
  },
  {
   "cell_type": "code",
   "execution_count": 42,
   "id": "c094b034",
   "metadata": {
    "ExecuteTime": {
     "end_time": "2025-01-17T02:17:48.624934Z",
     "start_time": "2025-01-17T02:17:48.622148Z"
    }
   },
   "outputs": [],
   "source": [
    "import pandas as pd\n",
    "import json"
   ]
  },
  {
   "cell_type": "code",
   "execution_count": 43,
   "id": "da48efb1",
   "metadata": {
    "ExecuteTime": {
     "end_time": "2025-01-17T02:17:49.809435Z",
     "start_time": "2025-01-17T02:17:49.387601Z"
    }
   },
   "outputs": [],
   "source": [
    "df = pd.read_csv(\"/mnt/pfs_yq/zitao_team/shuyanwong/FaviComp/data/eval_lesson_plan.csv\")"
   ]
  },
  {
   "cell_type": "code",
   "execution_count": 45,
   "id": "d1e196fb",
   "metadata": {
    "ExecuteTime": {
     "end_time": "2025-01-17T02:22:18.989469Z",
     "start_time": "2025-01-17T02:22:18.576668Z"
    }
   },
   "outputs": [
    {
     "data": {
      "text/plain": [
       "1400"
      ]
     },
     "execution_count": 45,
     "metadata": {},
     "output_type": "execute_result"
    }
   ],
   "source": [
    "with open(\"/mnt/pfs_yq/zitao_team/shuyanwong/lesson_plan/run_model/results/model_eval/lesson_plan_generation/eval_lesson_plan_0106_favi_alpha_0_0.jsonl\",\"r\", encoding=\"utf-8\") as f:\n",
    "    pred_results = json.load(f)\n",
    "    \n",
    "favi_outputs = []\n",
    "\n",
    "for pred in pred_results:\n",
    "    favi_outputs.append(pred[\"conversations\"][1][\"value\"])\n",
    "len(favi_outputs)"
   ]
  },
  {
   "cell_type": "code",
   "execution_count": 46,
   "id": "9a4fb86d",
   "metadata": {
    "ExecuteTime": {
     "end_time": "2025-01-17T02:22:23.318653Z",
     "start_time": "2025-01-17T02:22:23.315680Z"
    }
   },
   "outputs": [],
   "source": [
    "import random"
   ]
  },
  {
   "cell_type": "code",
   "execution_count": 47,
   "id": "9ebcc2a4",
   "metadata": {
    "ExecuteTime": {
     "end_time": "2025-01-17T02:22:23.888329Z",
     "start_time": "2025-01-17T02:22:23.883435Z"
    }
   },
   "outputs": [
    {
     "data": {
      "text/plain": [
       "{'id': '教案_191962',\n",
       " 'module': '教学评价',\n",
       " 'tch_mode': '以言语交际为中心的新授课教学模式',\n",
       " 'lesson_info': '三年级上册_英语_冀教版_小学_Unit 4 Family_Lesson 23 Happy Birthday',\n",
       " 'conversations': [{'from': 'human',\n",
       "   'value': '<Action> generate_module </Action>\\n<system start>\\n您现在是一名`{科目}`学科专家，多次获得教学设计一等奖，您正在编写教学设计中的`{模块}`。您的工作是根据我提供的教学信息输出对应内容。教学信息如下：\\n学段：`{学段}`\\n学科：`{科目}`\\n教材版本：`{教材版本}`\\n年级：`{年级}`\\n章节：`{章节}`\\n课程名：`{课程名}`\\n本节课包括的知识点：`{知识点}`\\n教学模式：`{教学模式}`\\n教学模式简介：`{教学模式简介}`\\n教学环节：`{教学环节}`\\n\\n## 要求\\n\\n- 只需要给出`{模块}`的具体内容,例如`{示例}`\\n- “教学过程”的设计需要包含多个“教学环节”, 您需要参考以上提供的“教学环节”信息给出“教学过程”的内容, 但不一定要覆盖所有“教学环节”。\\n<system end>\\n<input start>\\n## 科目\\n\\n```\\n英语\\n```\\n\\n## 模块\\n\\n```\\n教学评价\\n```\\n\\n## 学段\\n\\n```\\n小学\\n```\\n\\n## 教材版本\\n\\n```\\n冀教版\\n```\\n\\n## 年级\\n\\n```\\n三年级上册\\n```\\n\\n## 章节\\n\\n```\\nUnit 4 Family\\n```\\n\\n## 课程名\\n\\n```\\nLesson 23 Happy Birthday\\n```\\n\\n## 知识点\\n\\n```\\n\\n```\\n\\n\\n## 教学模式\\n\\n```\\n以言语交际为中心的新授课教学模式\\n```\\n\\n## 教学模式简介\\n\\n```\\n所谓新授，通常是指初次学习本单元的主题词汇、重点句型、主题故事等。一般课本上落实的基本教学目标是能够初步认知、掌握新词汇的音和义，并利用相关句型，能够围绕这些新词汇进行简单的对话听说。而在本模式下，除了掌握课本上要求的主题词汇，还要结合本主题的知识网络，或对主题词汇进行纵向拓展，或对相关的主题句型进行更为灵活的变式应用。\\n```\\n\\n## 教学环节\\n\\n```\\n活动激趣，引入新知;听读新知，纵向拓展;情景交际，应用新知;扩展听读，语境感知;迁移练习，交际应用\\n```\\n\\n## 示例\\n\\n```\\n<h1>学生评估</h1>学生的评估主要通过以下几个方面进行：首先，通过观察学生在课堂上的表现，如是否能积极参与课堂活动，是否能正确理解和使用新学的词汇和句型。其次，通过检查学生的课堂练习和作业，看他们是否能独立完成，是否能正确使用新学的知识。最后，通过与学生的交流，了解他们对新学知识的理解程度和应用能力。\\n\\n<h1>教师评估</h1>教师的评估主要通过以下几个方面进行：首先，通过反思自己的教学过程，看是否能有效引导学生学习，是否能激发学生的学习兴趣。其次，通过收集学生的反馈，了解他们对教学内容和方法的看法，以便进行教学改进。最后，通过与同事的交流，获取他们的建议和意见，以提高自己的教学能力。\\n\\n<h1>课堂评估</h1>课堂的评估主要通过以下几个方面进行：首先，通过观察课堂的氛围，看是否能营造出一个积极、和谐的学习环境。其次，通过分析课堂的教学效果，看是否能达到预期的教学目标。最后，通过收集学生和家长的反馈，了解他们对课堂的满意度，以便进行课堂改进。\\n```\\n<input end>'},\n",
       "  {'from': 'gpt',\n",
       "   'value': '<h1>学生评估</h1>学生的评估主要通过以下几个方面进行：首先，通过观察学生在课堂上的表现，如是否能积极参与课堂活动，是否能正确理解和使用新学的词汇和句型。其次，通过检查学生的课堂练习和作业，看他们是否能独立完成，是否能正确使用新学的知识。最后，通过与学生的交流，了解他们对新学知识的理解程度和应用能力。\\n\\n<h1>教师评估</h1>教师的评估主要通过以下几个方面进行：首先，通过反思自己的教学过程，看是否能有效引导学生学习，是否能激发学生的学习兴趣。其次，通过收集学生的反馈，了解他们对教学内容和方法的看法，以便进行教学改进。最后，通过与同事的交流，获取他们的建议和意见，以提高自己的教学能力。\\n\\n<h1>课堂评估</h1>课堂的评估主要通过以下几个方面进行：首先，通过观察课堂的氛围，看是否能营造出一个积极、和谐的学习环境。其次，通过分析课堂的教学效果，看是否能达到预期的教学目标。最后，通过收集学生和家长的反馈，了解他们对课堂的满意度，以便进行课堂改进。'}],\n",
       " 'textbook': \"Jenny's birthday party\\n\\n\\n\\n1. 一位朋友对Jenny说：“Happy birthday, Jenny!” Jenny回答：“Thank you!”\\n\\n2. 朋友问：“How old are you?” Jenny回答：“I’m ten years old.”\\n\\n3. Jenny看到生日蛋糕，说：“Wow, a birthday cake!”\\n\\n4. 朋友们送礼物给Jenny，说：“This gift is for you.” Jenny回答：“Thanks. How nice!”\\n\\n图片下方有三个词汇：birthday cake, birthday gifts, birthday party。\\n\\nLet's sing!\\n\\n Happy Birthday! 歌曲的歌词和简谱。\\n\\nLetters and sounds\\n\\n 学习字母和发音的练习，包括字母k, g, f, v, e的单词示例，如worker, kite, girl, leg, four, gift, seven, five, he, she。\\n\\n\",\n",
       " 'compress_content': [],\n",
       " 'gen_ctx': '\\n\\n<h1>学生评估</h1>学生的评估主要通过以下几个方面进行：首先，通过观察学生在课堂上的表现，如是否能积极参与课堂活动，是否能正确理解和使用新学的词汇和句型。其次，通过检查学生的课堂练习和作业，看他们是否能独立完成，是否能正确使用新学的知识。最后，通过与学生的交流，了解他们对新学知识的理解程度和应用能力。\\n\\n<h1>教师评估</h1>教师的评估主要通过以下几个方面进行：首先，通过反思自己的教学过程，看是否能有效引导学生学习，是否能激发学生的学习兴趣。其次，通过收集学生的反馈，了解他们对教学内容和方法的看法，以便进行教学改进。最后，通过与同事的交流，获取他们的建议和意见，以提高自己的教学能力。\\n\\n<h1>课堂评估</h1>课堂的评估主要通过以下几个方面进行：首先，通过观察课堂的氛围，看是否能营造出一个积极、和谐的学习环境。其次，通过分析课堂的教学效果，看是否能达到预期的教学目标。最后，通过收集学生和家长的反馈，了解他们对课堂的满意度，以便进行课堂改进。'}"
      ]
     },
     "execution_count": 47,
     "metadata": {},
     "output_type": "execute_result"
    }
   ],
   "source": [
    "random.choice(pred_results)"
   ]
  },
  {
   "cell_type": "code",
   "execution_count": 48,
   "id": "e42c8bfa",
   "metadata": {
    "ExecuteTime": {
     "end_time": "2025-01-17T02:22:26.991348Z",
     "start_time": "2025-01-17T02:22:26.931823Z"
    }
   },
   "outputs": [],
   "source": [
    "teaching_mode_df = pd.read_csv(\"/mnt/pfs_yq/zitao_team/shuyanwong/FaviComp/prompts/teach_mode_info.csv\")"
   ]
  },
  {
   "cell_type": "code",
   "execution_count": 49,
   "id": "49084a5b",
   "metadata": {
    "ExecuteTime": {
     "end_time": "2025-01-17T02:22:28.707461Z",
     "start_time": "2025-01-17T02:22:28.702897Z"
    }
   },
   "outputs": [],
   "source": [
    "df[\"textbook_new\"] = favi_outputs"
   ]
  },
  {
   "cell_type": "code",
   "execution_count": 50,
   "id": "06ecad5f",
   "metadata": {
    "ExecuteTime": {
     "end_time": "2025-01-17T02:22:41.873516Z",
     "start_time": "2025-01-17T02:22:41.147328Z"
    }
   },
   "outputs": [],
   "source": [
    "lesson_info, original_results, textbook_results, favi_results = [], [], [], []\n",
    "\n",
    "for i,row in df.iterrows():\n",
    "    original_results.append(row[\"module\"]+\"\\n\"+row[\"原始生成结果\"])\n",
    "    textbook_results.append(row[\"module\"]+\"\\n\"+row[\"只带教材预测结果\"])\n",
    "    favi_results.append(row[\"module\"]+\"\\n\"+row[\"textbook_new\"])\n",
    "    \n",
    "    stages = teaching_mode_df[teaching_mode_df[\"教学模式（新名称）\"]==row[\"tch_mode\"]].iloc[0][\"教学环节\"]\n",
    "    lesson_info.append(\"_\".join([row[\"level\"], row[\"grade\"], row[\"version\"], row[\"subject\"], row[\"topic\"].replace(\"@@@@\",\", \")])+\"\\n\\n\"+stages)"
   ]
  },
  {
   "cell_type": "code",
   "execution_count": 51,
   "id": "3971915d",
   "metadata": {
    "ExecuteTime": {
     "end_time": "2025-01-17T02:22:42.643228Z",
     "start_time": "2025-01-17T02:22:42.634145Z"
    }
   },
   "outputs": [],
   "source": [
    "df[\"lesson_info\"] = lesson_info\n",
    "df[\"original_results\"] = original_results\n",
    "df[\"textbook_results\"] = textbook_results\n",
    "df[\"textbook_new\"] = favi_results"
   ]
  },
  {
   "cell_type": "code",
   "execution_count": 52,
   "id": "062c6bc1",
   "metadata": {
    "ExecuteTime": {
     "end_time": "2025-01-17T02:22:45.320820Z",
     "start_time": "2025-01-17T02:22:45.301123Z"
    }
   },
   "outputs": [],
   "source": [
    "# 定义一个自定义的聚合函数，用于合并字符串\n",
    "def merge_strings(series):\n",
    "    return '\\n\\n'.join(series)\n",
    "\n",
    "# 使用groupby和agg方法对每个组进行合并\n",
    "merged_df = df.groupby('lp_id').agg({\n",
    "    'original_results': merge_strings,\n",
    "    'textbook_results': merge_strings,\n",
    "    'textbook_new': merge_strings,\n",
    "    'lesson_info': 'first', \n",
    "    'subject': 'first'\n",
    "}).reset_index()"
   ]
  },
  {
   "cell_type": "code",
   "execution_count": 53,
   "id": "0c793fb4",
   "metadata": {
    "ExecuteTime": {
     "end_time": "2025-01-17T02:22:46.299113Z",
     "start_time": "2025-01-17T02:22:46.278204Z"
    }
   },
   "outputs": [
    {
     "data": {
      "text/html": [
       "<div>\n",
       "<style scoped>\n",
       "    .dataframe tbody tr th:only-of-type {\n",
       "        vertical-align: middle;\n",
       "    }\n",
       "\n",
       "    .dataframe tbody tr th {\n",
       "        vertical-align: top;\n",
       "    }\n",
       "\n",
       "    .dataframe thead th {\n",
       "        text-align: right;\n",
       "    }\n",
       "</style>\n",
       "<table border=\"1\" class=\"dataframe\">\n",
       "  <thead>\n",
       "    <tr style=\"text-align: right;\">\n",
       "      <th></th>\n",
       "      <th>lp_id</th>\n",
       "      <th>original_results</th>\n",
       "      <th>textbook_results</th>\n",
       "      <th>textbook_new</th>\n",
       "      <th>lesson_info</th>\n",
       "      <th>subject</th>\n",
       "    </tr>\n",
       "  </thead>\n",
       "  <tbody>\n",
       "    <tr>\n",
       "      <th>0</th>\n",
       "      <td>教案_147709</td>\n",
       "      <td>教学内容分析\\n本节内容是在初中八年级下册的物理课程中，我们将学习第十一章 \"功和机械能\"的...</td>\n",
       "      <td>教学内容分析\\n本节内容是在讲解机械能及其转化。首先，我们会介绍机械能的构成，包括动能、重力...</td>\n",
       "      <td>教学内容分析\\n本节内容是在初中物理科目中，八年级下册的第十一章——功和机械能的第4节——机...</td>\n",
       "      <td>初中_八年级下册_人教版_物理_第十一章  功和机械能, 第4节  机械能及其转化\\n\\n情...</td>\n",
       "      <td>物理</td>\n",
       "    </tr>\n",
       "    <tr>\n",
       "      <th>1</th>\n",
       "      <td>教案_147714</td>\n",
       "      <td>教学内容分析\\n本节内容是在初中八年级下册的物理课程中，我们将学习第十一章 \"功和机械能\" ...</td>\n",
       "      <td>教学内容分析\\n本节内容是在讲解机械能及其转化。首先，我们会介绍机械能的概念，包括动能、重力...</td>\n",
       "      <td>教学内容分析\\n本节内容是在人教版八年级下册物理第十一章第四节《机械能及其转化》。本节主要介...</td>\n",
       "      <td>初中_八年级下册_人教版_物理_第十一章  功和机械能, 第4节  机械能及其转化\\n\\n情...</td>\n",
       "      <td>物理</td>\n",
       "    </tr>\n",
       "    <tr>\n",
       "      <th>2</th>\n",
       "      <td>教案_147735</td>\n",
       "      <td>教学内容分析\\n本节内容是在初中八年级下册的物理课程中，我们将学习第十二章简单机械的第3节—...</td>\n",
       "      <td>教学内容分析\\n本节内容是在初中物理的八年级下册第十二章简单机械的第3节，主要讲解的是机械效...</td>\n",
       "      <td>教学内容分析\\n本节内容是在初中物理科目中，八年级下册的第十二章简单机械的第3节——机械效率...</td>\n",
       "      <td>初中_八年级下册_人教版_物理_第十二章  简单机械, 第3节  机械效率\\n\\n导入新课;...</td>\n",
       "      <td>物理</td>\n",
       "    </tr>\n",
       "    <tr>\n",
       "      <th>3</th>\n",
       "      <td>教案_147818</td>\n",
       "      <td>教学内容分析\\n本节内容是在初中物理科目中，八年级下册的第九章压强中的第3节大气压强。根据人...</td>\n",
       "      <td>教学内容分析\\n本节内容是在初中物理科目中，八年级下册的第九章压强中的第3节大气压强。本节课...</td>\n",
       "      <td>教学内容分析\\n本节内容是在初中物理科目中，八年级下册的第九章压强的第3节大气压强。我们将通...</td>\n",
       "      <td>初中_八年级下册（2012）_人教版_物理_第九章　压强, 第3节　大气压强\\n\\n导入新课...</td>\n",
       "      <td>物理</td>\n",
       "    </tr>\n",
       "    <tr>\n",
       "      <th>4</th>\n",
       "      <td>教案_147896</td>\n",
       "      <td>教学内容分析\\n本节内容是在初中物理科目中，八年级下册的第十一章——功和机械能的第4节——机...</td>\n",
       "      <td>教学内容分析\\n本节内容是在讲解机械能及其转化。首先，我们会介绍机械能的组成部分，包括动能、...</td>\n",
       "      <td>教学内容分析\\n本节内容是在人教版八年级下册物理第十一章第四节《机械能及其转化》。这一节课主...</td>\n",
       "      <td>初中_八年级下册（2012）_人教版_物理_第十一章　功和机械能, 第4节　机械能及其转化\\...</td>\n",
       "      <td>物理</td>\n",
       "    </tr>\n",
       "    <tr>\n",
       "      <th>...</th>\n",
       "      <td>...</td>\n",
       "      <td>...</td>\n",
       "      <td>...</td>\n",
       "      <td>...</td>\n",
       "      <td>...</td>\n",
       "      <td>...</td>\n",
       "    </tr>\n",
       "    <tr>\n",
       "      <th>195</th>\n",
       "      <td>教案_68980</td>\n",
       "      <td>教学内容分析\\n本节内容是在\"我们自己\"这一章节中，通过\"观察我们的身体\"这一课程，让二年级...</td>\n",
       "      <td>教学内容分析\\n本节内容是在探索和了解我们的身体。首先，我们会观察小组的一名同学，讨论我们的...</td>\n",
       "      <td>教学内容分析\\n本节内容是在\"观察我们的身体\"这一主题下，引导二年级的小学生们通过观察、比较...</td>\n",
       "      <td>小学_二年级下册_教科版义务教育版_科学_我们自己, 1 观察我们的身体\\n\\n情境创设，课...</td>\n",
       "      <td>科学</td>\n",
       "    </tr>\n",
       "    <tr>\n",
       "      <th>196</th>\n",
       "      <td>教案_70306</td>\n",
       "      <td>教学内容分析\\n本节内容是在第二单元 \"动物的特征\" 中，我们将学习 \"动物的分类\"。在这一...</td>\n",
       "      <td>教学内容分析\\n本节内容是在学习了动物的特征之后，进一步探讨动物的分类。我们将通过观察和记录...</td>\n",
       "      <td>教学内容分析\\n本节内容是在大象版小学科学三年级上册第二单元第三节《动物的分类》。通过前面两...</td>\n",
       "      <td>小学_三年级上册_大象版义务教育版_科学_第二单元 动物的特征, 3 动物的分类\\n\\n情境...</td>\n",
       "      <td>科学</td>\n",
       "    </tr>\n",
       "    <tr>\n",
       "      <th>197</th>\n",
       "      <td>教案_70319</td>\n",
       "      <td>教学内容分析\\n本节内容是在\"第四单元 流动的空气\"中，我们将学习\"空气的流动\"这一主题。在...</td>\n",
       "      <td>教学内容分析\\n本节内容是在探讨空气的流动。首先，我们会通过一个实验来模拟空气的流动。实验中...</td>\n",
       "      <td>教学内容分析\\n本节内容是在大象版义务教育版三年级上册科学第四单元《流动的空气》中的第三课《...</td>\n",
       "      <td>小学_三年级上册_大象版义务教育版_科学_第四单元 流动的空气, 3 空气的流动\\n\\n情境...</td>\n",
       "      <td>科学</td>\n",
       "    </tr>\n",
       "    <tr>\n",
       "      <th>198</th>\n",
       "      <td>教案_70681</td>\n",
       "      <td>教学内容分析\\n本节内容是在探索和理解土壤与动植物的关系中，特别关注蚂蚁的生活环境。我们将通...</td>\n",
       "      <td>教学内容分析\\n本节内容是在探索和了解蚂蚁的生活习性和它们的家。学生们将通过实地观察和提问，...</td>\n",
       "      <td>教学内容分析\\n本节内容是在探索和了解蚂蚁的生活习性和它们的家。学生们将通过观察和提问，学习...</td>\n",
       "      <td>小学_二年级下册_冀人版义务教育版_科学_土壤与动植物, 7 寻找蚂蚁的家\\n\\n导入新课;...</td>\n",
       "      <td>科学</td>\n",
       "    </tr>\n",
       "    <tr>\n",
       "      <th>199</th>\n",
       "      <td>教案_71060</td>\n",
       "      <td>教学内容分析\\n本节内容是在\"常见的力\"这一章节中，我们将学习\"弹力\"这一主题。在这一课程中...</td>\n",
       "      <td>教学内容分析\\n本节内容是在探讨弹力这一常见力的现象。首先，通过实际操作圆珠笔，让学生感受到...</td>\n",
       "      <td>教学内容分析\\n本节内容是在探究弹力的过程中，让学生通过实际操作，感受弹力的存在，并理解弹力...</td>\n",
       "      <td>小学_三年级上册_冀人版义务教育版_科学_常见的力, 16 弹力\\n\\n创设情境，引出问题;...</td>\n",
       "      <td>科学</td>\n",
       "    </tr>\n",
       "  </tbody>\n",
       "</table>\n",
       "<p>200 rows × 6 columns</p>\n",
       "</div>"
      ],
      "text/plain": [
       "         lp_id                                   original_results  \\\n",
       "0    教案_147709  教学内容分析\\n本节内容是在初中八年级下册的物理课程中，我们将学习第十一章 \"功和机械能\"的...   \n",
       "1    教案_147714  教学内容分析\\n本节内容是在初中八年级下册的物理课程中，我们将学习第十一章 \"功和机械能\" ...   \n",
       "2    教案_147735  教学内容分析\\n本节内容是在初中八年级下册的物理课程中，我们将学习第十二章简单机械的第3节—...   \n",
       "3    教案_147818  教学内容分析\\n本节内容是在初中物理科目中，八年级下册的第九章压强中的第3节大气压强。根据人...   \n",
       "4    教案_147896  教学内容分析\\n本节内容是在初中物理科目中，八年级下册的第十一章——功和机械能的第4节——机...   \n",
       "..         ...                                                ...   \n",
       "195   教案_68980  教学内容分析\\n本节内容是在\"我们自己\"这一章节中，通过\"观察我们的身体\"这一课程，让二年级...   \n",
       "196   教案_70306  教学内容分析\\n本节内容是在第二单元 \"动物的特征\" 中，我们将学习 \"动物的分类\"。在这一...   \n",
       "197   教案_70319  教学内容分析\\n本节内容是在\"第四单元 流动的空气\"中，我们将学习\"空气的流动\"这一主题。在...   \n",
       "198   教案_70681  教学内容分析\\n本节内容是在探索和理解土壤与动植物的关系中，特别关注蚂蚁的生活环境。我们将通...   \n",
       "199   教案_71060  教学内容分析\\n本节内容是在\"常见的力\"这一章节中，我们将学习\"弹力\"这一主题。在这一课程中...   \n",
       "\n",
       "                                      textbook_results  \\\n",
       "0    教学内容分析\\n本节内容是在讲解机械能及其转化。首先，我们会介绍机械能的构成，包括动能、重力...   \n",
       "1    教学内容分析\\n本节内容是在讲解机械能及其转化。首先，我们会介绍机械能的概念，包括动能、重力...   \n",
       "2    教学内容分析\\n本节内容是在初中物理的八年级下册第十二章简单机械的第3节，主要讲解的是机械效...   \n",
       "3    教学内容分析\\n本节内容是在初中物理科目中，八年级下册的第九章压强中的第3节大气压强。本节课...   \n",
       "4    教学内容分析\\n本节内容是在讲解机械能及其转化。首先，我们会介绍机械能的组成部分，包括动能、...   \n",
       "..                                                 ...   \n",
       "195  教学内容分析\\n本节内容是在探索和了解我们的身体。首先，我们会观察小组的一名同学，讨论我们的...   \n",
       "196  教学内容分析\\n本节内容是在学习了动物的特征之后，进一步探讨动物的分类。我们将通过观察和记录...   \n",
       "197  教学内容分析\\n本节内容是在探讨空气的流动。首先，我们会通过一个实验来模拟空气的流动。实验中...   \n",
       "198  教学内容分析\\n本节内容是在探索和了解蚂蚁的生活习性和它们的家。学生们将通过实地观察和提问，...   \n",
       "199  教学内容分析\\n本节内容是在探讨弹力这一常见力的现象。首先，通过实际操作圆珠笔，让学生感受到...   \n",
       "\n",
       "                                          textbook_new  \\\n",
       "0    教学内容分析\\n本节内容是在初中物理科目中，八年级下册的第十一章——功和机械能的第4节——机...   \n",
       "1    教学内容分析\\n本节内容是在人教版八年级下册物理第十一章第四节《机械能及其转化》。本节主要介...   \n",
       "2    教学内容分析\\n本节内容是在初中物理科目中，八年级下册的第十二章简单机械的第3节——机械效率...   \n",
       "3    教学内容分析\\n本节内容是在初中物理科目中，八年级下册的第九章压强的第3节大气压强。我们将通...   \n",
       "4    教学内容分析\\n本节内容是在人教版八年级下册物理第十一章第四节《机械能及其转化》。这一节课主...   \n",
       "..                                                 ...   \n",
       "195  教学内容分析\\n本节内容是在\"观察我们的身体\"这一主题下，引导二年级的小学生们通过观察、比较...   \n",
       "196  教学内容分析\\n本节内容是在大象版小学科学三年级上册第二单元第三节《动物的分类》。通过前面两...   \n",
       "197  教学内容分析\\n本节内容是在大象版义务教育版三年级上册科学第四单元《流动的空气》中的第三课《...   \n",
       "198  教学内容分析\\n本节内容是在探索和了解蚂蚁的生活习性和它们的家。学生们将通过观察和提问，学习...   \n",
       "199  教学内容分析\\n本节内容是在探究弹力的过程中，让学生通过实际操作，感受弹力的存在，并理解弹力...   \n",
       "\n",
       "                                           lesson_info subject  \n",
       "0    初中_八年级下册_人教版_物理_第十一章  功和机械能, 第4节  机械能及其转化\\n\\n情...      物理  \n",
       "1    初中_八年级下册_人教版_物理_第十一章  功和机械能, 第4节  机械能及其转化\\n\\n情...      物理  \n",
       "2    初中_八年级下册_人教版_物理_第十二章  简单机械, 第3节  机械效率\\n\\n导入新课;...      物理  \n",
       "3    初中_八年级下册（2012）_人教版_物理_第九章　压强, 第3节　大气压强\\n\\n导入新课...      物理  \n",
       "4    初中_八年级下册（2012）_人教版_物理_第十一章　功和机械能, 第4节　机械能及其转化\\...      物理  \n",
       "..                                                 ...     ...  \n",
       "195  小学_二年级下册_教科版义务教育版_科学_我们自己, 1 观察我们的身体\\n\\n情境创设，课...      科学  \n",
       "196  小学_三年级上册_大象版义务教育版_科学_第二单元 动物的特征, 3 动物的分类\\n\\n情境...      科学  \n",
       "197  小学_三年级上册_大象版义务教育版_科学_第四单元 流动的空气, 3 空气的流动\\n\\n情境...      科学  \n",
       "198  小学_二年级下册_冀人版义务教育版_科学_土壤与动植物, 7 寻找蚂蚁的家\\n\\n导入新课;...      科学  \n",
       "199  小学_三年级上册_冀人版义务教育版_科学_常见的力, 16 弹力\\n\\n创设情境，引出问题;...      科学  \n",
       "\n",
       "[200 rows x 6 columns]"
      ]
     },
     "execution_count": 53,
     "metadata": {},
     "output_type": "execute_result"
    }
   ],
   "source": [
    "merged_df"
   ]
  },
  {
   "cell_type": "code",
   "execution_count": 54,
   "id": "a5de887f",
   "metadata": {
    "ExecuteTime": {
     "end_time": "2025-01-17T02:22:50.423006Z",
     "start_time": "2025-01-17T02:22:50.416630Z"
    }
   },
   "outputs": [
    {
     "data": {
      "text/plain": [
       "True"
      ]
     },
     "execution_count": 54,
     "metadata": {},
     "output_type": "execute_result"
    }
   ],
   "source": [
    "pred_results[0][\"conversations\"][1][\"value\"] == df.iloc[0][\"textbook_new\"].strip(\"教学内容分析\\n\")"
   ]
  },
  {
   "cell_type": "code",
   "execution_count": 55,
   "id": "434189d1",
   "metadata": {
    "ExecuteTime": {
     "end_time": "2025-01-17T02:22:53.999289Z",
     "start_time": "2025-01-17T02:22:53.988597Z"
    }
   },
   "outputs": [
    {
     "data": {
      "text/html": [
       "<div>\n",
       "<style scoped>\n",
       "    .dataframe tbody tr th:only-of-type {\n",
       "        vertical-align: middle;\n",
       "    }\n",
       "\n",
       "    .dataframe tbody tr th {\n",
       "        vertical-align: top;\n",
       "    }\n",
       "\n",
       "    .dataframe thead th {\n",
       "        text-align: right;\n",
       "    }\n",
       "</style>\n",
       "<table border=\"1\" class=\"dataframe\">\n",
       "  <thead>\n",
       "    <tr style=\"text-align: right;\">\n",
       "      <th></th>\n",
       "      <th>lp_id</th>\n",
       "      <th>original_results</th>\n",
       "      <th>textbook_results</th>\n",
       "      <th>textbook_new</th>\n",
       "      <th>lesson_info</th>\n",
       "      <th>subject</th>\n",
       "    </tr>\n",
       "  </thead>\n",
       "  <tbody>\n",
       "    <tr>\n",
       "      <th>107</th>\n",
       "      <td>教案_223059</td>\n",
       "      <td>教学内容分析\\n本节内容是在第五章透镜及其应用的基础上，进一步探讨眼睛和眼镜的相关知识。首先...</td>\n",
       "      <td>教学内容分析\\n本节内容是在讲解透镜及其应用的基础上，进一步深入探讨眼睛和眼镜的相关知识。首...</td>\n",
       "      <td>教学内容分析\\n本节内容是在讲解眼睛和眼镜的相关知识。首先，我们会详细解析眼睛的结构以及视物...</td>\n",
       "      <td>初中_八年级上_人教版_物理_第五章　透镜及其应用, 第4节　眼睛和眼镜\\n\\n创设情境，引...</td>\n",
       "      <td>物理</td>\n",
       "    </tr>\n",
       "  </tbody>\n",
       "</table>\n",
       "</div>"
      ],
      "text/plain": [
       "         lp_id                                   original_results  \\\n",
       "107  教案_223059  教学内容分析\\n本节内容是在第五章透镜及其应用的基础上，进一步探讨眼睛和眼镜的相关知识。首先...   \n",
       "\n",
       "                                      textbook_results  \\\n",
       "107  教学内容分析\\n本节内容是在讲解透镜及其应用的基础上，进一步深入探讨眼睛和眼镜的相关知识。首...   \n",
       "\n",
       "                                          textbook_new  \\\n",
       "107  教学内容分析\\n本节内容是在讲解眼睛和眼镜的相关知识。首先，我们会详细解析眼睛的结构以及视物...   \n",
       "\n",
       "                                           lesson_info subject  \n",
       "107  初中_八年级上_人教版_物理_第五章　透镜及其应用, 第4节　眼睛和眼镜\\n\\n创设情境，引...      物理  "
      ]
     },
     "execution_count": 55,
     "metadata": {},
     "output_type": "execute_result"
    }
   ],
   "source": [
    "merged_df[merged_df[\"lp_id\"]==\"教案_223059\"] "
   ]
  },
  {
   "cell_type": "code",
   "execution_count": 56,
   "id": "824a26ce",
   "metadata": {
    "ExecuteTime": {
     "end_time": "2025-01-17T02:23:22.268499Z",
     "start_time": "2025-01-17T02:23:21.690576Z"
    }
   },
   "outputs": [],
   "source": [
    "merged_df.to_csv(\"/mnt/pfs_yq/zitao_team/shuyanwong/FaviComp/data/anno_data/favi_0_0_results.csv\")"
   ]
  }
 ],
 "metadata": {
  "kernelspec": {
   "display_name": "Python 3 (ipykernel)",
   "language": "python",
   "name": "python3"
  },
  "language_info": {
   "codemirror_mode": {
    "name": "ipython",
    "version": 3
   },
   "file_extension": ".py",
   "mimetype": "text/x-python",
   "name": "python",
   "nbconvert_exporter": "python",
   "pygments_lexer": "ipython3",
   "version": "3.6.5"
  },
  "toc": {
   "base_numbering": 1,
   "nav_menu": {},
   "number_sections": true,
   "sideBar": true,
   "skip_h1_title": false,
   "title_cell": "Table of Contents",
   "title_sidebar": "Contents",
   "toc_cell": false,
   "toc_position": {},
   "toc_section_display": true,
   "toc_window_display": false
  }
 },
 "nbformat": 4,
 "nbformat_minor": 5
}
