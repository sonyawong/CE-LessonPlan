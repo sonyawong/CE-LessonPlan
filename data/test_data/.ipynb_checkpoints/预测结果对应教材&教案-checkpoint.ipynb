{
 "cells": [
  {
   "cell_type": "code",
   "execution_count": 1,
   "id": "8f8bd7bd",
   "metadata": {
    "ExecuteTime": {
     "end_time": "2025-01-07T10:38:11.825565Z",
     "start_time": "2025-01-07T10:38:10.706182Z"
    }
   },
   "outputs": [],
   "source": [
    "import json\n",
    "import pandas as pd"
   ]
  },
  {
   "cell_type": "code",
   "execution_count": 2,
   "id": "4d91aee4",
   "metadata": {
    "ExecuteTime": {
     "end_time": "2025-01-07T10:39:25.572780Z",
     "start_time": "2025-01-07T10:39:25.215594Z"
    }
   },
   "outputs": [],
   "source": [
    "df = pd.read_csv(\"eval_lesson_plan.csv\")"
   ]
  },
  {
   "cell_type": "code",
   "execution_count": 3,
   "id": "9618e089",
   "metadata": {
    "ExecuteTime": {
     "end_time": "2025-01-07T10:39:29.484481Z",
     "start_time": "2025-01-07T10:39:29.455854Z"
    }
   },
   "outputs": [
    {
     "data": {
      "text/html": [
       "<div>\n",
       "<style scoped>\n",
       "    .dataframe tbody tr th:only-of-type {\n",
       "        vertical-align: middle;\n",
       "    }\n",
       "\n",
       "    .dataframe tbody tr th {\n",
       "        vertical-align: top;\n",
       "    }\n",
       "\n",
       "    .dataframe thead th {\n",
       "        text-align: right;\n",
       "    }\n",
       "</style>\n",
       "<table border=\"1\" class=\"dataframe\">\n",
       "  <thead>\n",
       "    <tr style=\"text-align: right;\">\n",
       "      <th></th>\n",
       "      <th>Unnamed: 0</th>\n",
       "      <th>lp_id</th>\n",
       "      <th>tch_mode</th>\n",
       "      <th>module</th>\n",
       "      <th>grade</th>\n",
       "      <th>subject</th>\n",
       "      <th>version</th>\n",
       "      <th>level</th>\n",
       "      <th>topic</th>\n",
       "      <th>textbook</th>\n",
       "      <th>ctxs</th>\n",
       "      <th>原始生成结果</th>\n",
       "      <th>只带教材预测结果</th>\n",
       "    </tr>\n",
       "  </thead>\n",
       "  <tbody>\n",
       "    <tr>\n",
       "      <th>0</th>\n",
       "      <td>0</td>\n",
       "      <td>教案_223059</td>\n",
       "      <td>基于问题的教学</td>\n",
       "      <td>教学内容分析</td>\n",
       "      <td>八年级上</td>\n",
       "      <td>物理</td>\n",
       "      <td>人教版</td>\n",
       "      <td>初中</td>\n",
       "      <td>第五章　透镜及其应用@@@@第4节　眼睛和眼镜</td>\n",
       "      <td>主要内容：\\n\\n眼睛\\n\\n你知道眼睛是如何看到物体的吗？眼球好像一架照相机。它的结构如图...</td>\n",
       "      <td>['&lt;h1&gt;1.眼睛结构及视物原理&lt;/h1&gt;讲述眼睛的结构、视物特点，和照相机对比异同点。\\...</td>\n",
       "      <td>本节内容是在第五章透镜及其应用的基础上，进一步探讨眼睛和眼镜的相关知识。首先，我们将介绍人眼...</td>\n",
       "      <td>本节内容是在讲解透镜及其应用的基础上，进一步深入探讨眼睛和眼镜的相关知识。首先，我们会详细解...</td>\n",
       "    </tr>\n",
       "    <tr>\n",
       "      <th>1</th>\n",
       "      <td>1</td>\n",
       "      <td>教案_223059</td>\n",
       "      <td>基于问题的教学</td>\n",
       "      <td>学情分析</td>\n",
       "      <td>八年级上</td>\n",
       "      <td>物理</td>\n",
       "      <td>人教版</td>\n",
       "      <td>初中</td>\n",
       "      <td>第五章　透镜及其应用@@@@第4节　眼睛和眼镜</td>\n",
       "      <td>主要内容：\\n\\n眼睛\\n\\n你知道眼睛是如何看到物体的吗？眼球好像一架照相机。它的结构如图...</td>\n",
       "      <td>['学生刚刚学过的凸透镜成像规律的知识为本节课的研究作了很好的铺垫。但学生对于眼球的调焦，以...</td>\n",
       "      <td>学生在前面学习了透镜的基础知识,对生活中很多光学仪器中用到的透镜有了初步的了解,但对透镜在生...</td>\n",
       "      <td>&lt;h1&gt;前置知识点&lt;/h1&gt;在学习本节课程之前，学生应已经掌握了关于光的基本知识，包括光的传...</td>\n",
       "    </tr>\n",
       "  </tbody>\n",
       "</table>\n",
       "</div>"
      ],
      "text/plain": [
       "   Unnamed: 0      lp_id tch_mode  module grade subject version level  \\\n",
       "0           0  教案_223059  基于问题的教学  教学内容分析  八年级上      物理     人教版    初中   \n",
       "1           1  教案_223059  基于问题的教学    学情分析  八年级上      物理     人教版    初中   \n",
       "\n",
       "                     topic                                           textbook  \\\n",
       "0  第五章　透镜及其应用@@@@第4节　眼睛和眼镜  主要内容：\\n\\n眼睛\\n\\n你知道眼睛是如何看到物体的吗？眼球好像一架照相机。它的结构如图...   \n",
       "1  第五章　透镜及其应用@@@@第4节　眼睛和眼镜  主要内容：\\n\\n眼睛\\n\\n你知道眼睛是如何看到物体的吗？眼球好像一架照相机。它的结构如图...   \n",
       "\n",
       "                                                ctxs  \\\n",
       "0  ['<h1>1.眼睛结构及视物原理</h1>讲述眼睛的结构、视物特点，和照相机对比异同点。\\...   \n",
       "1  ['学生刚刚学过的凸透镜成像规律的知识为本节课的研究作了很好的铺垫。但学生对于眼球的调焦，以...   \n",
       "\n",
       "                                              原始生成结果  \\\n",
       "0  本节内容是在第五章透镜及其应用的基础上，进一步探讨眼睛和眼镜的相关知识。首先，我们将介绍人眼...   \n",
       "1  学生在前面学习了透镜的基础知识,对生活中很多光学仪器中用到的透镜有了初步的了解,但对透镜在生...   \n",
       "\n",
       "                                            只带教材预测结果  \n",
       "0  本节内容是在讲解透镜及其应用的基础上，进一步深入探讨眼睛和眼镜的相关知识。首先，我们会详细解...  \n",
       "1  <h1>前置知识点</h1>在学习本节课程之前，学生应已经掌握了关于光的基本知识，包括光的传...  "
      ]
     },
     "execution_count": 3,
     "metadata": {},
     "output_type": "execute_result"
    }
   ],
   "source": [
    "df[:2]"
   ]
  },
  {
   "cell_type": "code",
   "execution_count": 8,
   "id": "68d6c799",
   "metadata": {
    "ExecuteTime": {
     "end_time": "2025-01-07T10:42:04.185512Z",
     "start_time": "2025-01-07T10:42:04.079052Z"
    }
   },
   "outputs": [
    {
     "data": {
      "text/plain": [
       "1400"
      ]
     },
     "execution_count": 8,
     "metadata": {},
     "output_type": "execute_result"
    }
   ],
   "source": [
    "favi_results = []\n",
    "\n",
    "with open(\"eval_lesson_plan_0106_favi_outputs.jsonl\",\"r\") as f:\n",
    "    favi_opt = json.load(f)\n",
    "    \n",
    "    for one_opt in favi_opt:\n",
    "        favi_results.append(one_opt[\"conversations\"][1][\"value\"])\n",
    "len(favi_results)"
   ]
  },
  {
   "cell_type": "code",
   "execution_count": 6,
   "id": "c5e14b9e",
   "metadata": {
    "ExecuteTime": {
     "end_time": "2025-01-07T10:40:19.036758Z",
     "start_time": "2025-01-07T10:40:19.031776Z"
    }
   },
   "outputs": [
    {
     "data": {
      "text/plain": [
       "1400"
      ]
     },
     "execution_count": 6,
     "metadata": {},
     "output_type": "execute_result"
    }
   ],
   "source": [
    "len(favi_opt)"
   ]
  },
  {
   "cell_type": "code",
   "execution_count": 11,
   "id": "8ae003e0",
   "metadata": {
    "ExecuteTime": {
     "end_time": "2025-01-07T10:43:24.878355Z",
     "start_time": "2025-01-07T10:43:24.873995Z"
    }
   },
   "outputs": [],
   "source": [
    "df[\"整合结果\"] = favi_results"
   ]
  },
  {
   "cell_type": "code",
   "execution_count": 12,
   "id": "f56533ff",
   "metadata": {
    "ExecuteTime": {
     "end_time": "2025-01-07T10:43:25.695249Z",
     "start_time": "2025-01-07T10:43:25.509250Z"
    }
   },
   "outputs": [],
   "source": [
    "df.to_csv(\"eval_lesson_plan_0106.csv\")"
   ]
  },
  {
   "cell_type": "code",
   "execution_count": 1,
   "id": "5a654f07",
   "metadata": {
    "ExecuteTime": {
     "end_time": "2025-01-08T03:41:53.971856Z",
     "start_time": "2025-01-08T03:41:50.396646Z"
    }
   },
   "outputs": [],
   "source": [
    "import torch"
   ]
  },
  {
   "cell_type": "code",
   "execution_count": 4,
   "id": "a319f92e",
   "metadata": {
    "ExecuteTime": {
     "end_time": "2025-01-08T03:42:13.726674Z",
     "start_time": "2025-01-08T03:42:13.721711Z"
    }
   },
   "outputs": [
    {
     "data": {
      "text/plain": [
       "tensor([[-0.9653, -0.0796,  0.2079],\n",
       "        [ 0.6944,  0.3794, -0.1900]])"
      ]
     },
     "execution_count": 4,
     "metadata": {},
     "output_type": "execute_result"
    }
   ],
   "source": [
    "a = torch.randn(2,3)\n",
    "a"
   ]
  },
  {
   "cell_type": "code",
   "execution_count": 7,
   "id": "b341edad",
   "metadata": {
    "ExecuteTime": {
     "end_time": "2025-01-08T03:42:27.274614Z",
     "start_time": "2025-01-08T03:42:27.269598Z"
    }
   },
   "outputs": [
    {
     "data": {
      "text/plain": [
       "tensor([-0.0796,  0.3794])"
      ]
     },
     "execution_count": 7,
     "metadata": {},
     "output_type": "execute_result"
    }
   ],
   "source": [
    "a[:, 1]"
   ]
  }
 ],
 "metadata": {
  "kernelspec": {
   "display_name": "tal-llm",
   "language": "python",
   "name": "tal-llm"
  },
  "language_info": {
   "codemirror_mode": {
    "name": "ipython",
    "version": 3
   },
   "file_extension": ".py",
   "mimetype": "text/x-python",
   "name": "python",
   "nbconvert_exporter": "python",
   "pygments_lexer": "ipython3",
   "version": "3.8.16"
  },
  "toc": {
   "base_numbering": 1,
   "nav_menu": {},
   "number_sections": true,
   "sideBar": true,
   "skip_h1_title": false,
   "title_cell": "Table of Contents",
   "title_sidebar": "Contents",
   "toc_cell": false,
   "toc_position": {},
   "toc_section_display": true,
   "toc_window_display": false
  }
 },
 "nbformat": 4,
 "nbformat_minor": 5
}
